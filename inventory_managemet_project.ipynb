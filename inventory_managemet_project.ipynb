{
 "cells": [
  {
   "cell_type": "markdown",
   "id": "3ebb0749",
   "metadata": {},
   "source": [
    "# Inventory management project"
   ]
  },
  {
   "cell_type": "code",
   "execution_count": 2,
   "id": "30932e18",
   "metadata": {},
   "outputs": [],
   "source": [
    "import pandas as pd"
   ]
  },
  {
   "cell_type": "code",
   "execution_count": 22,
   "id": "b2836fc7",
   "metadata": {},
   "outputs": [],
   "source": [
    "# load data\n",
    "\n",
    "df_infos = pd.read_csv(\"infos.csv\", sep = \"|\")\n",
    "df_items = pd.read_csv(\"items.csv\", sep = \"|\")\n",
    "df_orders = pd.read_csv(\"orders.csv.zip\", sep = \"|\", compression=\"zip\")"
   ]
  },
  {
   "cell_type": "code",
   "execution_count": 5,
   "id": "d5360dcd",
   "metadata": {},
   "outputs": [],
   "source": [
    "# fix datetime format for transaction time\n",
    "\n",
    "df_orders['time'] = pd.to_datetime(df_orders['time'])"
   ]
  },
  {
   "cell_type": "code",
   "execution_count": null,
   "id": "972e7526",
   "metadata": {},
   "outputs": [
    {
     "data": {
      "text/plain": [
       "190"
      ]
     },
     "execution_count": 14,
     "metadata": {},
     "output_type": "execute_result"
    }
   ],
   "source": [
    "# in df_infos column promotion there are cells with more than one date, separated by a comma\n",
    "# how many such are there?\n",
    "\n",
    "(df_infos[\"promotion\"].str.len() > 10).sum()\n",
    "\n",
    "# 190\n",
    "# I leave it as text for now, we should handle it later"
   ]
  },
  {
   "cell_type": "code",
   "execution_count": 17,
   "id": "1ea27e0d",
   "metadata": {},
   "outputs": [
    {
     "data": {
      "application/vnd.microsoft.datawrangler.viewer.v0+json": {
       "columns": [
        {
         "name": "index",
         "rawType": "int64",
         "type": "integer"
        },
        {
         "name": "promotion",
         "rawType": "object",
         "type": "string"
        }
       ],
       "ref": "971271ee-8fbe-4c08-be5d-21d184b6294e",
       "rows": [
        [
         "34",
         "2018-07-01,2018-07-02,2018-07-13"
        ],
        [
         "74",
         "2018-07-05,2018-07-11"
        ],
        [
         "124",
         "2018-07-08,2018-07-13"
        ],
        [
         "125",
         "2018-07-05,2018-07-11"
        ],
        [
         "353",
         "2018-07-08,2018-07-11"
        ],
        [
         "356",
         "2018-06-30,2018-07-13"
        ],
        [
         "501",
         "2018-06-30,2018-07-01,2018-07-11"
        ],
        [
         "508",
         "2018-07-08,2018-07-11"
        ],
        [
         "509",
         "2018-07-08,2018-07-13"
        ],
        [
         "580",
         "2018-07-06,2018-07-13"
        ],
        [
         "581",
         "2018-07-06,2018-07-10"
        ],
        [
         "630",
         "2018-07-08,2018-07-10"
        ],
        [
         "672",
         "2018-06-30,2018-07-04"
        ],
        [
         "679",
         "2018-07-01,2018-07-10"
        ],
        [
         "828",
         "2018-07-08,2018-07-13"
        ],
        [
         "1007",
         "2018-06-30,2018-07-01"
        ],
        [
         "1073",
         "2018-07-08,2018-07-11"
        ],
        [
         "1336",
         "2018-07-04,2018-07-05,2018-07-06"
        ],
        [
         "1339",
         "2018-07-04,2018-07-05"
        ],
        [
         "1346",
         "2018-07-04,2018-07-05"
        ],
        [
         "1395",
         "2018-07-06,2018-07-13"
        ],
        [
         "1564",
         "2018-07-08,2018-07-11"
        ],
        [
         "1568",
         "2018-06-30,2018-07-13"
        ],
        [
         "1570",
         "2018-06-30,2018-07-13"
        ],
        [
         "1572",
         "2018-07-01,2018-07-06"
        ],
        [
         "1605",
         "2018-07-08,2018-07-13"
        ],
        [
         "1606",
         "2018-06-30,2018-07-06"
        ],
        [
         "1650",
         "2018-07-08,2018-07-11"
        ],
        [
         "1664",
         "2018-07-05,2018-07-13"
        ],
        [
         "1709",
         "2018-07-01,2018-07-02"
        ],
        [
         "1787",
         "2018-07-01,2018-07-06"
        ],
        [
         "1879",
         "2018-07-04,2018-07-05,2018-07-06"
        ],
        [
         "1886",
         "2018-07-04,2018-07-05"
        ],
        [
         "2021",
         "2018-07-04,2018-07-05"
        ],
        [
         "2025",
         "2018-07-04,2018-07-05,2018-07-06"
        ],
        [
         "2035",
         "2018-07-04,2018-07-05"
        ],
        [
         "2039",
         "2018-07-04,2018-07-05,2018-07-06"
        ],
        [
         "2169",
         "2018-07-03,2018-07-04,2018-07-05"
        ],
        [
         "2179",
         "2018-07-03,2018-07-04,2018-07-06"
        ],
        [
         "2181",
         "2018-07-03,2018-07-04"
        ],
        [
         "2217",
         "2018-07-04,2018-07-05"
        ],
        [
         "2359",
         "2018-07-03,2018-07-05"
        ],
        [
         "2520",
         "2018-07-04,2018-07-09"
        ],
        [
         "2603",
         "2018-07-04,2018-07-05"
        ],
        [
         "2772",
         "2018-07-04,2018-07-06"
        ],
        [
         "2854",
         "2018-07-04,2018-07-05,2018-07-06"
        ],
        [
         "3125",
         "2018-07-02,2018-07-04"
        ],
        [
         "3298",
         "2018-07-04,2018-07-06"
        ],
        [
         "3299",
         "2018-07-03,2018-07-04"
        ],
        [
         "3303",
         "2018-07-02,2018-07-04"
        ]
       ],
       "shape": {
        "columns": 1,
        "rows": 190
       }
      },
      "text/plain": [
       "34       2018-07-01,2018-07-02,2018-07-13\n",
       "74                  2018-07-05,2018-07-11\n",
       "124                 2018-07-08,2018-07-13\n",
       "125                 2018-07-05,2018-07-11\n",
       "353                 2018-07-08,2018-07-11\n",
       "                       ...               \n",
       "9996                2018-07-02,2018-07-05\n",
       "10093               2018-07-05,2018-07-09\n",
       "10111    2018-07-04,2018-07-05,2018-07-06\n",
       "10176               2018-07-01,2018-07-10\n",
       "10318               2018-07-05,2018-07-06\n",
       "Name: promotion, Length: 190, dtype: object"
      ]
     },
     "execution_count": 17,
     "metadata": {},
     "output_type": "execute_result"
    }
   ],
   "source": [
    "df_infos[\"promotion\"][df_infos[\"promotion\"].str.len() > 10]"
   ]
  },
  {
   "cell_type": "code",
   "execution_count": null,
   "id": "c3fbe56b",
   "metadata": {},
   "outputs": [],
   "source": []
  }
 ],
 "metadata": {
  "kernelspec": {
   "display_name": "base",
   "language": "python",
   "name": "python3"
  },
  "language_info": {
   "codemirror_mode": {
    "name": "ipython",
    "version": 3
   },
   "file_extension": ".py",
   "mimetype": "text/x-python",
   "name": "python",
   "nbconvert_exporter": "python",
   "pygments_lexer": "ipython3",
   "version": "3.12.7"
  }
 },
 "nbformat": 4,
 "nbformat_minor": 5
}
