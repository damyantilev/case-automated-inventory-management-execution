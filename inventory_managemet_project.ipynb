{
 "cells": [
  {
   "cell_type": "markdown",
   "id": "3ebb0749",
   "metadata": {},
   "source": [
    "# Inventory management project"
   ]
  },
  {
   "cell_type": "markdown",
   "id": "8bbb4e04",
   "metadata": {},
   "source": [
    "## Data exploration and preparation"
   ]
  },
  {
   "cell_type": "markdown",
   "id": "c37e3e88",
   "metadata": {},
   "source": [
    "### Data loading"
   ]
  },
  {
   "cell_type": "code",
   "execution_count": 37,
   "id": "30932e18",
   "metadata": {},
   "outputs": [],
   "source": [
    "import pandas as pd\n",
    "import matplotlib.pyplot as plt\n",
    "import numpy as np"
   ]
  },
  {
   "cell_type": "code",
   "execution_count": 38,
   "id": "b2836fc7",
   "metadata": {},
   "outputs": [],
   "source": [
    "# load data\n",
    "\n",
    "df_infos = pd.read_csv(\"infos.csv\", sep = \"|\")\n",
    "df_items = pd.read_csv(\"items.csv\", sep = \"|\")\n",
    "df_orders = pd.read_csv(\"orders.csv.zip\", sep = \"|\", compression=\"zip\")"
   ]
  },
  {
   "cell_type": "markdown",
   "id": "5524485d",
   "metadata": {},
   "source": [
    "### df_orders preparation"
   ]
  },
  {
   "cell_type": "code",
   "execution_count": 39,
   "id": "d5360dcd",
   "metadata": {},
   "outputs": [],
   "source": [
    "# fix datetime format for transaction time\n",
    "\n",
    "df_orders['time'] = pd.to_datetime(df_orders['time'])"
   ]
  },
  {
   "cell_type": "code",
   "execution_count": 40,
   "id": "ebff7530",
   "metadata": {},
   "outputs": [
    {
     "name": "stdout",
     "output_type": "stream",
     "text": [
      "<class 'pandas.core.frame.DataFrame'>\n",
      "RangeIndex: 2181955 entries, 0 to 2181954\n",
      "Data columns (total 5 columns):\n",
      " #   Column      Dtype         \n",
      "---  ------      -----         \n",
      " 0   time        datetime64[ns]\n",
      " 1   transactID  int64         \n",
      " 2   itemID      int64         \n",
      " 3   order       int64         \n",
      " 4   salesPrice  float64       \n",
      "dtypes: datetime64[ns](1), float64(1), int64(3)\n",
      "memory usage: 83.2 MB\n"
     ]
    }
   ],
   "source": [
    "df_orders.info()"
   ]
  },
  {
   "cell_type": "code",
   "execution_count": 41,
   "id": "98b7d06b",
   "metadata": {},
   "outputs": [],
   "source": [
    "# add one column which is only with the date, no time\n",
    "\n",
    "df_orders['date'] = df_orders['time'].dt.date"
   ]
  },
  {
   "cell_type": "code",
   "execution_count": 42,
   "id": "fef63620",
   "metadata": {},
   "outputs": [],
   "source": [
    "# there seem to be 0 price transactions\n",
    "\n",
    "len(df_orders[df_orders[\"salesPrice\"]==0])/len(df_orders)*100\n",
    "\n",
    "# they are 0.02% of all transactions, it is best to delete them instead of thinking how to handle them\n",
    "\n",
    "df_orders = df_orders[df_orders[\"salesPrice\"]!=0]"
   ]
  },
  {
   "cell_type": "code",
   "execution_count": 43,
   "id": "8abf6da1",
   "metadata": {},
   "outputs": [
    {
     "data": {
      "text/plain": [
       "94.05"
      ]
     },
     "execution_count": 43,
     "metadata": {},
     "output_type": "execute_result"
    }
   ],
   "source": [
    "# do all items have an order in the period we have?\n",
    "\n",
    "round(df_orders[\"itemID\"].nunique()/len(df_items)*100, 2)\n",
    "\n",
    "# 94.05% of all items have an order in the period"
   ]
  },
  {
   "cell_type": "code",
   "execution_count": 44,
   "id": "149e679c",
   "metadata": {},
   "outputs": [],
   "source": [
    "# which transactions are performed on a discounted price?\n",
    "# we assume the following: a transaction is marked as having a promotion if, for the same item, somewhere else in the table there is\n",
    "# another transaction performed on a lower price\n",
    "\n",
    "# Step 1: Get the maximum price per itemID\n",
    "max_price_per_item = df_orders.groupby('itemID')['salesPrice'].transform('max')\n",
    "\n",
    "# Step 2: Compare each row's price to the max price for that item\n",
    "df_orders['promotion'] = df_orders['salesPrice'] < max_price_per_item\n",
    "\n",
    "# Step 3: Convert boolean to \"yes\"/\"no\"\n",
    "df_orders['promotion'] = df_orders['promotion'].map({True: 1, False: 0})"
   ]
  },
  {
   "cell_type": "code",
   "execution_count": 45,
   "id": "1874c69d",
   "metadata": {},
   "outputs": [
    {
     "data": {
      "application/vnd.microsoft.datawrangler.viewer.v0+json": {
       "columns": [
        {
         "name": "index",
         "rawType": "int64",
         "type": "integer"
        },
        {
         "name": "itemID",
         "rawType": "int64",
         "type": "integer"
        },
        {
         "name": "date",
         "rawType": "object",
         "type": "unknown"
        },
        {
         "name": "unique_price_count",
         "rawType": "int64",
         "type": "integer"
        }
       ],
       "ref": "6ff514fe-0af0-4a2c-bff2-f7ff373212a7",
       "rows": [
        [
         "82",
         "6",
         "2018-05-30",
         "2"
        ],
        [
         "188",
         "15",
         "2018-01-27",
         "2"
        ],
        [
         "381",
         "27",
         "2018-02-17",
         "2"
        ],
        [
         "472",
         "34",
         "2018-05-03",
         "2"
        ],
        [
         "521",
         "35",
         "2018-05-25",
         "4"
        ],
        [
         "749",
         "55",
         "2018-02-19",
         "2"
        ],
        [
         "977",
         "84",
         "2018-05-27",
         "2"
        ],
        [
         "1009",
         "87",
         "2018-03-15",
         "3"
        ],
        [
         "1027",
         "88",
         "2018-01-26",
         "4"
        ],
        [
         "1325",
         "120",
         "2018-02-17",
         "2"
        ],
        [
         "1539",
         "146",
         "2018-02-17",
         "6"
        ],
        [
         "1560",
         "146",
         "2018-06-08",
         "5"
        ],
        [
         "1561",
         "146",
         "2018-06-09",
         "2"
        ],
        [
         "1941",
         "186",
         "2018-02-17",
         "2"
        ],
        [
         "2076",
         "194",
         "2018-06-10",
         "2"
        ],
        [
         "2413",
         "221",
         "2018-04-17",
         "2"
        ],
        [
         "2419",
         "222",
         "2018-02-17",
         "2"
        ],
        [
         "2453",
         "225",
         "2018-06-22",
         "2"
        ],
        [
         "2636",
         "243",
         "2018-02-21",
         "5"
        ],
        [
         "2667",
         "247",
         "2018-05-27",
         "2"
        ],
        [
         "2682",
         "250",
         "2018-05-27",
         "2"
        ],
        [
         "2692",
         "251",
         "2018-03-09",
         "4"
        ],
        [
         "2764",
         "257",
         "2018-06-04",
         "2"
        ],
        [
         "2765",
         "257",
         "2018-06-05",
         "2"
        ],
        [
         "2785",
         "258",
         "2018-06-04",
         "6"
        ],
        [
         "2796",
         "259",
         "2018-06-02",
         "2"
        ],
        [
         "2906",
         "273",
         "2018-01-03",
         "4"
        ],
        [
         "2934",
         "273",
         "2018-02-15",
         "2"
        ],
        [
         "2964",
         "274",
         "2018-01-04",
         "2"
        ],
        [
         "2985",
         "274",
         "2018-06-17",
         "2"
        ],
        [
         "3316",
         "318",
         "2018-01-24",
         "3"
        ],
        [
         "3354",
         "320",
         "2018-05-17",
         "2"
        ],
        [
         "3493",
         "333",
         "2018-06-04",
         "2"
        ],
        [
         "3498",
         "333",
         "2018-06-22",
         "2"
        ],
        [
         "3546",
         "339",
         "2018-02-17",
         "2"
        ],
        [
         "3857",
         "368",
         "2018-03-09",
         "2"
        ],
        [
         "3920",
         "375",
         "2018-06-09",
         "2"
        ],
        [
         "3928",
         "377",
         "2018-02-26",
         "5"
        ],
        [
         "4003",
         "381",
         "2018-04-24",
         "5"
        ],
        [
         "4200",
         "393",
         "2018-06-19",
         "5"
        ],
        [
         "4264",
         "402",
         "2018-03-20",
         "6"
        ],
        [
         "4335",
         "417",
         "2018-03-04",
         "2"
        ],
        [
         "4443",
         "429",
         "2018-06-10",
         "2"
        ],
        [
         "4513",
         "434",
         "2018-03-02",
         "3"
        ],
        [
         "4946",
         "461",
         "2018-06-22",
         "2"
        ],
        [
         "4963",
         "462",
         "2018-06-20",
         "2"
        ],
        [
         "4987",
         "464",
         "2018-04-01",
         "6"
        ],
        [
         "5097",
         "469",
         "2018-02-17",
         "2"
        ],
        [
         "5111",
         "469",
         "2018-06-08",
         "2"
        ],
        [
         "5509",
         "502",
         "2018-05-02",
         "6"
        ]
       ],
       "shape": {
        "columns": 3,
        "rows": 1515
       }
      },
      "text/html": [
       "<div>\n",
       "<style scoped>\n",
       "    .dataframe tbody tr th:only-of-type {\n",
       "        vertical-align: middle;\n",
       "    }\n",
       "\n",
       "    .dataframe tbody tr th {\n",
       "        vertical-align: top;\n",
       "    }\n",
       "\n",
       "    .dataframe thead th {\n",
       "        text-align: right;\n",
       "    }\n",
       "</style>\n",
       "<table border=\"1\" class=\"dataframe\">\n",
       "  <thead>\n",
       "    <tr style=\"text-align: right;\">\n",
       "      <th></th>\n",
       "      <th>itemID</th>\n",
       "      <th>date</th>\n",
       "      <th>unique_price_count</th>\n",
       "    </tr>\n",
       "  </thead>\n",
       "  <tbody>\n",
       "    <tr>\n",
       "      <th>82</th>\n",
       "      <td>6</td>\n",
       "      <td>2018-05-30</td>\n",
       "      <td>2</td>\n",
       "    </tr>\n",
       "    <tr>\n",
       "      <th>188</th>\n",
       "      <td>15</td>\n",
       "      <td>2018-01-27</td>\n",
       "      <td>2</td>\n",
       "    </tr>\n",
       "    <tr>\n",
       "      <th>381</th>\n",
       "      <td>27</td>\n",
       "      <td>2018-02-17</td>\n",
       "      <td>2</td>\n",
       "    </tr>\n",
       "    <tr>\n",
       "      <th>472</th>\n",
       "      <td>34</td>\n",
       "      <td>2018-05-03</td>\n",
       "      <td>2</td>\n",
       "    </tr>\n",
       "    <tr>\n",
       "      <th>521</th>\n",
       "      <td>35</td>\n",
       "      <td>2018-05-25</td>\n",
       "      <td>4</td>\n",
       "    </tr>\n",
       "    <tr>\n",
       "      <th>...</th>\n",
       "      <td>...</td>\n",
       "      <td>...</td>\n",
       "      <td>...</td>\n",
       "    </tr>\n",
       "    <tr>\n",
       "      <th>99989</th>\n",
       "      <td>10333</td>\n",
       "      <td>2018-06-29</td>\n",
       "      <td>2</td>\n",
       "    </tr>\n",
       "    <tr>\n",
       "      <th>99990</th>\n",
       "      <td>10334</td>\n",
       "      <td>2018-06-29</td>\n",
       "      <td>2</td>\n",
       "    </tr>\n",
       "    <tr>\n",
       "      <th>100084</th>\n",
       "      <td>10425</td>\n",
       "      <td>2018-06-27</td>\n",
       "      <td>2</td>\n",
       "    </tr>\n",
       "    <tr>\n",
       "      <th>100092</th>\n",
       "      <td>10431</td>\n",
       "      <td>2018-05-14</td>\n",
       "      <td>2</td>\n",
       "    </tr>\n",
       "    <tr>\n",
       "      <th>100105</th>\n",
       "      <td>10435</td>\n",
       "      <td>2018-06-27</td>\n",
       "      <td>2</td>\n",
       "    </tr>\n",
       "  </tbody>\n",
       "</table>\n",
       "<p>1515 rows × 3 columns</p>\n",
       "</div>"
      ],
      "text/plain": [
       "        itemID        date  unique_price_count\n",
       "82           6  2018-05-30                   2\n",
       "188         15  2018-01-27                   2\n",
       "381         27  2018-02-17                   2\n",
       "472         34  2018-05-03                   2\n",
       "521         35  2018-05-25                   4\n",
       "...        ...         ...                 ...\n",
       "99989    10333  2018-06-29                   2\n",
       "99990    10334  2018-06-29                   2\n",
       "100084   10425  2018-06-27                   2\n",
       "100092   10431  2018-05-14                   2\n",
       "100105   10435  2018-06-27                   2\n",
       "\n",
       "[1515 rows x 3 columns]"
      ]
     },
     "execution_count": 45,
     "metadata": {},
     "output_type": "execute_result"
    }
   ],
   "source": [
    "# this data frame will be aggregared on day level for final use\n",
    "# so it is best if we continue the transformation in the aggregated version\n",
    "# but before aggregation, we should check what % of items have been sold on a different price in the same day\n",
    "\n",
    "price_variations = (\n",
    "    df_orders\n",
    "    .assign(date=df_orders['time'].dt.date)\n",
    "    .groupby(['itemID', 'date'])['salesPrice']\n",
    "    .nunique()\n",
    "    .reset_index(name='unique_price_count')\n",
    ")\n",
    "\n",
    "\n",
    "# Filter where price count > 1 (i.e., same item sold at multiple prices)\n",
    "price_variations[price_variations['unique_price_count'] > 1]"
   ]
  },
  {
   "cell_type": "code",
   "execution_count": 46,
   "id": "00a58915",
   "metadata": {},
   "outputs": [
    {
     "data": {
      "text/plain": [
       "14.479594762496417"
      ]
     },
     "execution_count": 46,
     "metadata": {},
     "output_type": "execute_result"
    }
   ],
   "source": [
    "# % of such cases from all items\n",
    "\n",
    "((price_variations[price_variations['unique_price_count'] > 1]['unique_price_count'].count())/len(df_items))*100"
   ]
  },
  {
   "cell_type": "markdown",
   "id": "c868af23",
   "metadata": {},
   "source": [
    "### df_infos preparation"
   ]
  },
  {
   "cell_type": "markdown",
   "id": "9c28ce1e",
   "metadata": {},
   "source": [
    "#### Preparation"
   ]
  },
  {
   "cell_type": "code",
   "execution_count": 47,
   "id": "972e7526",
   "metadata": {},
   "outputs": [
    {
     "data": {
      "text/plain": [
       "190"
      ]
     },
     "execution_count": 47,
     "metadata": {},
     "output_type": "execute_result"
    }
   ],
   "source": [
    "# in df_infos column promotion there are cells with more than one date, separated by a comma\n",
    "# how many such are there?\n",
    "\n",
    "(df_infos[\"promotion\"].str.len() > 10).sum()\n",
    "\n",
    "# 190\n",
    "# I leave it as text for now, we should handle it later"
   ]
  },
  {
   "cell_type": "code",
   "execution_count": 48,
   "id": "1ea27e0d",
   "metadata": {},
   "outputs": [
    {
     "data": {
      "application/vnd.microsoft.datawrangler.viewer.v0+json": {
       "columns": [
        {
         "name": "index",
         "rawType": "int64",
         "type": "integer"
        },
        {
         "name": "promotion",
         "rawType": "object",
         "type": "string"
        }
       ],
       "ref": "628c5df3-353a-44bf-a979-198450a34a97",
       "rows": [
        [
         "34",
         "2018-07-01,2018-07-02,2018-07-13"
        ],
        [
         "74",
         "2018-07-05,2018-07-11"
        ],
        [
         "124",
         "2018-07-08,2018-07-13"
        ],
        [
         "125",
         "2018-07-05,2018-07-11"
        ],
        [
         "353",
         "2018-07-08,2018-07-11"
        ],
        [
         "356",
         "2018-06-30,2018-07-13"
        ],
        [
         "501",
         "2018-06-30,2018-07-01,2018-07-11"
        ],
        [
         "508",
         "2018-07-08,2018-07-11"
        ],
        [
         "509",
         "2018-07-08,2018-07-13"
        ],
        [
         "580",
         "2018-07-06,2018-07-13"
        ],
        [
         "581",
         "2018-07-06,2018-07-10"
        ],
        [
         "630",
         "2018-07-08,2018-07-10"
        ],
        [
         "672",
         "2018-06-30,2018-07-04"
        ],
        [
         "679",
         "2018-07-01,2018-07-10"
        ],
        [
         "828",
         "2018-07-08,2018-07-13"
        ],
        [
         "1007",
         "2018-06-30,2018-07-01"
        ],
        [
         "1073",
         "2018-07-08,2018-07-11"
        ],
        [
         "1336",
         "2018-07-04,2018-07-05,2018-07-06"
        ],
        [
         "1339",
         "2018-07-04,2018-07-05"
        ],
        [
         "1346",
         "2018-07-04,2018-07-05"
        ],
        [
         "1395",
         "2018-07-06,2018-07-13"
        ],
        [
         "1564",
         "2018-07-08,2018-07-11"
        ],
        [
         "1568",
         "2018-06-30,2018-07-13"
        ],
        [
         "1570",
         "2018-06-30,2018-07-13"
        ],
        [
         "1572",
         "2018-07-01,2018-07-06"
        ],
        [
         "1605",
         "2018-07-08,2018-07-13"
        ],
        [
         "1606",
         "2018-06-30,2018-07-06"
        ],
        [
         "1650",
         "2018-07-08,2018-07-11"
        ],
        [
         "1664",
         "2018-07-05,2018-07-13"
        ],
        [
         "1709",
         "2018-07-01,2018-07-02"
        ],
        [
         "1787",
         "2018-07-01,2018-07-06"
        ],
        [
         "1879",
         "2018-07-04,2018-07-05,2018-07-06"
        ],
        [
         "1886",
         "2018-07-04,2018-07-05"
        ],
        [
         "2021",
         "2018-07-04,2018-07-05"
        ],
        [
         "2025",
         "2018-07-04,2018-07-05,2018-07-06"
        ],
        [
         "2035",
         "2018-07-04,2018-07-05"
        ],
        [
         "2039",
         "2018-07-04,2018-07-05,2018-07-06"
        ],
        [
         "2169",
         "2018-07-03,2018-07-04,2018-07-05"
        ],
        [
         "2179",
         "2018-07-03,2018-07-04,2018-07-06"
        ],
        [
         "2181",
         "2018-07-03,2018-07-04"
        ],
        [
         "2217",
         "2018-07-04,2018-07-05"
        ],
        [
         "2359",
         "2018-07-03,2018-07-05"
        ],
        [
         "2520",
         "2018-07-04,2018-07-09"
        ],
        [
         "2603",
         "2018-07-04,2018-07-05"
        ],
        [
         "2772",
         "2018-07-04,2018-07-06"
        ],
        [
         "2854",
         "2018-07-04,2018-07-05,2018-07-06"
        ],
        [
         "3125",
         "2018-07-02,2018-07-04"
        ],
        [
         "3298",
         "2018-07-04,2018-07-06"
        ],
        [
         "3299",
         "2018-07-03,2018-07-04"
        ],
        [
         "3303",
         "2018-07-02,2018-07-04"
        ]
       ],
       "shape": {
        "columns": 1,
        "rows": 190
       }
      },
      "text/plain": [
       "34       2018-07-01,2018-07-02,2018-07-13\n",
       "74                  2018-07-05,2018-07-11\n",
       "124                 2018-07-08,2018-07-13\n",
       "125                 2018-07-05,2018-07-11\n",
       "353                 2018-07-08,2018-07-11\n",
       "                       ...               \n",
       "9996                2018-07-02,2018-07-05\n",
       "10093               2018-07-05,2018-07-09\n",
       "10111    2018-07-04,2018-07-05,2018-07-06\n",
       "10176               2018-07-01,2018-07-10\n",
       "10318               2018-07-05,2018-07-06\n",
       "Name: promotion, Length: 190, dtype: object"
      ]
     },
     "execution_count": 48,
     "metadata": {},
     "output_type": "execute_result"
    }
   ],
   "source": [
    "df_infos[\"promotion\"][df_infos[\"promotion\"].str.len() > 10]"
   ]
  },
  {
   "cell_type": "code",
   "execution_count": 49,
   "id": "b95580eb",
   "metadata": {},
   "outputs": [
    {
     "data": {
      "text/plain": [
       "True"
      ]
     },
     "execution_count": 49,
     "metadata": {},
     "output_type": "execute_result"
    }
   ],
   "source": [
    "# does df_infos, containing the promotions, contain unique item IDs or are they duplicated?\n",
    "# I expect them to be unique\n",
    "\n",
    "len(df_infos[\"itemID\"]) == len(df_items)\n",
    "df_infos[\"itemID\"].value_counts().max() == 1\n"
   ]
  },
  {
   "cell_type": "code",
   "execution_count": 50,
   "id": "23756374",
   "metadata": {},
   "outputs": [
    {
     "data": {
      "text/plain": [
       "True"
      ]
     },
     "execution_count": 50,
     "metadata": {},
     "output_type": "execute_result"
    }
   ],
   "source": [
    "df_infos[\"itemID\"].isin(df_items[\"itemID\"]).count() == len(df_infos[\"itemID\"])\n",
    "\n",
    "# it contains a row for each itemID"
   ]
  },
  {
   "cell_type": "markdown",
   "id": "d6d81322",
   "metadata": {},
   "source": [
    "#### Deriving discounts for the simulation period"
   ]
  },
  {
   "cell_type": "code",
   "execution_count": 51,
   "id": "e001db37",
   "metadata": {},
   "outputs": [],
   "source": [
    "df_orders[\"maxPrice\"] = df_orders.groupby(\"itemID\")[\"salesPrice\"].transform(\"max\")"
   ]
  },
  {
   "cell_type": "code",
   "execution_count": 52,
   "id": "c4d802ee",
   "metadata": {},
   "outputs": [],
   "source": [
    "# how do discounts vary\n",
    "\n",
    "df_orders[\"discountAmount\"] = round(df_orders[\"maxPrice\"] - df_orders[\"salesPrice\"], 2)\n",
    "\n",
    "df_orders[\"discountPerc\"] = round(df_orders[\"discountAmount\"]/df_orders[\"maxPrice\"], 2)"
   ]
  },
  {
   "cell_type": "code",
   "execution_count": 53,
   "id": "a88c39d4",
   "metadata": {},
   "outputs": [
    {
     "name": "stdout",
     "output_type": "stream",
     "text": [
      "0.95 0.01\n"
     ]
    }
   ],
   "source": [
    "# max and min % discount\n",
    "\n",
    "print(max(df_orders[\"discountPerc\"]), min(df_orders[\"discountPerc\"][df_orders[\"discountPerc\"] != 0]))"
   ]
  },
  {
   "cell_type": "code",
   "execution_count": 54,
   "id": "757d1c78",
   "metadata": {},
   "outputs": [
    {
     "data": {
      "image/png": "[encoded data removed]",
      "text/plain": [
       "<Figure size 640x480 with 1 Axes>"
      ]
     },
     "metadata": {},
     "output_type": "display_data"
    }
   ],
   "source": [
    "# Create the histogram and get the bars\n",
    "ax = df_orders[\"discountPerc\"].plot(kind=\"hist\", bins=10, edgecolor='black')\n",
    "\n",
    "# Add value labels on top of each bar\n",
    "for patch in ax.patches:\n",
    "    height = patch.get_height()\n",
    "    if height > 0:\n",
    "        ax.annotate(f'{int(height)}', \n",
    "                    xy=(patch.get_x() + patch.get_width() / 2, height), \n",
    "                    xytext=(0, 5),  # offset\n",
    "                    textcoords=\"offset points\",\n",
    "                    ha='center', va='bottom')\n",
    "\n",
    "plt.xlabel(\"Discount Percentage\")\n",
    "plt.ylabel(\"Frequency\")\n",
    "plt.title(\"Histogram of Discount Percentage\")\n",
    "plt.tight_layout()\n",
    "plt.show()"
   ]
  },
  {
   "cell_type": "code",
   "execution_count": 55,
   "id": "8e788681",
   "metadata": {},
   "outputs": [
    {
     "data": {
      "image/png": "[encoded data removed]",
      "text/plain": [
       "<Figure size 640x480 with 1 Axes>"
      ]
     },
     "metadata": {},
     "output_type": "display_data"
    }
   ],
   "source": [
    "# Total number of observations\n",
    "total = len(df_orders[\"discountPerc\"].dropna())\n",
    "\n",
    "# Plot the histogram as density (normalized)\n",
    "ax = df_orders[\"discountPerc\"].plot(kind=\"hist\", bins=10, edgecolor='black', density=False)\n",
    "\n",
    "# Get the actual bin heights (counts) to calculate percentages\n",
    "counts, bins, patches = plt.hist(df_orders[\"discountPerc\"].dropna(), bins=10, edgecolor='black')\n",
    "\n",
    "# Annotate bars with percentage labels\n",
    "for count, patch in zip(counts, patches):\n",
    "    percentage = 100 * count / total\n",
    "    if count > 0:\n",
    "        plt.annotate(f'{percentage:.1f}%', \n",
    "                     xy=(patch.get_x() + patch.get_width() / 2, count), \n",
    "                     xytext=(0, 5),\n",
    "                     textcoords=\"offset points\",\n",
    "                     ha='center', va='bottom')\n",
    "\n",
    "plt.xlabel(\"Discount Percentage\")\n",
    "plt.ylabel(\"Count\")\n",
    "plt.title(\"Histogram of Discount Percentage (with % labels)\")\n",
    "plt.tight_layout()\n",
    "plt.show()"
   ]
  },
  {
   "cell_type": "code",
   "execution_count": 56,
   "id": "f26eab71",
   "metadata": {},
   "outputs": [],
   "source": [
    "# looking at the skewed distribution, for getting an approximate discount percentage per item\n",
    "# it would be better to use the median instead of the mean\n",
    "# adding column for discounted price to table df_infos = simulation price - median discount for item\n",
    "# Start with itemID column\n",
    "df_discount_stats = df_items[[\"itemID\"]].copy()\n",
    "\n",
    "# Filter out rows where discountAmount is 0\n",
    "df_nonzero_discounts = df_orders[df_orders[\"discountAmount\"] != 0].copy()\n",
    "\n",
    "# Drop duplicates to keep only unique discount percentages per item\n",
    "unique_discounts = df_nonzero_discounts.drop_duplicates(subset=[\"itemID\", \"discountPerc\"])\n",
    "\n",
    "# Now compute the median of these unique values per item\n",
    "median_discounts = (\n",
    "    unique_discounts\n",
    "    .groupby(\"itemID\")[\"discountPerc\"]\n",
    "    .median()\n",
    "    .round(2)\n",
    "    .reset_index()\n",
    "    .rename(columns={\"discountPerc\": \"medianDiscPerc\"})\n",
    ")\n",
    "\n",
    "# Merge into df_discount_stats\n",
    "df_discount_stats = df_discount_stats.merge(median_discounts, on=\"itemID\", how=\"left\")\n",
    "\n"
   ]
  },
  {
   "cell_type": "code",
   "execution_count": 57,
   "id": "501c1962",
   "metadata": {},
   "outputs": [],
   "source": [
    "# adding column for discounted price to table df_infos = simulation price - median discount for item\n",
    "\n",
    "df_infos = df_infos.merge(df_discount_stats[['itemID', 'medianDiscPerc']], on='itemID', how='left')"
   ]
  },
  {
   "cell_type": "code",
   "execution_count": 58,
   "id": "1963db7d",
   "metadata": {},
   "outputs": [],
   "source": [
    "# adding column for discounted price to table df_infos = simulation price - median discount for item\n",
    "\n",
    "df_infos[\"discountedPrice\"] = np.where(\n",
    "    df_infos[\"promotion\"].notna(),\n",
    "    round(df_infos[\"simulationPrice\"] * (1 - df_infos[\"medianDiscPerc\"]), 2),\n",
    "    np.nan  # or just leave it to default if you prefer\n",
    ")\n"
   ]
  },
  {
   "cell_type": "markdown",
   "id": "4570e5cb",
   "metadata": {},
   "source": [
    "#### Quickly check relation - qty sold and promotion"
   ]
  },
  {
   "cell_type": "code",
   "execution_count": 72,
   "id": "a2785884",
   "metadata": {},
   "outputs": [],
   "source": [
    "# Step 1: Sum quantity per itemID, date, and promotion (daily sales)\n",
    "daily_qty = (\n",
    "    df_orders\n",
    "    .groupby(['itemID', 'date', 'promotion'])['order']\n",
    "    .sum()\n",
    "    .reset_index()\n",
    ")\n",
    "\n",
    "# Step 2: Aggregate by itemID and promotion: \n",
    "# total quantity sold (sum of daily sums)\n",
    "# count of days with sales (number of unique days)\n",
    "agg = daily_qty.groupby(['itemID', 'promotion']).agg(\n",
    "    total_qty=('order', 'sum'),\n",
    "    count_days=('date', 'nunique')\n",
    ").unstack(fill_value=0)\n",
    "\n",
    "# Step 3: Build the final DataFrame safely extracting promo/no promo columns\n",
    "summary = pd.DataFrame({\n",
    "    'QTY_no_promo': agg['total_qty'].get(0, pd.Series(0)),\n",
    "    'QTY_promo': agg['total_qty'].get(1, pd.Series(0)),\n",
    "    'count_days_no_promo': agg['count_days'].get(0, pd.Series(0)),\n",
    "    'count_days_promo': agg['count_days'].get(1, pd.Series(0))\n",
    "}).reset_index()\n",
    "\n",
    "# Step 4: Calculate average quantity per day (handle division by zero)\n",
    "summary['QTY_no_promo_per_day'] = summary.apply(\n",
    "    lambda r: r['QTY_no_promo'] / r['count_days_no_promo'] if r['count_days_no_promo'] > 0 else 0,\n",
    "    axis=1\n",
    ")\n",
    "summary['QTY_promo_per_day'] = summary.apply(\n",
    "    lambda r: r['QTY_promo'] / r['count_days_promo'] if r['count_days_promo'] > 0 else 0,\n",
    "    axis=1\n",
    ")\n"
   ]
  },
  {
   "cell_type": "code",
   "execution_count": 74,
   "id": "c5d1a439",
   "metadata": {},
   "outputs": [
    {
     "data": {
      "text/plain": [
       "0.20558943089430895"
      ]
     },
     "execution_count": 74,
     "metadata": {},
     "output_type": "execute_result"
    }
   ],
   "source": [
    "len(summary[summary[\"QTY_promo_per_day\"] > summary[\"QTY_no_promo_per_day\"]])/len(summary)"
   ]
  },
  {
   "cell_type": "markdown",
   "id": "abac634a",
   "metadata": {},
   "source": [
    "## Aggregate orders and add variables"
   ]
  }
 ],
 "metadata": {
  "kernelspec": {
   "display_name": "base",
   "language": "python",
   "name": "python3"
  },
  "language_info": {
   "codemirror_mode": {
    "name": "ipython",
    "version": 3
   },
   "file_extension": ".py",
   "mimetype": "text/x-python",
   "name": "python",
   "nbconvert_exporter": "python",
   "pygments_lexer": "ipython3",
   "version": "3.12.7"
  }
 },
 "nbformat": 4,
 "nbformat_minor": 5
}
