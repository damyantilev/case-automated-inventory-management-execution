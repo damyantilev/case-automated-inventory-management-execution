{
 "cells": [
  {
   "cell_type": "markdown",
   "id": "3ebb0749",
   "metadata": {},
   "source": [
    "# Inventory management project"
   ]
  },
  {
   "cell_type": "markdown",
   "id": "8bbb4e04",
   "metadata": {},
   "source": [
    "## Data exploration and preparation"
   ]
  },
  {
   "cell_type": "markdown",
   "id": "c37e3e88",
   "metadata": {},
   "source": [
    "### Data loading"
   ]
  },
  {
   "cell_type": "code",
   "execution_count": 83,
   "id": "30932e18",
   "metadata": {},
   "outputs": [],
   "source": [
    "import pandas as pd\n",
    "import matplotlib.pyplot as plt\n",
    "import numpy as np"
   ]
  },
  {
   "cell_type": "code",
   "execution_count": 84,
   "id": "b2836fc7",
   "metadata": {},
   "outputs": [],
   "source": [
    "# load data\n",
    "\n",
    "df_infos = pd.read_csv(\"infos.csv\", sep = \"|\")\n",
    "df_items = pd.read_csv(\"items.csv\", sep = \"|\")\n",
    "df_orders_orig = pd.read_csv(\"orders.csv.zip\", sep = \"|\", compression=\"zip\")"
   ]
  },
  {
   "cell_type": "markdown",
   "id": "0244298f",
   "metadata": {},
   "source": [
    "### Train and Test split"
   ]
  },
  {
   "cell_type": "code",
   "execution_count": 85,
   "id": "d5360dcd",
   "metadata": {},
   "outputs": [],
   "source": [
    "# fix datetime format for transaction time\n",
    "\n",
    "df_orders_orig['time'] = pd.to_datetime(df_orders_orig['time'])"
   ]
  },
  {
   "cell_type": "code",
   "execution_count": 86,
   "id": "c40f4a33",
   "metadata": {},
   "outputs": [
    {
     "data": {
      "text/plain": [
       "9840"
      ]
     },
     "execution_count": 86,
     "metadata": {},
     "output_type": "execute_result"
    }
   ],
   "source": [
    "len(df_orders_orig[\"itemID\"].unique())"
   ]
  },
  {
   "cell_type": "code",
   "execution_count": 87,
   "id": "1e536694",
   "metadata": {},
   "outputs": [],
   "source": [
    "# Define the split date\n",
    "split_date = pd.to_datetime(\"08.06.2018\", format=\"%d.%m.%Y\")\n",
    "\n",
    "# Split into train and test\n",
    "df_test = df_orders_orig[df_orders_orig['time'] > split_date]\n",
    "df_orders = df_orders_orig[df_orders_orig['time'] <= split_date]"
   ]
  },
  {
   "cell_type": "code",
   "execution_count": 88,
   "id": "1c019c76",
   "metadata": {},
   "outputs": [],
   "source": [
    "# we saw that we lose around 1000 items with the train-test split, because they have orders only in the last 3 weeks\n",
    "# so we check their price x quantity (revenue) - what % it is of the total revenue\n",
    "# to see if we lose a lot with this cropping and decide how to continue"
   ]
  },
  {
   "cell_type": "code",
   "execution_count": 89,
   "id": "7c5080ff",
   "metadata": {},
   "outputs": [
    {
     "name": "stderr",
     "output_type": "stream",
     "text": [
      "C:\\Users\\Konstantin Piryankov\\AppData\\Local\\Temp\\ipykernel_21684\\2036663582.py:1: SettingWithCopyWarning: \n",
      "A value is trying to be set on a copy of a slice from a DataFrame.\n",
      "Try using .loc[row_indexer,col_indexer] = value instead\n",
      "\n",
      "See the caveats in the documentation: https://pandas.pydata.org/pandas-docs/stable/user_guide/indexing.html#returning-a-view-versus-a-copy\n",
      "  df_test[\"revenue\"] = df_test[\"order\"] * df_test[\"salesPrice\"]\n"
     ]
    }
   ],
   "source": [
    "df_test[\"revenue\"] = df_test[\"order\"] * df_test[\"salesPrice\"]\n",
    "df_orders_orig[\"revenue\"] = df_orders_orig[\"order\"] * df_orders_orig[\"salesPrice\"]"
   ]
  },
  {
   "cell_type": "code",
   "execution_count": 90,
   "id": "c99c3fa3",
   "metadata": {},
   "outputs": [],
   "source": [
    "missing_items = pd.DataFrame(df_test[~df_test[\"itemID\"].isin(df_orders[\"itemID\"])][\"itemID\"].unique(), columns = [\"itemID\"])\n",
    "missing_items[\"will_be_lost\"] = \"yes\""
   ]
  },
  {
   "cell_type": "code",
   "execution_count": 91,
   "id": "196881c4",
   "metadata": {},
   "outputs": [],
   "source": [
    "df_orders_orig = df_orders_orig.merge(missing_items, how = \"left\", on = \"itemID\")"
   ]
  },
  {
   "cell_type": "code",
   "execution_count": 92,
   "id": "60f7d2eb",
   "metadata": {},
   "outputs": [],
   "source": [
    "df_orders_orig[\"revenue\"] = df_orders_orig[\"salesPrice\"] * df_orders_orig[\"order\"]"
   ]
  },
  {
   "cell_type": "code",
   "execution_count": 93,
   "id": "667cd0c0",
   "metadata": {},
   "outputs": [
    {
     "data": {
      "text/plain": [
       "5.09"
      ]
     },
     "execution_count": 93,
     "metadata": {},
     "output_type": "execute_result"
    }
   ],
   "source": [
    "round((df_orders_orig[df_orders_orig[\"will_be_lost\"] == \"yes\"][\"revenue\"].sum()/df_orders_orig[\"revenue\"].sum())*100, 2)"
   ]
  },
  {
   "cell_type": "code",
   "execution_count": 94,
   "id": "54581d6c",
   "metadata": {},
   "outputs": [],
   "source": [
    "# they account for 5.09% of the total revenue of the historical 6-month data we have\n",
    "# it is low enough, we continue like this"
   ]
  },
  {
   "cell_type": "markdown",
   "id": "5524485d",
   "metadata": {},
   "source": [
    "### df_orders preparation"
   ]
  },
  {
   "cell_type": "code",
   "execution_count": 95,
   "id": "ebff7530",
   "metadata": {},
   "outputs": [
    {
     "name": "stdout",
     "output_type": "stream",
     "text": [
      "<class 'pandas.core.frame.DataFrame'>\n",
      "Index: 1822740 entries, 0 to 1822739\n",
      "Data columns (total 5 columns):\n",
      " #   Column      Dtype         \n",
      "---  ------      -----         \n",
      " 0   time        datetime64[ns]\n",
      " 1   transactID  int64         \n",
      " 2   itemID      int64         \n",
      " 3   order       int64         \n",
      " 4   salesPrice  float64       \n",
      "dtypes: datetime64[ns](1), float64(1), int64(3)\n",
      "memory usage: 83.4 MB\n"
     ]
    }
   ],
   "source": [
    "df_orders.info()"
   ]
  },
  {
   "cell_type": "code",
   "execution_count": 96,
   "id": "98b7d06b",
   "metadata": {},
   "outputs": [],
   "source": [
    "# add one column which is only with the date, no time\n",
    "\n",
    "df_orders['date'] = df_orders['time'].dt.date\n",
    "df_orders['date'] = pd.to_datetime(df_orders['date'])"
   ]
  },
  {
   "cell_type": "code",
   "execution_count": 97,
   "id": "fef63620",
   "metadata": {},
   "outputs": [],
   "source": [
    "# there seem to be 0 price transactions\n",
    "\n",
    "len(df_orders[df_orders[\"salesPrice\"]==0])/len(df_orders)*100\n",
    "\n",
    "# they are 0.02% of all transactions, it is best to delete them instead of thinking how to handle them\n",
    "\n",
    "df_orders = df_orders[df_orders[\"salesPrice\"]!=0]"
   ]
  },
  {
   "cell_type": "code",
   "execution_count": 98,
   "id": "8abf6da1",
   "metadata": {},
   "outputs": [
    {
     "data": {
      "text/plain": [
       "83.47"
      ]
     },
     "execution_count": 98,
     "metadata": {},
     "output_type": "execute_result"
    }
   ],
   "source": [
    "# do all items have an order in the period we have?\n",
    "\n",
    "round(df_orders[\"itemID\"].nunique()/len(df_items)*100, 2)\n",
    "\n",
    "# 94.05% of all items have an order in the period"
   ]
  },
  {
   "cell_type": "code",
   "execution_count": 99,
   "id": "149e679c",
   "metadata": {},
   "outputs": [],
   "source": [
    "# which transactions are performed on a discounted price?\n",
    "# we assume the following: a transaction is marked as having a promotion if, for the same item, somewhere else in the table there is\n",
    "# another transaction performed on a lower price\n",
    "\n",
    "# Step 1: Get the maximum price per itemID\n",
    "max_price_per_item = df_orders.groupby('itemID')['salesPrice'].transform('max')\n",
    "\n",
    "# Step 2: Compare each row's price to the max price for that item\n",
    "df_orders['promotion'] = df_orders['salesPrice'] < max_price_per_item\n",
    "\n",
    "# Step 3: Convert boolean to \"yes\"/\"no\"\n",
    "df_orders['promotion'] = df_orders['promotion'].map({True: 1, False: 0})"
   ]
  },
  {
   "cell_type": "code",
   "execution_count": 100,
   "id": "1874c69d",
   "metadata": {},
   "outputs": [
    {
     "data": {
      "application/vnd.microsoft.datawrangler.viewer.v0+json": {
       "columns": [
        {
         "name": "index",
         "rawType": "int64",
         "type": "integer"
        },
        {
         "name": "itemID",
         "rawType": "int64",
         "type": "integer"
        },
        {
         "name": "date",
         "rawType": "object",
         "type": "unknown"
        },
        {
         "name": "unique_price_count",
         "rawType": "int64",
         "type": "integer"
        }
       ],
       "ref": "c377b842-36dc-49e5-ab7e-d09f613a4c10",
       "rows": [
        [
         "72",
         "6",
         "2018-05-30",
         "2"
        ],
        [
         "163",
         "15",
         "2018-01-27",
         "2"
        ],
        [
         "337",
         "27",
         "2018-02-17",
         "2"
        ],
        [
         "422",
         "34",
         "2018-05-03",
         "2"
        ],
        [
         "471",
         "35",
         "2018-05-25",
         "4"
        ],
        [
         "677",
         "55",
         "2018-02-19",
         "2"
        ],
        [
         "878",
         "84",
         "2018-05-27",
         "2"
        ],
        [
         "907",
         "87",
         "2018-03-15",
         "3"
        ],
        [
         "923",
         "88",
         "2018-01-26",
         "4"
        ],
        [
         "1181",
         "120",
         "2018-02-17",
         "2"
        ],
        [
         "1367",
         "146",
         "2018-02-17",
         "6"
        ],
        [
         "1736",
         "186",
         "2018-02-17",
         "2"
        ],
        [
         "2150",
         "221",
         "2018-04-17",
         "2"
        ],
        [
         "2154",
         "222",
         "2018-02-17",
         "2"
        ],
        [
         "2336",
         "243",
         "2018-02-21",
         "5"
        ],
        [
         "2364",
         "247",
         "2018-05-27",
         "2"
        ],
        [
         "2378",
         "250",
         "2018-05-27",
         "2"
        ],
        [
         "2388",
         "251",
         "2018-03-09",
         "4"
        ],
        [
         "2455",
         "257",
         "2018-06-04",
         "2"
        ],
        [
         "2456",
         "257",
         "2018-06-05",
         "2"
        ],
        [
         "2469",
         "258",
         "2018-06-04",
         "6"
        ],
        [
         "2474",
         "259",
         "2018-06-02",
         "2"
        ],
        [
         "2577",
         "273",
         "2018-01-03",
         "4"
        ],
        [
         "2605",
         "273",
         "2018-02-15",
         "2"
        ],
        [
         "2630",
         "274",
         "2018-01-04",
         "2"
        ],
        [
         "2936",
         "318",
         "2018-01-24",
         "3"
        ],
        [
         "2972",
         "320",
         "2018-05-17",
         "2"
        ],
        [
         "3091",
         "333",
         "2018-06-04",
         "2"
        ],
        [
         "3131",
         "339",
         "2018-02-17",
         "2"
        ],
        [
         "3409",
         "368",
         "2018-03-09",
         "2"
        ],
        [
         "3471",
         "377",
         "2018-02-26",
         "5"
        ],
        [
         "3539",
         "381",
         "2018-04-24",
         "5"
        ],
        [
         "3759",
         "402",
         "2018-03-20",
         "6"
        ],
        [
         "3830",
         "417",
         "2018-03-04",
         "2"
        ],
        [
         "3985",
         "434",
         "2018-03-02",
         "3"
        ],
        [
         "4388",
         "464",
         "2018-04-01",
         "6"
        ],
        [
         "4494",
         "469",
         "2018-02-17",
         "2"
        ],
        [
         "4865",
         "502",
         "2018-05-02",
         "6"
        ],
        [
         "4888",
         "503",
         "2018-05-03",
         "2"
        ],
        [
         "4997",
         "511",
         "2018-04-06",
         "5"
        ],
        [
         "5046",
         "514",
         "2018-02-18",
         "2"
        ],
        [
         "5055",
         "515",
         "2018-06-02",
         "2"
        ],
        [
         "5233",
         "530",
         "2018-05-02",
         "2"
        ],
        [
         "5456",
         "560",
         "2018-04-30",
         "4"
        ],
        [
         "5679",
         "579",
         "2018-06-04",
         "2"
        ],
        [
         "5893",
         "599",
         "2018-05-01",
         "2"
        ],
        [
         "6068",
         "613",
         "2018-02-17",
         "2"
        ],
        [
         "6102",
         "615",
         "2018-01-18",
         "2"
        ],
        [
         "6117",
         "616",
         "2018-02-06",
         "2"
        ],
        [
         "6151",
         "621",
         "2018-05-03",
         "2"
        ]
       ],
       "shape": {
        "columns": 3,
        "rows": 992
       }
      },
      "text/html": [
       "<div>\n",
       "<style scoped>\n",
       "    .dataframe tbody tr th:only-of-type {\n",
       "        vertical-align: middle;\n",
       "    }\n",
       "\n",
       "    .dataframe tbody tr th {\n",
       "        vertical-align: top;\n",
       "    }\n",
       "\n",
       "    .dataframe thead th {\n",
       "        text-align: right;\n",
       "    }\n",
       "</style>\n",
       "<table border=\"1\" class=\"dataframe\">\n",
       "  <thead>\n",
       "    <tr style=\"text-align: right;\">\n",
       "      <th></th>\n",
       "      <th>itemID</th>\n",
       "      <th>date</th>\n",
       "      <th>unique_price_count</th>\n",
       "    </tr>\n",
       "  </thead>\n",
       "  <tbody>\n",
       "    <tr>\n",
       "      <th>72</th>\n",
       "      <td>6</td>\n",
       "      <td>2018-05-30</td>\n",
       "      <td>2</td>\n",
       "    </tr>\n",
       "    <tr>\n",
       "      <th>163</th>\n",
       "      <td>15</td>\n",
       "      <td>2018-01-27</td>\n",
       "      <td>2</td>\n",
       "    </tr>\n",
       "    <tr>\n",
       "      <th>337</th>\n",
       "      <td>27</td>\n",
       "      <td>2018-02-17</td>\n",
       "      <td>2</td>\n",
       "    </tr>\n",
       "    <tr>\n",
       "      <th>422</th>\n",
       "      <td>34</td>\n",
       "      <td>2018-05-03</td>\n",
       "      <td>2</td>\n",
       "    </tr>\n",
       "    <tr>\n",
       "      <th>471</th>\n",
       "      <td>35</td>\n",
       "      <td>2018-05-25</td>\n",
       "      <td>4</td>\n",
       "    </tr>\n",
       "    <tr>\n",
       "      <th>...</th>\n",
       "      <td>...</td>\n",
       "      <td>...</td>\n",
       "      <td>...</td>\n",
       "    </tr>\n",
       "    <tr>\n",
       "      <th>82205</th>\n",
       "      <td>10237</td>\n",
       "      <td>2018-05-24</td>\n",
       "      <td>2</td>\n",
       "    </tr>\n",
       "    <tr>\n",
       "      <th>82266</th>\n",
       "      <td>10286</td>\n",
       "      <td>2018-05-19</td>\n",
       "      <td>2</td>\n",
       "    </tr>\n",
       "    <tr>\n",
       "      <th>82269</th>\n",
       "      <td>10287</td>\n",
       "      <td>2018-05-24</td>\n",
       "      <td>2</td>\n",
       "    </tr>\n",
       "    <tr>\n",
       "      <th>82287</th>\n",
       "      <td>10296</td>\n",
       "      <td>2018-05-24</td>\n",
       "      <td>2</td>\n",
       "    </tr>\n",
       "    <tr>\n",
       "      <th>82328</th>\n",
       "      <td>10431</td>\n",
       "      <td>2018-05-14</td>\n",
       "      <td>2</td>\n",
       "    </tr>\n",
       "  </tbody>\n",
       "</table>\n",
       "<p>992 rows × 3 columns</p>\n",
       "</div>"
      ],
      "text/plain": [
       "       itemID        date  unique_price_count\n",
       "72          6  2018-05-30                   2\n",
       "163        15  2018-01-27                   2\n",
       "337        27  2018-02-17                   2\n",
       "422        34  2018-05-03                   2\n",
       "471        35  2018-05-25                   4\n",
       "...       ...         ...                 ...\n",
       "82205   10237  2018-05-24                   2\n",
       "82266   10286  2018-05-19                   2\n",
       "82269   10287  2018-05-24                   2\n",
       "82287   10296  2018-05-24                   2\n",
       "82328   10431  2018-05-14                   2\n",
       "\n",
       "[992 rows x 3 columns]"
      ]
     },
     "execution_count": 100,
     "metadata": {},
     "output_type": "execute_result"
    }
   ],
   "source": [
    "# this data frame will be aggregared on day level for final use\n",
    "# so it is best if we continue the transformation in the aggregated version\n",
    "# but before aggregation, we should check what % of items have been sold on a different price in the same day\n",
    "\n",
    "price_variations = (\n",
    "    df_orders\n",
    "    .assign(date=df_orders['time'].dt.date)\n",
    "    .groupby(['itemID', 'date'])['salesPrice']\n",
    "    .nunique()\n",
    "    .reset_index(name='unique_price_count')\n",
    ")\n",
    "\n",
    "\n",
    "# Filter where price count > 1 (i.e., same item sold at multiple prices)\n",
    "price_variations[price_variations['unique_price_count'] > 1]"
   ]
  },
  {
   "cell_type": "code",
   "execution_count": 101,
   "id": "00a58915",
   "metadata": {},
   "outputs": [
    {
     "data": {
      "text/plain": [
       "9.481028385740228"
      ]
     },
     "execution_count": 101,
     "metadata": {},
     "output_type": "execute_result"
    }
   ],
   "source": [
    "# % of such cases from all items\n",
    "\n",
    "((price_variations[price_variations['unique_price_count'] > 1]['unique_price_count'].count())/len(df_items))*100"
   ]
  },
  {
   "cell_type": "markdown",
   "id": "c868af23",
   "metadata": {},
   "source": [
    "### df_infos preparation"
   ]
  },
  {
   "cell_type": "markdown",
   "id": "9c28ce1e",
   "metadata": {},
   "source": [
    "#### Preparation"
   ]
  },
  {
   "cell_type": "code",
   "execution_count": 102,
   "id": "972e7526",
   "metadata": {},
   "outputs": [
    {
     "data": {
      "text/plain": [
       "190"
      ]
     },
     "execution_count": 102,
     "metadata": {},
     "output_type": "execute_result"
    }
   ],
   "source": [
    "# in df_infos column promotion there are cells with more than one date, separated by a comma\n",
    "# how many such are there?\n",
    "\n",
    "(df_infos[\"promotion\"].str.len() > 10).sum()\n",
    "\n",
    "# 190\n",
    "# I leave it as text for now, we should handle it later"
   ]
  },
  {
   "cell_type": "code",
   "execution_count": 103,
   "id": "1ea27e0d",
   "metadata": {},
   "outputs": [
    {
     "data": {
      "application/vnd.microsoft.datawrangler.viewer.v0+json": {
       "columns": [
        {
         "name": "index",
         "rawType": "int64",
         "type": "integer"
        },
        {
         "name": "promotion",
         "rawType": "object",
         "type": "string"
        }
       ],
       "ref": "6923b54c-b440-4969-916c-8dcfdd3dd8cb",
       "rows": [
        [
         "34",
         "2018-07-01,2018-07-02,2018-07-13"
        ],
        [
         "74",
         "2018-07-05,2018-07-11"
        ],
        [
         "124",
         "2018-07-08,2018-07-13"
        ],
        [
         "125",
         "2018-07-05,2018-07-11"
        ],
        [
         "353",
         "2018-07-08,2018-07-11"
        ],
        [
         "356",
         "2018-06-30,2018-07-13"
        ],
        [
         "501",
         "2018-06-30,2018-07-01,2018-07-11"
        ],
        [
         "508",
         "2018-07-08,2018-07-11"
        ],
        [
         "509",
         "2018-07-08,2018-07-13"
        ],
        [
         "580",
         "2018-07-06,2018-07-13"
        ],
        [
         "581",
         "2018-07-06,2018-07-10"
        ],
        [
         "630",
         "2018-07-08,2018-07-10"
        ],
        [
         "672",
         "2018-06-30,2018-07-04"
        ],
        [
         "679",
         "2018-07-01,2018-07-10"
        ],
        [
         "828",
         "2018-07-08,2018-07-13"
        ],
        [
         "1007",
         "2018-06-30,2018-07-01"
        ],
        [
         "1073",
         "2018-07-08,2018-07-11"
        ],
        [
         "1336",
         "2018-07-04,2018-07-05,2018-07-06"
        ],
        [
         "1339",
         "2018-07-04,2018-07-05"
        ],
        [
         "1346",
         "2018-07-04,2018-07-05"
        ],
        [
         "1395",
         "2018-07-06,2018-07-13"
        ],
        [
         "1564",
         "2018-07-08,2018-07-11"
        ],
        [
         "1568",
         "2018-06-30,2018-07-13"
        ],
        [
         "1570",
         "2018-06-30,2018-07-13"
        ],
        [
         "1572",
         "2018-07-01,2018-07-06"
        ],
        [
         "1605",
         "2018-07-08,2018-07-13"
        ],
        [
         "1606",
         "2018-06-30,2018-07-06"
        ],
        [
         "1650",
         "2018-07-08,2018-07-11"
        ],
        [
         "1664",
         "2018-07-05,2018-07-13"
        ],
        [
         "1709",
         "2018-07-01,2018-07-02"
        ],
        [
         "1787",
         "2018-07-01,2018-07-06"
        ],
        [
         "1879",
         "2018-07-04,2018-07-05,2018-07-06"
        ],
        [
         "1886",
         "2018-07-04,2018-07-05"
        ],
        [
         "2021",
         "2018-07-04,2018-07-05"
        ],
        [
         "2025",
         "2018-07-04,2018-07-05,2018-07-06"
        ],
        [
         "2035",
         "2018-07-04,2018-07-05"
        ],
        [
         "2039",
         "2018-07-04,2018-07-05,2018-07-06"
        ],
        [
         "2169",
         "2018-07-03,2018-07-04,2018-07-05"
        ],
        [
         "2179",
         "2018-07-03,2018-07-04,2018-07-06"
        ],
        [
         "2181",
         "2018-07-03,2018-07-04"
        ],
        [
         "2217",
         "2018-07-04,2018-07-05"
        ],
        [
         "2359",
         "2018-07-03,2018-07-05"
        ],
        [
         "2520",
         "2018-07-04,2018-07-09"
        ],
        [
         "2603",
         "2018-07-04,2018-07-05"
        ],
        [
         "2772",
         "2018-07-04,2018-07-06"
        ],
        [
         "2854",
         "2018-07-04,2018-07-05,2018-07-06"
        ],
        [
         "3125",
         "2018-07-02,2018-07-04"
        ],
        [
         "3298",
         "2018-07-04,2018-07-06"
        ],
        [
         "3299",
         "2018-07-03,2018-07-04"
        ],
        [
         "3303",
         "2018-07-02,2018-07-04"
        ]
       ],
       "shape": {
        "columns": 1,
        "rows": 190
       }
      },
      "text/plain": [
       "34       2018-07-01,2018-07-02,2018-07-13\n",
       "74                  2018-07-05,2018-07-11\n",
       "124                 2018-07-08,2018-07-13\n",
       "125                 2018-07-05,2018-07-11\n",
       "353                 2018-07-08,2018-07-11\n",
       "                       ...               \n",
       "9996                2018-07-02,2018-07-05\n",
       "10093               2018-07-05,2018-07-09\n",
       "10111    2018-07-04,2018-07-05,2018-07-06\n",
       "10176               2018-07-01,2018-07-10\n",
       "10318               2018-07-05,2018-07-06\n",
       "Name: promotion, Length: 190, dtype: object"
      ]
     },
     "execution_count": 103,
     "metadata": {},
     "output_type": "execute_result"
    }
   ],
   "source": [
    "df_infos[\"promotion\"][df_infos[\"promotion\"].str.len() > 10]"
   ]
  },
  {
   "cell_type": "code",
   "execution_count": 104,
   "id": "b95580eb",
   "metadata": {},
   "outputs": [
    {
     "data": {
      "text/plain": [
       "True"
      ]
     },
     "execution_count": 104,
     "metadata": {},
     "output_type": "execute_result"
    }
   ],
   "source": [
    "# does df_infos, containing the promotions, contain unique item IDs or are they duplicated?\n",
    "# I expect them to be unique\n",
    "\n",
    "len(df_infos[\"itemID\"]) == len(df_items)\n",
    "df_infos[\"itemID\"].value_counts().max() == 1\n"
   ]
  },
  {
   "cell_type": "code",
   "execution_count": 105,
   "id": "23756374",
   "metadata": {},
   "outputs": [
    {
     "data": {
      "text/plain": [
       "True"
      ]
     },
     "execution_count": 105,
     "metadata": {},
     "output_type": "execute_result"
    }
   ],
   "source": [
    "df_infos[\"itemID\"].isin(df_items[\"itemID\"]).count() == len(df_infos[\"itemID\"])\n",
    "\n",
    "# it contains a row for each itemID"
   ]
  },
  {
   "cell_type": "markdown",
   "id": "d6d81322",
   "metadata": {},
   "source": [
    "#### Deriving discounts for the simulation period"
   ]
  },
  {
   "cell_type": "code",
   "execution_count": 106,
   "id": "e001db37",
   "metadata": {},
   "outputs": [],
   "source": [
    "df_orders[\"maxPrice\"] = df_orders.groupby(\"itemID\")[\"salesPrice\"].transform(\"max\")"
   ]
  },
  {
   "cell_type": "code",
   "execution_count": 107,
   "id": "c4d802ee",
   "metadata": {},
   "outputs": [],
   "source": [
    "# how do discounts vary\n",
    "\n",
    "df_orders[\"discountAmount\"] = round(df_orders[\"maxPrice\"] - df_orders[\"salesPrice\"], 2)\n",
    "\n",
    "df_orders[\"discountPerc\"] = round(df_orders[\"discountAmount\"]/df_orders[\"maxPrice\"], 2)"
   ]
  },
  {
   "cell_type": "code",
   "execution_count": 108,
   "id": "a88c39d4",
   "metadata": {},
   "outputs": [
    {
     "name": "stdout",
     "output_type": "stream",
     "text": [
      "0.95 0.01\n"
     ]
    }
   ],
   "source": [
    "# max and min % discount\n",
    "\n",
    "print(max(df_orders[\"discountPerc\"]), min(df_orders[\"discountPerc\"][df_orders[\"discountPerc\"] != 0]))"
   ]
  },
  {
   "cell_type": "code",
   "execution_count": 109,
   "id": "757d1c78",
   "metadata": {},
   "outputs": [
    {
     "data": {
      "image/png": "[encoded data removed]",
      "text/plain": [
       "<Figure size 640x480 with 1 Axes>"
      ]
     },
     "metadata": {},
     "output_type": "display_data"
    }
   ],
   "source": [
    "# Create the histogram and get the bars\n",
    "ax = df_orders[\"discountPerc\"].plot(kind=\"hist\", bins=10, edgecolor='black')\n",
    "\n",
    "# Add value labels on top of each bar\n",
    "for patch in ax.patches:\n",
    "    height = patch.get_height()\n",
    "    if height > 0:\n",
    "        ax.annotate(f'{int(height)}', \n",
    "                    xy=(patch.get_x() + patch.get_width() / 2, height), \n",
    "                    xytext=(0, 5),  # offset\n",
    "                    textcoords=\"offset points\",\n",
    "                    ha='center', va='bottom')\n",
    "\n",
    "plt.xlabel(\"Discount Percentage\")\n",
    "plt.ylabel(\"Frequency\")\n",
    "plt.title(\"Histogram of Discount Percentage\")\n",
    "plt.tight_layout()\n",
    "plt.show()"
   ]
  },
  {
   "cell_type": "code",
   "execution_count": 110,
   "id": "8e788681",
   "metadata": {},
   "outputs": [
    {
     "data": {
      "image/png": "[encoded data removed]",
      "text/plain": [
       "<Figure size 640x480 with 1 Axes>"
      ]
     },
     "metadata": {},
     "output_type": "display_data"
    }
   ],
   "source": [
    "# Total number of observations\n",
    "total = len(df_orders[\"discountPerc\"].dropna())\n",
    "\n",
    "# Plot the histogram as density (normalized)\n",
    "ax = df_orders[\"discountPerc\"].plot(kind=\"hist\", bins=10, edgecolor='black', density=False)\n",
    "\n",
    "# Get the actual bin heights (counts) to calculate percentages\n",
    "counts, bins, patches = plt.hist(df_orders[\"discountPerc\"].dropna(), bins=10, edgecolor='black')\n",
    "\n",
    "# Annotate bars with percentage labels\n",
    "for count, patch in zip(counts, patches):\n",
    "    percentage = 100 * count / total\n",
    "    if count > 0:\n",
    "        plt.annotate(f'{percentage:.1f}%', \n",
    "                     xy=(patch.get_x() + patch.get_width() / 2, count), \n",
    "                     xytext=(0, 5),\n",
    "                     textcoords=\"offset points\",\n",
    "                     ha='center', va='bottom')\n",
    "\n",
    "plt.xlabel(\"Discount Percentage\")\n",
    "plt.ylabel(\"Count\")\n",
    "plt.title(\"Histogram of Discount Percentage (with % labels)\")\n",
    "plt.tight_layout()\n",
    "plt.show()"
   ]
  },
  {
   "cell_type": "code",
   "execution_count": 111,
   "id": "f26eab71",
   "metadata": {},
   "outputs": [],
   "source": [
    "# looking at the skewed distribution, for getting an approximate discount percentage per item\n",
    "# it would be better to use the median instead of the mean\n",
    "# adding column for discounted price to table df_infos = simulation price - median discount for item\n",
    "# Start with itemID column\n",
    "df_discount_stats = df_items[[\"itemID\"]].copy()\n",
    "\n",
    "# Filter out rows where discountAmount is 0\n",
    "df_nonzero_discounts = df_orders[df_orders[\"discountAmount\"] != 0].copy()\n",
    "\n",
    "# Drop duplicates to keep only unique discount percentages per item\n",
    "unique_discounts = df_nonzero_discounts.drop_duplicates(subset=[\"itemID\", \"discountPerc\"])\n",
    "\n",
    "# Now compute the median of these unique values per item\n",
    "median_discounts = (\n",
    "    unique_discounts\n",
    "    .groupby(\"itemID\")[\"discountPerc\"]\n",
    "    .median()\n",
    "    .round(2)\n",
    "    .reset_index()\n",
    "    .rename(columns={\"discountPerc\": \"medianDiscPerc\"})\n",
    ")\n",
    "\n",
    "# Merge into df_discount_stats\n",
    "df_discount_stats = df_discount_stats.merge(median_discounts, on=\"itemID\", how=\"left\")\n",
    "\n"
   ]
  },
  {
   "cell_type": "code",
   "execution_count": 112,
   "id": "501c1962",
   "metadata": {},
   "outputs": [],
   "source": [
    "# adding column for discounted price to table df_infos = simulation price - median discount for item\n",
    "\n",
    "df_infos = df_infos.merge(df_discount_stats[['itemID', 'medianDiscPerc']], on='itemID', how='left')"
   ]
  },
  {
   "cell_type": "code",
   "execution_count": 113,
   "id": "1963db7d",
   "metadata": {},
   "outputs": [],
   "source": [
    "# adding column for discounted price to table df_infos = simulation price - median discount for item\n",
    "\n",
    "df_infos[\"discountedPrice\"] = np.where(\n",
    "    df_infos[\"promotion\"].notna(),\n",
    "    round(df_infos[\"simulationPrice\"] * (1 - df_infos[\"medianDiscPerc\"]), 2),\n",
    "    np.nan  # or just leave it to default if you prefer\n",
    ")\n"
   ]
  },
  {
   "cell_type": "code",
   "execution_count": 114,
   "id": "9afc1dd4",
   "metadata": {},
   "outputs": [],
   "source": [
    "# unfinished - we have to use some mean based on similar items to derive median discount % for items which will have\n",
    "# a promotion in the simulation period but have not had a discount in the historical data"
   ]
  },
  {
   "cell_type": "code",
   "execution_count": 115,
   "id": "0d3ea76c",
   "metadata": {},
   "outputs": [],
   "source": [
    "# adding also min price per item in the orders data frame for completion\n",
    "\n",
    "df_orders[\"minPrice\"] = df_orders.groupby(\"itemID\")[\"salesPrice\"].transform(\"min\")"
   ]
  },
  {
   "cell_type": "markdown",
   "id": "4570e5cb",
   "metadata": {},
   "source": [
    "#### Quickly check relation - qty sold and promotion"
   ]
  },
  {
   "cell_type": "code",
   "execution_count": 116,
   "id": "a2785884",
   "metadata": {},
   "outputs": [],
   "source": [
    "# promo tests\n",
    "\n",
    "# Step 1: Sum quantity per itemID, date, and promotion (daily sales)\n",
    "daily_qty = (\n",
    "    df_orders\n",
    "    .groupby(['itemID', 'date', 'promotion'])['order']\n",
    "    .sum()\n",
    "    .reset_index()\n",
    ")\n",
    "\n",
    "# Step 2: Aggregate by itemID and promotion: \n",
    "# total quantity sold (sum of daily sums)\n",
    "# count of days with sales (number of unique days)\n",
    "agg = daily_qty.groupby(['itemID', 'promotion']).agg(\n",
    "    total_qty=('order', 'sum'),\n",
    "    count_days=('date', 'nunique')\n",
    ").unstack(fill_value=0)\n",
    "\n",
    "# Step 3: Build the final DataFrame safely extracting promo/no promo columns\n",
    "summary = pd.DataFrame({\n",
    "    'QTY_no_promo': agg['total_qty'].get(0, pd.Series(0)),\n",
    "    'QTY_promo': agg['total_qty'].get(1, pd.Series(0)),\n",
    "    'count_days_no_promo': agg['count_days'].get(0, pd.Series(0)),\n",
    "    'count_days_promo': agg['count_days'].get(1, pd.Series(0))\n",
    "}).reset_index()\n",
    "\n",
    "# Step 4: Calculate average quantity per day (handle division by zero)\n",
    "summary['QTY_no_promo_per_day'] = summary.apply(\n",
    "    lambda r: r['QTY_no_promo'] / r['count_days_no_promo'] if r['count_days_no_promo'] > 0 else 0,\n",
    "    axis=1\n",
    ")\n",
    "summary['QTY_promo_per_day'] = summary.apply(\n",
    "    lambda r: r['QTY_promo'] / r['count_days_promo'] if r['count_days_promo'] > 0 else 0,\n",
    "    axis=1\n",
    ")\n"
   ]
  },
  {
   "cell_type": "code",
   "execution_count": 117,
   "id": "c5d1a439",
   "metadata": {},
   "outputs": [
    {
     "data": {
      "text/plain": [
       "0.1913431810374442"
      ]
     },
     "execution_count": 117,
     "metadata": {},
     "output_type": "execute_result"
    }
   ],
   "source": [
    "# promo tests\n",
    "\n",
    "len(summary[summary[\"QTY_promo_per_day\"] > summary[\"QTY_no_promo_per_day\"]])/len(summary)"
   ]
  },
  {
   "cell_type": "markdown",
   "id": "abac634a",
   "metadata": {},
   "source": [
    "## Aggregate orders"
   ]
  },
  {
   "cell_type": "code",
   "execution_count": 118,
   "id": "30b73b84",
   "metadata": {},
   "outputs": [],
   "source": [
    "# aggregate df_orders on a daily basis\n",
    "# sum of QTY\n",
    "# average of price (or median?)?\n",
    "# promotion - if 1 is present, then 1 (had at least 1 promotion in that day)\n",
    "# median discount %?\n",
    "# median discount amount?\n",
    "\n",
    "# to make a desicion wether to use mean of median for price, discount amount, discount perc\n",
    "# we have to look at the distribution of the prices for some items\n"
   ]
  },
  {
   "cell_type": "markdown",
   "id": "c8e273a6",
   "metadata": {},
   "source": [
    "### Checking price per item distributions"
   ]
  },
  {
   "cell_type": "code",
   "execution_count": 119,
   "id": "0a469294",
   "metadata": {},
   "outputs": [],
   "source": [
    "# adding a column with item_prices_count to df_orders\n",
    "\n",
    "df_orders[\"item_prices_count\"] = df_orders.groupby(\"itemID\")[\"salesPrice\"].transform(lambda x: x.nunique())"
   ]
  },
  {
   "cell_type": "code",
   "execution_count": 120,
   "id": "92d46af0",
   "metadata": {},
   "outputs": [],
   "source": [
    "# getting a random sample where the item has price discount of > 0.79, meaning there might\n",
    "# be great price variations of the item\n",
    "\n",
    "df_sample = df_orders[[\"itemID\"]][df_orders[\"discountPerc\"] > 0.79]\n",
    "\n",
    "df_sample = df_sample.sample(n=50, random_state=222)\n",
    "\n",
    "df_sample = df_sample.sort_values(by=\"itemID\", ascending=True)\n",
    "\n",
    "df_sample = df_sample.merge(df_orders, how=\"left\", on=\"itemID\")"
   ]
  },
  {
   "cell_type": "code",
   "execution_count": 121,
   "id": "d6f9cc96",
   "metadata": {},
   "outputs": [
    {
     "data": {
      "image/png": "[encoded data removed]",
      "text/plain": [
       "<Figure size 2000x1500 with 20 Axes>"
      ]
     },
     "metadata": {},
     "output_type": "display_data"
    }
   ],
   "source": [
    "# visualizing \n",
    "\n",
    "# Unique items\n",
    "item_ids = df_sample['itemID'].unique()\n",
    "\n",
    "# Set up the grid\n",
    "rows, cols = 10, 5\n",
    "fig, axes = plt.subplots(rows, cols, figsize=(20, 15), sharex=False, sharey=False)\n",
    "axes = axes.flatten()\n",
    "\n",
    "# Plot histogram for each item\n",
    "for i, item_id in enumerate(item_ids):\n",
    "    ax = axes[i]\n",
    "    item_prices = df_sample[df_sample['itemID'] == item_id]['salesPrice']\n",
    "\n",
    "    ax.hist(item_prices, bins=10, color='skyblue', edgecolor='black')\n",
    "    ax.set_title(f'Item {item_id}', fontsize=8)\n",
    "    ax.tick_params(labelsize=6)\n",
    "    ax.grid(True)\n",
    "\n",
    "# Hide unused subplots\n",
    "for j in range(len(item_ids), len(axes)):\n",
    "    fig.delaxes(axes[j])\n",
    "\n",
    "plt.tight_layout()\n",
    "plt.show()"
   ]
  },
  {
   "cell_type": "code",
   "execution_count": 122,
   "id": "df63ca64",
   "metadata": {},
   "outputs": [],
   "source": [
    "# it would be useful to see another check to make aa decision\n",
    "# see the top 10 items for which the mean and median are the most different and\n",
    "# see which one makes more sence for us\n",
    "\n",
    "# Group by itemID and compute mean and median\n",
    "price_stats = df_orders.groupby('itemID')['salesPrice'].agg(\n",
    "    mean_price='mean',\n",
    "    median_price='median'\n",
    ").reset_index()\n",
    "\n",
    "# Compute absolute difference\n",
    "price_stats['abs_diff'] = (price_stats['mean_price'] - price_stats['median_price']).abs()\n",
    "\n",
    "# Compute absolute percentage difference relative to median\n",
    "price_stats['abs_perc_diff'] = (price_stats['abs_diff'] / price_stats['median_price']).abs() * 100\n",
    "\n",
    "# Round numerical columns\n",
    "price_stats[['mean_price', 'median_price', 'abs_diff', 'abs_perc_diff']] = price_stats[\n",
    "    ['mean_price', 'median_price', 'abs_diff', 'abs_perc_diff']].round(2)\n",
    "\n",
    "# Sort by absolute percentage difference descending\n",
    "price_stats = price_stats.sort_values(by='abs_perc_diff', ascending=False)"
   ]
  },
  {
   "cell_type": "code",
   "execution_count": 123,
   "id": "256597e1",
   "metadata": {},
   "outputs": [],
   "source": [
    "# now look at histograms of top 50 of items with most % difference of mean and median\n",
    "\n",
    "df_sample = price_stats.sort_values(by='abs_perc_diff', ascending=False).head(50)[[\"itemID\"]]\n",
    "\n",
    "df_sample = df_sample.sample(n=50, random_state=222)\n",
    "\n",
    "df_sample = df_sample.sort_values(by=\"itemID\", ascending=True)\n",
    "\n",
    "df_sample = df_sample.merge(df_orders, how=\"left\", on=\"itemID\")"
   ]
  },
  {
   "cell_type": "code",
   "execution_count": 124,
   "id": "cfcfd246",
   "metadata": {},
   "outputs": [
    {
     "data": {
      "image/png": "[encoded data removed]",
      "text/plain": [
       "<Figure size 2000x1500 with 50 Axes>"
      ]
     },
     "metadata": {},
     "output_type": "display_data"
    }
   ],
   "source": [
    "# visualizing \n",
    "\n",
    "# Unique items\n",
    "item_ids = df_sample['itemID'].unique()\n",
    "\n",
    "# Set up the grid\n",
    "rows, cols = 10, 5\n",
    "fig, axes = plt.subplots(rows, cols, figsize=(20, 15), sharex=False, sharey=False)\n",
    "axes = axes.flatten()\n",
    "\n",
    "# Plot histogram for each item\n",
    "for i, item_id in enumerate(item_ids):\n",
    "    ax = axes[i]\n",
    "    item_prices = df_sample[df_sample['itemID'] == item_id]['salesPrice']\n",
    "\n",
    "    ax.hist(item_prices, bins=10, color='skyblue', edgecolor='black')\n",
    "    ax.set_title(f'Item {item_id}', fontsize=8)\n",
    "    ax.tick_params(labelsize=6)\n",
    "    ax.grid(True)\n",
    "\n",
    "# Hide unused subplots\n",
    "for j in range(len(item_ids), len(axes)):\n",
    "    fig.delaxes(axes[j])\n",
    "\n",
    "plt.tight_layout()\n",
    "plt.show()"
   ]
  },
  {
   "cell_type": "code",
   "execution_count": 125,
   "id": "e719f780",
   "metadata": {},
   "outputs": [],
   "source": [
    "# it is better to use mean because the extreme values are not a one-case accidental thing"
   ]
  },
  {
   "cell_type": "code",
   "execution_count": 126,
   "id": "1415bd42",
   "metadata": {},
   "outputs": [],
   "source": [
    "# aggregate using mean (average), but specifically weighted average, to gain price per each\n",
    "# weighted average will take into account how accidental the outlier prices were"
   ]
  },
  {
   "cell_type": "markdown",
   "id": "f4e49f5b",
   "metadata": {},
   "source": [
    "### Aggregate orders on day level"
   ]
  },
  {
   "cell_type": "code",
   "execution_count": 127,
   "id": "ff1227cd",
   "metadata": {},
   "outputs": [],
   "source": [
    "# in order to get weighted average price per each for the items\n",
    "# first we need to add a column to df_orders\n",
    "# with order value = qty * price\n",
    "\n",
    "df_orders[\"orderValue\"] = df_orders[\"order\"] * df_orders[\"salesPrice\"]"
   ]
  },
  {
   "cell_type": "code",
   "execution_count": 128,
   "id": "eaa9740d",
   "metadata": {},
   "outputs": [],
   "source": [
    "# aggregating on day level\n",
    "\n",
    "df_orders_daily = df_orders.groupby(['date', 'itemID']).agg(\n",
    "    qty_sold=('order', 'sum'),\n",
    "    sales_value=('orderValue', 'sum'),\n",
    "    promotion=('promotion', 'max'),  # If any transaction had promotion == 1, result will be 1\n",
    "    maxItemPrice=('maxPrice', 'max'), # doesn't matter min or max - its the same value for all transactions with the same item\n",
    "    minItemPrice=('minPrice', 'max') # doesn't matter min or max - its the same value for all transactions with the same item\n",
    ").reset_index()"
   ]
  },
  {
   "cell_type": "code",
   "execution_count": 129,
   "id": "1cc99583",
   "metadata": {},
   "outputs": [],
   "source": [
    "# deriving price per each for the items\n",
    "# checkp change to last mode\n",
    "\n",
    "df_orders_daily[\"TotalItemQty\"] = df_orders_daily.groupby(\"itemID\")[\"qty_sold\"].transform(\"sum\")\n",
    "df_orders_daily[\"TotalItemValue\"] = df_orders_daily.groupby(\"itemID\")[\"sales_value\"].transform(\"sum\")\n",
    "\n",
    "df_orders_daily[\"PricePerEach\"] = round(df_orders_daily[\"TotalItemValue\"] / df_orders_daily[\"TotalItemQty\"], 2)\n",
    "\n",
    "df_orders_daily = df_orders_daily.drop(['TotalItemQty', 'TotalItemValue'], axis=1)"
   ]
  },
  {
   "cell_type": "code",
   "execution_count": 130,
   "id": "6f8ad04c",
   "metadata": {},
   "outputs": [],
   "source": [
    "# deriving price per each for the items, but specific price for that day\n",
    "\n",
    "df_orders_daily[\"DailyItemQty\"] = df_orders_daily.groupby([\"itemID\", \"date\"])[\"qty_sold\"].transform(\"sum\")\n",
    "df_orders_daily[\"DailyItemValue\"] = df_orders_daily.groupby([\"itemID\", \"date\"])[\"sales_value\"].transform(\"sum\")\n",
    "\n",
    "df_orders_daily[\"PricePerEachToday\"] = round(df_orders_daily[\"DailyItemValue\"] / df_orders_daily[\"DailyItemQty\"], 2)\n",
    "\n",
    "df_orders_daily = df_orders_daily.drop(['DailyItemQty', 'DailyItemValue'], axis=1)"
   ]
  },
  {
   "cell_type": "code",
   "execution_count": 131,
   "id": "e63381aa",
   "metadata": {},
   "outputs": [],
   "source": [
    "# add median discout for the items\n",
    "# we have it currently for each item in df_infos\n",
    "\n",
    "# Select only itemID and medianDiscount from df_infos and merge on itemID\n",
    "df_orders_daily = df_orders_daily.merge(\n",
    "    df_infos[[\"itemID\", \"medianDiscPerc\"]],\n",
    "    how=\"left\",\n",
    "    on=\"itemID\"\n",
    ")"
   ]
  },
  {
   "cell_type": "markdown",
   "id": "a63d904b",
   "metadata": {},
   "source": [
    "## Add features"
   ]
  },
  {
   "cell_type": "markdown",
   "id": "b5c3310a",
   "metadata": {},
   "source": [
    "#### Complete main DF with missing date + item combinations"
   ]
  },
  {
   "cell_type": "code",
   "execution_count": 132,
   "id": "c3279e30",
   "metadata": {},
   "outputs": [],
   "source": [
    "# completing our main data frame with all missing day+item combinations\n",
    "# for them qty_sold = 0, sales_value = 0, promotion = 0, maxItemPrice = maxItemPrice, minItemPrice = minItemPrice\n",
    "# PricePerEach = mean PricePerEach for that item, medianDiscPerc = medianDiscPerc\n",
    "\n",
    "new_df = pd.DataFrame(df_orders_daily[\"itemID\"].unique(), columns = [\"itemID\"])"
   ]
  },
  {
   "cell_type": "code",
   "execution_count": 133,
   "id": "639216b2",
   "metadata": {},
   "outputs": [],
   "source": [
    "# Create date range\n",
    "date_range = pd.date_range(start='2018-01-01', end='2018-06-07', freq='D')\n",
    "\n",
    "# Create DataFrame\n",
    "df_dates = pd.DataFrame({'date': date_range})"
   ]
  },
  {
   "cell_type": "code",
   "execution_count": 134,
   "id": "c3701829",
   "metadata": {},
   "outputs": [],
   "source": [
    "# Add a dummy key to both DataFrames\n",
    "df_dates[\"key\"] = 1\n",
    "new_df[\"key\"] = 1\n",
    "\n",
    "# Perform cross join\n",
    "new_df = pd.merge(df_dates, new_df, on=\"key\").drop(\"key\", axis=1)\n",
    "\n",
    "# Sort by date and then itemID\n",
    "new_df = new_df.sort_values(by=[\"date\", \"itemID\"]).reset_index(drop=True)\n"
   ]
  },
  {
   "cell_type": "code",
   "execution_count": 135,
   "id": "50c23aa5",
   "metadata": {},
   "outputs": [],
   "source": [
    "df_orders_daily = new_df.merge(df_orders_daily, how=\"left\", on=[\"date\", \"itemID\"])"
   ]
  },
  {
   "cell_type": "code",
   "execution_count": 136,
   "id": "fb56a758",
   "metadata": {},
   "outputs": [],
   "source": [
    "# for them qty_sold = 0, sales_value = 0, promotion = 0\n",
    "\n",
    "df_orders_daily[[\"qty_sold\", \"sales_value\", \"promotion\"]] = df_orders_daily[[\"qty_sold\", \"sales_value\", \"promotion\"]].fillna(0)"
   ]
  },
  {
   "cell_type": "code",
   "execution_count": 137,
   "id": "971cb53d",
   "metadata": {},
   "outputs": [],
   "source": [
    "# maxItemPrice = maxItemPrice, minItemPrice = minItemPrice, PricePerEach = mean PricePerEach for that item, medianDiscPerc = medianDiscPerc\n",
    "\n",
    "# Fill missing maxItemPrice with the max per itemID\n",
    "df_orders_daily[\"maxItemPrice\"] = df_orders_daily.groupby(\"itemID\")[\"maxItemPrice\"].transform(lambda x: x.fillna(x.max()))\n",
    "\n",
    "# Fill missing minItemPrice with the max per itemID\n",
    "df_orders_daily[\"minItemPrice\"] = df_orders_daily.groupby(\"itemID\")[\"minItemPrice\"].transform(lambda x: x.fillna(x.max()))\n",
    "\n",
    "# Fill missing PricePerEach with the max per itemID\n",
    "df_orders_daily[\"PricePerEach\"] = df_orders_daily.groupby(\"itemID\")[\"PricePerEach\"].transform(lambda x: x.fillna(x.max()))\n",
    "\n",
    "# Fill missing PricePerEachToday with the mean per itemID\n",
    "df_orders_daily[\"PricePerEachToday\"] = df_orders_daily.groupby(\"itemID\")[\"PricePerEachToday\"].transform(lambda x: x.fillna(x.mean()))\n",
    "\n",
    "df_orders_daily[\"PricePerEachToday\"] = df_orders_daily[\"PricePerEachToday\"].round(2)\n",
    "\n",
    "# Fill missing medianDiscPerc with the max per itemID\n",
    "df_orders_daily[\"medianDiscPerc\"] = df_orders_daily.groupby(\"itemID\")[\"medianDiscPerc\"].transform(lambda x: x.fillna(x.max()))"
   ]
  },
  {
   "cell_type": "markdown",
   "id": "1d895f1b",
   "metadata": {},
   "source": [
    "#### Add masterdata"
   ]
  },
  {
   "cell_type": "code",
   "execution_count": 138,
   "id": "14b90805",
   "metadata": {},
   "outputs": [],
   "source": [
    "# include masterdata\n",
    "\n",
    "df_orders_daily = df_orders_daily.merge(df_items, how=\"left\", on=\"itemID\")"
   ]
  },
  {
   "cell_type": "markdown",
   "id": "d660dc7a",
   "metadata": {},
   "source": [
    "#### Add date features"
   ]
  },
  {
   "cell_type": "code",
   "execution_count": 139,
   "id": "eca058ef",
   "metadata": {},
   "outputs": [],
   "source": [
    "# Add date features\n",
    "df_orders_daily[\"weekDay\"] = df_orders_daily[\"date\"].dt.weekday + 1\n",
    "df_orders_daily[\"day\"] = df_orders_daily[\"date\"].dt.day"
   ]
  },
  {
   "cell_type": "code",
   "execution_count": 140,
   "id": "15b54baf",
   "metadata": {},
   "outputs": [],
   "source": [
    "def get_week_of_month(date):\n",
    "    # First day of the month\n",
    "    first_day = date.replace(day=1)\n",
    "    \n",
    "    # Find the day of the week the first day lands on (Monday=0, Sunday=6)\n",
    "    first_day_weekday = first_day.weekday()\n",
    "    \n",
    "    # Calendar row index = (day of month + offset from Monday) // 7 + 1\n",
    "    return ((date.day + first_day_weekday - 1) // 7) + 1\n",
    "\n",
    "# Apply the function to create the column\n",
    "df_orders_daily['weekOfMonth'] = df_orders_daily['date'].apply(get_week_of_month)"
   ]
  },
  {
   "cell_type": "markdown",
   "id": "0258b357",
   "metadata": {},
   "source": [
    "#### Add lagged variables"
   ]
  },
  {
   "cell_type": "code",
   "execution_count": 141,
   "id": "851272b6",
   "metadata": {},
   "outputs": [],
   "source": [
    "# sort by item and date before shift\n",
    "df_orders_daily = df_orders_daily.sort_values(by=[\"itemID\", \"date\"])\n"
   ]
  },
  {
   "cell_type": "code",
   "execution_count": 142,
   "id": "b0c664e3",
   "metadata": {},
   "outputs": [],
   "source": [
    "# looking at average daily orders and median daily orders of the items\n",
    "# to help decide how many lags are appropriate\n",
    "\n",
    "# define a function to compute the median of unique values\n",
    "def median_of_unique(x):\n",
    "    return np.median(np.unique(x))\n",
    "\n",
    "# compute average daily orders and median of unique daily orders\n",
    "item_daily_stats = (\n",
    "    df_orders_daily.groupby('itemID')[\"qty_sold\"]\n",
    "    .agg(\n",
    "        avg_daily_orders='mean',\n",
    "        median_daily_orders_unique=lambda x: median_of_unique(x)\n",
    "    )\n",
    "    .reset_index()\n",
    ")\n",
    "\n",
    "item_daily_stats[\"avg_daily_orders\"] = item_daily_stats[\"avg_daily_orders\"].round(2)\n",
    "item_daily_stats[\"median_daily_orders_unique\"] = item_daily_stats[\"median_daily_orders_unique\"].round(2)"
   ]
  },
  {
   "cell_type": "code",
   "execution_count": 143,
   "id": "4bccae15",
   "metadata": {},
   "outputs": [],
   "source": [
    "# I tested a couple of options\n",
    "# settled on 1 lag only to be able to drop the rows with missing values  resutlting from the lag\n",
    "# without losing much data\n",
    "# anyways, we would expect that the sale from the day directly before will be most significat"
   ]
  },
  {
   "cell_type": "code",
   "execution_count": 144,
   "id": "473a8bb7",
   "metadata": {},
   "outputs": [],
   "source": [
    "# Create lagged variables for qty_sold (currently, just 1)\n",
    "\n",
    "lags = [1, 2, 3, 7]\n",
    "for lag in lags:\n",
    "    df_orders_daily[f\"qty_sold_lag{lag}\"] = (\n",
    "        df_orders_daily.groupby(\"itemID\")[\"qty_sold\"].shift(lag)\n",
    "    )"
   ]
  },
  {
   "cell_type": "code",
   "execution_count": 145,
   "id": "89ef19a6",
   "metadata": {},
   "outputs": [],
   "source": [
    "# Reorder lag columns right after qty_sold\n",
    "# Get all column names\n",
    "cols = list(df_orders_daily.columns)\n",
    "\n",
    "# Remove lag columns from current position\n",
    "lag_cols = [f\"qty_sold_lag{lag}\" for lag in lags]\n",
    "for col in lag_cols:\n",
    "    cols.remove(col)\n",
    "\n",
    "# Find index of qty_sold\n",
    "qty_idx = cols.index(\"qty_sold\")\n",
    "\n",
    "# Insert lag columns in order after qty_sold\n",
    "for i, col in enumerate(lag_cols):\n",
    "    cols.insert(qty_idx + 1 + i, col)\n",
    "\n",
    "# Reorder DataFrame\n",
    "df_orders_daily = df_orders_daily[cols]"
   ]
  },
  {
   "cell_type": "code",
   "execution_count": 146,
   "id": "c6a286a4",
   "metadata": {},
   "outputs": [
    {
     "data": {
      "text/plain": [
       "1318683"
      ]
     },
     "execution_count": 146,
     "metadata": {},
     "output_type": "execute_result"
    }
   ],
   "source": [
    "# how many values will remain if rows containing NA are dropped\n",
    "\n",
    "len(df_orders_daily.dropna(subset=[\"qty_sold_lag1\", \"qty_sold_lag2\", \"qty_sold_lag3\", \"qty_sold_lag7\"]))"
   ]
  },
  {
   "cell_type": "code",
   "execution_count": 147,
   "id": "44ad4f61",
   "metadata": {},
   "outputs": [
    {
     "data": {
      "text/plain": [
       "95.57"
      ]
     },
     "execution_count": 147,
     "metadata": {},
     "output_type": "execute_result"
    }
   ],
   "source": [
    "# what % will remain if rows containing NA are dropped\n",
    "\n",
    "round((len(df_orders_daily.dropna(subset=[\"qty_sold_lag1\", \"qty_sold_lag2\", \"qty_sold_lag3\", \"qty_sold_lag7\"]))/len(df_orders_daily))*100, 2)"
   ]
  },
  {
   "cell_type": "code",
   "execution_count": 148,
   "id": "e83f7ef9",
   "metadata": {},
   "outputs": [],
   "source": [
    "# dropping rows containing NA\n",
    "\n",
    "df_orders_daily.dropna(subset=[\"qty_sold_lag1\", \"qty_sold_lag2\", \"qty_sold_lag3\", \"qty_sold_lag7\"], inplace=True)"
   ]
  },
  {
   "cell_type": "markdown",
   "id": "57e59b29",
   "metadata": {},
   "source": [
    "### Add 2 noise columns for significance testing"
   ]
  },
  {
   "cell_type": "code",
   "execution_count": 149,
   "id": "94e3bccc",
   "metadata": {},
   "outputs": [],
   "source": [
    "# think about whether we want to put some borders"
   ]
  },
  {
   "cell_type": "code",
   "execution_count": 150,
   "id": "511a337c",
   "metadata": {},
   "outputs": [],
   "source": [
    "np.random.seed(22)  # for reproducibility\n",
    "\n",
    "df_orders_daily[\"random_noise1\"] = np.random.normal(0, 1, len(df_orders_daily))"
   ]
  },
  {
   "cell_type": "code",
   "execution_count": 151,
   "id": "cd8b24df",
   "metadata": {},
   "outputs": [],
   "source": [
    "np.random.seed(66)  # for reproducibility\n",
    "\n",
    "df_orders_daily[\"random_noise2\"] = np.random.normal(0, 1, len(df_orders_daily))"
   ]
  },
  {
   "cell_type": "code",
   "execution_count": 152,
   "id": "47f42714",
   "metadata": {},
   "outputs": [],
   "source": [
    "# some more rounding\n",
    "\n",
    "df_orders_daily[\"sales_value\"] = df_orders_daily[\"sales_value\"].round(2)\n",
    "df_orders_daily[\"random_noise1\"] = df_orders_daily[\"random_noise1\"].round(2)\n",
    "df_orders_daily[\"random_noise2\"] = df_orders_daily[\"random_noise2\"].round(2)"
   ]
  },
  {
   "cell_type": "code",
   "execution_count": 153,
   "id": "665df1db",
   "metadata": {},
   "outputs": [],
   "source": [
    "df_orders_daily['cum_order'] = df_orders_daily.groupby('itemID')['qty_sold'].cumsum()"
   ]
  },
  {
   "cell_type": "code",
   "execution_count": 154,
   "id": "1fb57b0a",
   "metadata": {},
   "outputs": [
    {
     "data": {
      "application/vnd.microsoft.datawrangler.viewer.v0+json": {
       "columns": [
        {
         "name": "index",
         "rawType": "int64",
         "type": "integer"
        },
        {
         "name": "date",
         "rawType": "datetime64[ns]",
         "type": "datetime"
        },
        {
         "name": "itemID",
         "rawType": "int64",
         "type": "integer"
        },
        {
         "name": "qty_sold",
         "rawType": "float64",
         "type": "float"
        },
        {
         "name": "qty_sold_lag1",
         "rawType": "float64",
         "type": "float"
        },
        {
         "name": "qty_sold_lag2",
         "rawType": "float64",
         "type": "float"
        },
        {
         "name": "qty_sold_lag3",
         "rawType": "float64",
         "type": "float"
        },
        {
         "name": "qty_sold_lag7",
         "rawType": "float64",
         "type": "float"
        },
        {
         "name": "sales_value",
         "rawType": "float64",
         "type": "float"
        },
        {
         "name": "promotion",
         "rawType": "float64",
         "type": "float"
        },
        {
         "name": "maxItemPrice",
         "rawType": "float64",
         "type": "float"
        },
        {
         "name": "minItemPrice",
         "rawType": "float64",
         "type": "float"
        },
        {
         "name": "PricePerEach",
         "rawType": "float64",
         "type": "float"
        },
        {
         "name": "PricePerEachToday",
         "rawType": "float64",
         "type": "float"
        },
        {
         "name": "medianDiscPerc",
         "rawType": "float64",
         "type": "float"
        },
        {
         "name": "brand",
         "rawType": "int64",
         "type": "integer"
        },
        {
         "name": "manufacturer",
         "rawType": "int64",
         "type": "integer"
        },
        {
         "name": "customerRating",
         "rawType": "float64",
         "type": "float"
        },
        {
         "name": "category1",
         "rawType": "int64",
         "type": "integer"
        },
        {
         "name": "category2",
         "rawType": "int64",
         "type": "integer"
        },
        {
         "name": "category3",
         "rawType": "int64",
         "type": "integer"
        },
        {
         "name": "recommendedRetailPrice",
         "rawType": "float64",
         "type": "float"
        },
        {
         "name": "weekDay",
         "rawType": "int32",
         "type": "integer"
        },
        {
         "name": "day",
         "rawType": "int32",
         "type": "integer"
        },
        {
         "name": "weekOfMonth",
         "rawType": "int64",
         "type": "integer"
        },
        {
         "name": "random_noise1",
         "rawType": "float64",
         "type": "float"
        },
        {
         "name": "random_noise2",
         "rawType": "float64",
         "type": "float"
        },
        {
         "name": "cum_order",
         "rawType": "float64",
         "type": "float"
        }
       ],
       "ref": "5c5c12c4-7138-4353-b12e-b418e365d960",
       "rows": [
        [
         "61131",
         "2018-01-08 00:00:00",
         "1",
         "0.0",
         "0.0",
         "0.0",
         "0.0",
         "0.0",
         "0.0",
         "0.0",
         "3.11",
         "3.11",
         "3.11",
         "3.11",
         null,
         "0",
         "1",
         "4.38",
         "1",
         "1",
         "1",
         "8.84",
         "1",
         "8",
         "2",
         "-0.09",
         "1.42",
         "0.0"
        ],
        [
         "69864",
         "2018-01-09 00:00:00",
         "1",
         "0.0",
         "0.0",
         "0.0",
         "0.0",
         "0.0",
         "0.0",
         "0.0",
         "3.11",
         "3.11",
         "3.11",
         "3.11",
         null,
         "0",
         "1",
         "4.38",
         "1",
         "1",
         "1",
         "8.84",
         "2",
         "9",
         "2",
         "-1.46",
         "-1.09",
         "0.0"
        ],
        [
         "78597",
         "2018-01-10 00:00:00",
         "1",
         "0.0",
         "0.0",
         "0.0",
         "0.0",
         "0.0",
         "0.0",
         "0.0",
         "3.11",
         "3.11",
         "3.11",
         "3.11",
         null,
         "0",
         "1",
         "4.38",
         "1",
         "1",
         "1",
         "8.84",
         "3",
         "10",
         "2",
         "1.08",
         "-0.62",
         "0.0"
        ],
        [
         "87330",
         "2018-01-11 00:00:00",
         "1",
         "0.0",
         "0.0",
         "0.0",
         "0.0",
         "0.0",
         "0.0",
         "0.0",
         "3.11",
         "3.11",
         "3.11",
         "3.11",
         null,
         "0",
         "1",
         "4.38",
         "1",
         "1",
         "1",
         "8.84",
         "4",
         "11",
         "2",
         "-0.24",
         "-0.76",
         "0.0"
        ],
        [
         "96063",
         "2018-01-12 00:00:00",
         "1",
         "0.0",
         "0.0",
         "0.0",
         "0.0",
         "0.0",
         "0.0",
         "0.0",
         "3.11",
         "3.11",
         "3.11",
         "3.11",
         null,
         "0",
         "1",
         "4.38",
         "1",
         "1",
         "1",
         "8.84",
         "5",
         "12",
         "2",
         "-0.49",
         "0.35",
         "0.0"
        ]
       ],
       "shape": {
        "columns": 27,
        "rows": 5
       }
      },
      "text/html": [
       "<div>\n",
       "<style scoped>\n",
       "    .dataframe tbody tr th:only-of-type {\n",
       "        vertical-align: middle;\n",
       "    }\n",
       "\n",
       "    .dataframe tbody tr th {\n",
       "        vertical-align: top;\n",
       "    }\n",
       "\n",
       "    .dataframe thead th {\n",
       "        text-align: right;\n",
       "    }\n",
       "</style>\n",
       "<table border=\"1\" class=\"dataframe\">\n",
       "  <thead>\n",
       "    <tr style=\"text-align: right;\">\n",
       "      <th></th>\n",
       "      <th>date</th>\n",
       "      <th>itemID</th>\n",
       "      <th>qty_sold</th>\n",
       "      <th>qty_sold_lag1</th>\n",
       "      <th>qty_sold_lag2</th>\n",
       "      <th>qty_sold_lag3</th>\n",
       "      <th>qty_sold_lag7</th>\n",
       "      <th>sales_value</th>\n",
       "      <th>promotion</th>\n",
       "      <th>maxItemPrice</th>\n",
       "      <th>...</th>\n",
       "      <th>category1</th>\n",
       "      <th>category2</th>\n",
       "      <th>category3</th>\n",
       "      <th>recommendedRetailPrice</th>\n",
       "      <th>weekDay</th>\n",
       "      <th>day</th>\n",
       "      <th>weekOfMonth</th>\n",
       "      <th>random_noise1</th>\n",
       "      <th>random_noise2</th>\n",
       "      <th>cum_order</th>\n",
       "    </tr>\n",
       "  </thead>\n",
       "  <tbody>\n",
       "    <tr>\n",
       "      <th>61131</th>\n",
       "      <td>2018-01-08</td>\n",
       "      <td>1</td>\n",
       "      <td>0.0</td>\n",
       "      <td>0.0</td>\n",
       "      <td>0.0</td>\n",
       "      <td>0.0</td>\n",
       "      <td>0.0</td>\n",
       "      <td>0.0</td>\n",
       "      <td>0.0</td>\n",
       "      <td>3.11</td>\n",
       "      <td>...</td>\n",
       "      <td>1</td>\n",
       "      <td>1</td>\n",
       "      <td>1</td>\n",
       "      <td>8.84</td>\n",
       "      <td>1</td>\n",
       "      <td>8</td>\n",
       "      <td>2</td>\n",
       "      <td>-0.09</td>\n",
       "      <td>1.42</td>\n",
       "      <td>0.0</td>\n",
       "    </tr>\n",
       "    <tr>\n",
       "      <th>69864</th>\n",
       "      <td>2018-01-09</td>\n",
       "      <td>1</td>\n",
       "      <td>0.0</td>\n",
       "      <td>0.0</td>\n",
       "      <td>0.0</td>\n",
       "      <td>0.0</td>\n",
       "      <td>0.0</td>\n",
       "      <td>0.0</td>\n",
       "      <td>0.0</td>\n",
       "      <td>3.11</td>\n",
       "      <td>...</td>\n",
       "      <td>1</td>\n",
       "      <td>1</td>\n",
       "      <td>1</td>\n",
       "      <td>8.84</td>\n",
       "      <td>2</td>\n",
       "      <td>9</td>\n",
       "      <td>2</td>\n",
       "      <td>-1.46</td>\n",
       "      <td>-1.09</td>\n",
       "      <td>0.0</td>\n",
       "    </tr>\n",
       "    <tr>\n",
       "      <th>78597</th>\n",
       "      <td>2018-01-10</td>\n",
       "      <td>1</td>\n",
       "      <td>0.0</td>\n",
       "      <td>0.0</td>\n",
       "      <td>0.0</td>\n",
       "      <td>0.0</td>\n",
       "      <td>0.0</td>\n",
       "      <td>0.0</td>\n",
       "      <td>0.0</td>\n",
       "      <td>3.11</td>\n",
       "      <td>...</td>\n",
       "      <td>1</td>\n",
       "      <td>1</td>\n",
       "      <td>1</td>\n",
       "      <td>8.84</td>\n",
       "      <td>3</td>\n",
       "      <td>10</td>\n",
       "      <td>2</td>\n",
       "      <td>1.08</td>\n",
       "      <td>-0.62</td>\n",
       "      <td>0.0</td>\n",
       "    </tr>\n",
       "    <tr>\n",
       "      <th>87330</th>\n",
       "      <td>2018-01-11</td>\n",
       "      <td>1</td>\n",
       "      <td>0.0</td>\n",
       "      <td>0.0</td>\n",
       "      <td>0.0</td>\n",
       "      <td>0.0</td>\n",
       "      <td>0.0</td>\n",
       "      <td>0.0</td>\n",
       "      <td>0.0</td>\n",
       "      <td>3.11</td>\n",
       "      <td>...</td>\n",
       "      <td>1</td>\n",
       "      <td>1</td>\n",
       "      <td>1</td>\n",
       "      <td>8.84</td>\n",
       "      <td>4</td>\n",
       "      <td>11</td>\n",
       "      <td>2</td>\n",
       "      <td>-0.24</td>\n",
       "      <td>-0.76</td>\n",
       "      <td>0.0</td>\n",
       "    </tr>\n",
       "    <tr>\n",
       "      <th>96063</th>\n",
       "      <td>2018-01-12</td>\n",
       "      <td>1</td>\n",
       "      <td>0.0</td>\n",
       "      <td>0.0</td>\n",
       "      <td>0.0</td>\n",
       "      <td>0.0</td>\n",
       "      <td>0.0</td>\n",
       "      <td>0.0</td>\n",
       "      <td>0.0</td>\n",
       "      <td>3.11</td>\n",
       "      <td>...</td>\n",
       "      <td>1</td>\n",
       "      <td>1</td>\n",
       "      <td>1</td>\n",
       "      <td>8.84</td>\n",
       "      <td>5</td>\n",
       "      <td>12</td>\n",
       "      <td>2</td>\n",
       "      <td>-0.49</td>\n",
       "      <td>0.35</td>\n",
       "      <td>0.0</td>\n",
       "    </tr>\n",
       "  </tbody>\n",
       "</table>\n",
       "<p>5 rows × 27 columns</p>\n",
       "</div>"
      ],
      "text/plain": [
       "            date  itemID  qty_sold  qty_sold_lag1  qty_sold_lag2  \\\n",
       "61131 2018-01-08       1       0.0            0.0            0.0   \n",
       "69864 2018-01-09       1       0.0            0.0            0.0   \n",
       "78597 2018-01-10       1       0.0            0.0            0.0   \n",
       "87330 2018-01-11       1       0.0            0.0            0.0   \n",
       "96063 2018-01-12       1       0.0            0.0            0.0   \n",
       "\n",
       "       qty_sold_lag3  qty_sold_lag7  sales_value  promotion  maxItemPrice  \\\n",
       "61131            0.0            0.0          0.0        0.0          3.11   \n",
       "69864            0.0            0.0          0.0        0.0          3.11   \n",
       "78597            0.0            0.0          0.0        0.0          3.11   \n",
       "87330            0.0            0.0          0.0        0.0          3.11   \n",
       "96063            0.0            0.0          0.0        0.0          3.11   \n",
       "\n",
       "       ...  category1  category2  category3  recommendedRetailPrice  weekDay  \\\n",
       "61131  ...          1          1          1                    8.84        1   \n",
       "69864  ...          1          1          1                    8.84        2   \n",
       "78597  ...          1          1          1                    8.84        3   \n",
       "87330  ...          1          1          1                    8.84        4   \n",
       "96063  ...          1          1          1                    8.84        5   \n",
       "\n",
       "       day  weekOfMonth  random_noise1  random_noise2  cum_order  \n",
       "61131    8            2          -0.09           1.42        0.0  \n",
       "69864    9            2          -1.46          -1.09        0.0  \n",
       "78597   10            2           1.08          -0.62        0.0  \n",
       "87330   11            2          -0.24          -0.76        0.0  \n",
       "96063   12            2          -0.49           0.35        0.0  \n",
       "\n",
       "[5 rows x 27 columns]"
      ]
     },
     "execution_count": 154,
     "metadata": {},
     "output_type": "execute_result"
    }
   ],
   "source": [
    "df_orders_daily.head()"
   ]
  },
  {
   "cell_type": "code",
   "execution_count": 155,
   "id": "4f4318a1",
   "metadata": {},
   "outputs": [
    {
     "data": {
      "application/vnd.microsoft.datawrangler.viewer.v0+json": {
       "columns": [
        {
         "name": "index",
         "rawType": "int64",
         "type": "integer"
        },
        {
         "name": "date",
         "rawType": "datetime64[ns]",
         "type": "datetime"
        },
        {
         "name": "itemID",
         "rawType": "int64",
         "type": "integer"
        },
        {
         "name": "qty_sold",
         "rawType": "float64",
         "type": "float"
        },
        {
         "name": "qty_sold_lag1",
         "rawType": "float64",
         "type": "float"
        },
        {
         "name": "qty_sold_lag2",
         "rawType": "float64",
         "type": "float"
        },
        {
         "name": "qty_sold_lag3",
         "rawType": "float64",
         "type": "float"
        },
        {
         "name": "qty_sold_lag7",
         "rawType": "float64",
         "type": "float"
        },
        {
         "name": "sales_value",
         "rawType": "float64",
         "type": "float"
        },
        {
         "name": "promotion",
         "rawType": "float64",
         "type": "float"
        },
        {
         "name": "maxItemPrice",
         "rawType": "float64",
         "type": "float"
        },
        {
         "name": "minItemPrice",
         "rawType": "float64",
         "type": "float"
        },
        {
         "name": "PricePerEach",
         "rawType": "float64",
         "type": "float"
        },
        {
         "name": "PricePerEachToday",
         "rawType": "float64",
         "type": "float"
        },
        {
         "name": "medianDiscPerc",
         "rawType": "float64",
         "type": "float"
        },
        {
         "name": "brand",
         "rawType": "int64",
         "type": "integer"
        },
        {
         "name": "manufacturer",
         "rawType": "int64",
         "type": "integer"
        },
        {
         "name": "customerRating",
         "rawType": "float64",
         "type": "float"
        },
        {
         "name": "category1",
         "rawType": "int64",
         "type": "integer"
        },
        {
         "name": "category2",
         "rawType": "int64",
         "type": "integer"
        },
        {
         "name": "category3",
         "rawType": "int64",
         "type": "integer"
        },
        {
         "name": "recommendedRetailPrice",
         "rawType": "float64",
         "type": "float"
        },
        {
         "name": "weekDay",
         "rawType": "int32",
         "type": "integer"
        },
        {
         "name": "day",
         "rawType": "int32",
         "type": "integer"
        },
        {
         "name": "weekOfMonth",
         "rawType": "int64",
         "type": "integer"
        },
        {
         "name": "random_noise1",
         "rawType": "float64",
         "type": "float"
        },
        {
         "name": "random_noise2",
         "rawType": "float64",
         "type": "float"
        },
        {
         "name": "cum_order",
         "rawType": "float64",
         "type": "float"
        }
       ],
       "ref": "bd6f404f-ad09-425d-8d69-9d4dbcdac017",
       "rows": [
        [
         "61131",
         "2018-01-08 00:00:00",
         "1",
         "0.0",
         "0.0",
         "0.0",
         "0.0",
         "0.0",
         "0.0",
         "0.0",
         "3.11",
         "3.11",
         "3.11",
         "3.11",
         null,
         "0",
         "1",
         "4.38",
         "1",
         "1",
         "1",
         "8.84",
         "1",
         "8",
         "2",
         "-0.09",
         "1.42",
         "0.0"
        ],
        [
         "69864",
         "2018-01-09 00:00:00",
         "1",
         "0.0",
         "0.0",
         "0.0",
         "0.0",
         "0.0",
         "0.0",
         "0.0",
         "3.11",
         "3.11",
         "3.11",
         "3.11",
         null,
         "0",
         "1",
         "4.38",
         "1",
         "1",
         "1",
         "8.84",
         "2",
         "9",
         "2",
         "-1.46",
         "-1.09",
         "0.0"
        ],
        [
         "78597",
         "2018-01-10 00:00:00",
         "1",
         "0.0",
         "0.0",
         "0.0",
         "0.0",
         "0.0",
         "0.0",
         "0.0",
         "3.11",
         "3.11",
         "3.11",
         "3.11",
         null,
         "0",
         "1",
         "4.38",
         "1",
         "1",
         "1",
         "8.84",
         "3",
         "10",
         "2",
         "1.08",
         "-0.62",
         "0.0"
        ],
        [
         "87330",
         "2018-01-11 00:00:00",
         "1",
         "0.0",
         "0.0",
         "0.0",
         "0.0",
         "0.0",
         "0.0",
         "0.0",
         "3.11",
         "3.11",
         "3.11",
         "3.11",
         null,
         "0",
         "1",
         "4.38",
         "1",
         "1",
         "1",
         "8.84",
         "4",
         "11",
         "2",
         "-0.24",
         "-0.76",
         "0.0"
        ],
        [
         "96063",
         "2018-01-12 00:00:00",
         "1",
         "0.0",
         "0.0",
         "0.0",
         "0.0",
         "0.0",
         "0.0",
         "0.0",
         "3.11",
         "3.11",
         "3.11",
         "3.11",
         null,
         "0",
         "1",
         "4.38",
         "1",
         "1",
         "1",
         "8.84",
         "5",
         "12",
         "2",
         "-0.49",
         "0.35",
         "0.0"
        ],
        [
         "104796",
         "2018-01-13 00:00:00",
         "1",
         "0.0",
         "0.0",
         "0.0",
         "0.0",
         "0.0",
         "0.0",
         "0.0",
         "3.11",
         "3.11",
         "3.11",
         "3.11",
         null,
         "0",
         "1",
         "4.38",
         "1",
         "1",
         "1",
         "8.84",
         "6",
         "13",
         "2",
         "-1.0",
         "1.56",
         "0.0"
        ],
        [
         "113529",
         "2018-01-14 00:00:00",
         "1",
         "0.0",
         "0.0",
         "0.0",
         "0.0",
         "0.0",
         "0.0",
         "0.0",
         "3.11",
         "3.11",
         "3.11",
         "3.11",
         null,
         "0",
         "1",
         "4.38",
         "1",
         "1",
         "1",
         "8.84",
         "7",
         "14",
         "2",
         "0.92",
         "-2.96",
         "0.0"
        ],
        [
         "122262",
         "2018-01-15 00:00:00",
         "1",
         "0.0",
         "0.0",
         "0.0",
         "0.0",
         "0.0",
         "0.0",
         "0.0",
         "3.11",
         "3.11",
         "3.11",
         "3.11",
         null,
         "0",
         "1",
         "4.38",
         "1",
         "1",
         "1",
         "8.84",
         "1",
         "15",
         "3",
         "-1.1",
         "1.36",
         "0.0"
        ],
        [
         "130995",
         "2018-01-16 00:00:00",
         "1",
         "0.0",
         "0.0",
         "0.0",
         "0.0",
         "0.0",
         "0.0",
         "0.0",
         "3.11",
         "3.11",
         "3.11",
         "3.11",
         null,
         "0",
         "1",
         "4.38",
         "1",
         "1",
         "1",
         "8.84",
         "2",
         "16",
         "3",
         "0.63",
         "0.65",
         "0.0"
        ],
        [
         "139728",
         "2018-01-17 00:00:00",
         "1",
         "0.0",
         "0.0",
         "0.0",
         "0.0",
         "0.0",
         "0.0",
         "0.0",
         "3.11",
         "3.11",
         "3.11",
         "3.11",
         null,
         "0",
         "1",
         "4.38",
         "1",
         "1",
         "1",
         "8.84",
         "3",
         "17",
         "3",
         "-0.56",
         "0.29",
         "0.0"
        ],
        [
         "148461",
         "2018-01-18 00:00:00",
         "1",
         "0.0",
         "0.0",
         "0.0",
         "0.0",
         "0.0",
         "0.0",
         "0.0",
         "3.11",
         "3.11",
         "3.11",
         "3.11",
         null,
         "0",
         "1",
         "4.38",
         "1",
         "1",
         "1",
         "8.84",
         "4",
         "18",
         "3",
         "0.03",
         "2.96",
         "0.0"
        ],
        [
         "157194",
         "2018-01-19 00:00:00",
         "1",
         "0.0",
         "0.0",
         "0.0",
         "0.0",
         "0.0",
         "0.0",
         "0.0",
         "3.11",
         "3.11",
         "3.11",
         "3.11",
         null,
         "0",
         "1",
         "4.38",
         "1",
         "1",
         "1",
         "8.84",
         "5",
         "19",
         "3",
         "-0.23",
         "1.09",
         "0.0"
        ],
        [
         "165927",
         "2018-01-20 00:00:00",
         "1",
         "0.0",
         "0.0",
         "0.0",
         "0.0",
         "0.0",
         "0.0",
         "0.0",
         "3.11",
         "3.11",
         "3.11",
         "3.11",
         null,
         "0",
         "1",
         "4.38",
         "1",
         "1",
         "1",
         "8.84",
         "6",
         "20",
         "3",
         "0.59",
         "1.17",
         "0.0"
        ],
        [
         "174660",
         "2018-01-21 00:00:00",
         "1",
         "0.0",
         "0.0",
         "0.0",
         "0.0",
         "0.0",
         "0.0",
         "0.0",
         "3.11",
         "3.11",
         "3.11",
         "3.11",
         null,
         "0",
         "1",
         "4.38",
         "1",
         "1",
         "1",
         "8.84",
         "7",
         "21",
         "3",
         "0.75",
         "1.44",
         "0.0"
        ],
        [
         "183393",
         "2018-01-22 00:00:00",
         "1",
         "0.0",
         "0.0",
         "0.0",
         "0.0",
         "0.0",
         "0.0",
         "0.0",
         "3.11",
         "3.11",
         "3.11",
         "3.11",
         null,
         "0",
         "1",
         "4.38",
         "1",
         "1",
         "1",
         "8.84",
         "1",
         "22",
         "4",
         "-1.06",
         "-0.18",
         "0.0"
        ],
        [
         "192126",
         "2018-01-23 00:00:00",
         "1",
         "1.0",
         "0.0",
         "0.0",
         "0.0",
         "0.0",
         "3.11",
         "0.0",
         "3.11",
         "3.11",
         "3.11",
         "3.11",
         null,
         "0",
         "1",
         "4.38",
         "1",
         "1",
         "1",
         "8.84",
         "2",
         "23",
         "4",
         "1.06",
         "-0.06",
         "1.0"
        ],
        [
         "200859",
         "2018-01-24 00:00:00",
         "1",
         "0.0",
         "1.0",
         "0.0",
         "0.0",
         "0.0",
         "0.0",
         "0.0",
         "3.11",
         "3.11",
         "3.11",
         "3.11",
         null,
         "0",
         "1",
         "4.38",
         "1",
         "1",
         "1",
         "8.84",
         "3",
         "24",
         "4",
         "0.75",
         "-0.19",
         "1.0"
        ],
        [
         "209592",
         "2018-01-25 00:00:00",
         "1",
         "1.0",
         "0.0",
         "1.0",
         "0.0",
         "0.0",
         "3.11",
         "0.0",
         "3.11",
         "3.11",
         "3.11",
         "3.11",
         null,
         "0",
         "1",
         "4.38",
         "1",
         "1",
         "1",
         "8.84",
         "4",
         "25",
         "4",
         "1.06",
         "-0.61",
         "2.0"
        ],
        [
         "218325",
         "2018-01-26 00:00:00",
         "1",
         "0.0",
         "1.0",
         "0.0",
         "1.0",
         "0.0",
         "0.0",
         "0.0",
         "3.11",
         "3.11",
         "3.11",
         "3.11",
         null,
         "0",
         "1",
         "4.38",
         "1",
         "1",
         "1",
         "8.84",
         "5",
         "26",
         "4",
         "1.52",
         "-0.05",
         "2.0"
        ],
        [
         "227058",
         "2018-01-27 00:00:00",
         "1",
         "0.0",
         "0.0",
         "1.0",
         "0.0",
         "0.0",
         "0.0",
         "0.0",
         "3.11",
         "3.11",
         "3.11",
         "3.11",
         null,
         "0",
         "1",
         "4.38",
         "1",
         "1",
         "1",
         "8.84",
         "6",
         "27",
         "4",
         "-1.49",
         "-0.63",
         "2.0"
        ],
        [
         "235791",
         "2018-01-28 00:00:00",
         "1",
         "0.0",
         "0.0",
         "0.0",
         "1.0",
         "0.0",
         "0.0",
         "0.0",
         "3.11",
         "3.11",
         "3.11",
         "3.11",
         null,
         "0",
         "1",
         "4.38",
         "1",
         "1",
         "1",
         "8.84",
         "7",
         "28",
         "4",
         "1.86",
         "-0.29",
         "2.0"
        ],
        [
         "244524",
         "2018-01-29 00:00:00",
         "1",
         "307.0",
         "0.0",
         "0.0",
         "0.0",
         "0.0",
         "954.77",
         "0.0",
         "3.11",
         "3.11",
         "3.11",
         "3.11",
         null,
         "0",
         "1",
         "4.38",
         "1",
         "1",
         "1",
         "8.84",
         "1",
         "29",
         "5",
         "-1.6",
         "-0.09",
         "309.0"
        ],
        [
         "253257",
         "2018-01-30 00:00:00",
         "1",
         "3.0",
         "307.0",
         "0.0",
         "0.0",
         "1.0",
         "9.33",
         "0.0",
         "3.11",
         "3.11",
         "3.11",
         "3.11",
         null,
         "0",
         "1",
         "4.38",
         "1",
         "1",
         "1",
         "8.84",
         "2",
         "30",
         "5",
         "-0.65",
         "-0.94",
         "312.0"
        ],
        [
         "261990",
         "2018-01-31 00:00:00",
         "1",
         "1.0",
         "3.0",
         "307.0",
         "0.0",
         "0.0",
         "3.11",
         "0.0",
         "3.11",
         "3.11",
         "3.11",
         "3.11",
         null,
         "0",
         "1",
         "4.38",
         "1",
         "1",
         "1",
         "8.84",
         "3",
         "31",
         "5",
         "0.34",
         "-0.59",
         "313.0"
        ],
        [
         "270723",
         "2018-02-01 00:00:00",
         "1",
         "0.0",
         "1.0",
         "3.0",
         "307.0",
         "1.0",
         "0.0",
         "0.0",
         "3.11",
         "3.11",
         "3.11",
         "3.11",
         null,
         "0",
         "1",
         "4.38",
         "1",
         "1",
         "1",
         "8.84",
         "4",
         "1",
         "1",
         "1.05",
         "-0.23",
         "313.0"
        ],
        [
         "279456",
         "2018-02-02 00:00:00",
         "1",
         "0.0",
         "0.0",
         "1.0",
         "3.0",
         "0.0",
         "0.0",
         "0.0",
         "3.11",
         "3.11",
         "3.11",
         "3.11",
         null,
         "0",
         "1",
         "4.38",
         "1",
         "1",
         "1",
         "8.84",
         "5",
         "2",
         "1",
         "0.63",
         "-1.0",
         "313.0"
        ],
        [
         "288189",
         "2018-02-03 00:00:00",
         "1",
         "2.0",
         "0.0",
         "0.0",
         "1.0",
         "0.0",
         "6.22",
         "0.0",
         "3.11",
         "3.11",
         "3.11",
         "3.11",
         null,
         "0",
         "1",
         "4.38",
         "1",
         "1",
         "1",
         "8.84",
         "6",
         "3",
         "1",
         "0.36",
         "1.61",
         "315.0"
        ],
        [
         "296922",
         "2018-02-04 00:00:00",
         "1",
         "0.0",
         "2.0",
         "0.0",
         "0.0",
         "0.0",
         "0.0",
         "0.0",
         "3.11",
         "3.11",
         "3.11",
         "3.11",
         null,
         "0",
         "1",
         "4.38",
         "1",
         "1",
         "1",
         "8.84",
         "7",
         "4",
         "1",
         "0.56",
         "0.35",
         "315.0"
        ],
        [
         "305655",
         "2018-02-05 00:00:00",
         "1",
         "0.0",
         "0.0",
         "2.0",
         "0.0",
         "307.0",
         "0.0",
         "0.0",
         "3.11",
         "3.11",
         "3.11",
         "3.11",
         null,
         "0",
         "1",
         "4.38",
         "1",
         "1",
         "1",
         "8.84",
         "1",
         "5",
         "2",
         "-1.09",
         "0.19",
         "315.0"
        ],
        [
         "314388",
         "2018-02-06 00:00:00",
         "1",
         "0.0",
         "0.0",
         "0.0",
         "2.0",
         "3.0",
         "0.0",
         "0.0",
         "3.11",
         "3.11",
         "3.11",
         "3.11",
         null,
         "0",
         "1",
         "4.38",
         "1",
         "1",
         "1",
         "8.84",
         "2",
         "6",
         "2",
         "0.02",
         "-0.27",
         "315.0"
        ],
        [
         "323121",
         "2018-02-07 00:00:00",
         "1",
         "0.0",
         "0.0",
         "0.0",
         "0.0",
         "1.0",
         "0.0",
         "0.0",
         "3.11",
         "3.11",
         "3.11",
         "3.11",
         null,
         "0",
         "1",
         "4.38",
         "1",
         "1",
         "1",
         "8.84",
         "3",
         "7",
         "2",
         "2.5",
         "-1.22",
         "315.0"
        ],
        [
         "331854",
         "2018-02-08 00:00:00",
         "1",
         "0.0",
         "0.0",
         "0.0",
         "0.0",
         "0.0",
         "0.0",
         "0.0",
         "3.11",
         "3.11",
         "3.11",
         "3.11",
         null,
         "0",
         "1",
         "4.38",
         "1",
         "1",
         "1",
         "8.84",
         "4",
         "8",
         "2",
         "-2.49",
         "1.4",
         "315.0"
        ],
        [
         "340587",
         "2018-02-09 00:00:00",
         "1",
         "0.0",
         "0.0",
         "0.0",
         "0.0",
         "0.0",
         "0.0",
         "0.0",
         "3.11",
         "3.11",
         "3.11",
         "3.11",
         null,
         "0",
         "1",
         "4.38",
         "1",
         "1",
         "1",
         "8.84",
         "5",
         "9",
         "2",
         "-0.23",
         "-1.22",
         "315.0"
        ],
        [
         "349320",
         "2018-02-10 00:00:00",
         "1",
         "1.0",
         "0.0",
         "0.0",
         "0.0",
         "2.0",
         "3.11",
         "0.0",
         "3.11",
         "3.11",
         "3.11",
         "3.11",
         null,
         "0",
         "1",
         "4.38",
         "1",
         "1",
         "1",
         "8.84",
         "6",
         "10",
         "2",
         "-0.1",
         "0.68",
         "316.0"
        ],
        [
         "358053",
         "2018-02-11 00:00:00",
         "1",
         "0.0",
         "1.0",
         "0.0",
         "0.0",
         "0.0",
         "0.0",
         "0.0",
         "3.11",
         "3.11",
         "3.11",
         "3.11",
         null,
         "0",
         "1",
         "4.38",
         "1",
         "1",
         "1",
         "8.84",
         "7",
         "11",
         "2",
         "-0.89",
         "-0.98",
         "316.0"
        ],
        [
         "366786",
         "2018-02-12 00:00:00",
         "1",
         "0.0",
         "0.0",
         "1.0",
         "0.0",
         "0.0",
         "0.0",
         "0.0",
         "3.11",
         "3.11",
         "3.11",
         "3.11",
         null,
         "0",
         "1",
         "4.38",
         "1",
         "1",
         "1",
         "8.84",
         "1",
         "12",
         "3",
         "-0.14",
         "0.91",
         "316.0"
        ],
        [
         "375519",
         "2018-02-13 00:00:00",
         "1",
         "1.0",
         "0.0",
         "0.0",
         "1.0",
         "0.0",
         "3.11",
         "0.0",
         "3.11",
         "3.11",
         "3.11",
         "3.11",
         null,
         "0",
         "1",
         "4.38",
         "1",
         "1",
         "1",
         "8.84",
         "2",
         "13",
         "3",
         "0.1",
         "1.17",
         "317.0"
        ],
        [
         "384252",
         "2018-02-14 00:00:00",
         "1",
         "0.0",
         "1.0",
         "0.0",
         "0.0",
         "0.0",
         "0.0",
         "0.0",
         "3.11",
         "3.11",
         "3.11",
         "3.11",
         null,
         "0",
         "1",
         "4.38",
         "1",
         "1",
         "1",
         "8.84",
         "3",
         "14",
         "3",
         "-0.25",
         "0.46",
         "317.0"
        ],
        [
         "392985",
         "2018-02-15 00:00:00",
         "1",
         "0.0",
         "0.0",
         "1.0",
         "0.0",
         "0.0",
         "0.0",
         "0.0",
         "3.11",
         "3.11",
         "3.11",
         "3.11",
         null,
         "0",
         "1",
         "4.38",
         "1",
         "1",
         "1",
         "8.84",
         "4",
         "15",
         "3",
         "-0.08",
         "0.1",
         "317.0"
        ],
        [
         "401718",
         "2018-02-16 00:00:00",
         "1",
         "0.0",
         "0.0",
         "0.0",
         "1.0",
         "0.0",
         "0.0",
         "0.0",
         "3.11",
         "3.11",
         "3.11",
         "3.11",
         null,
         "0",
         "1",
         "4.38",
         "1",
         "1",
         "1",
         "8.84",
         "5",
         "16",
         "3",
         "-1.09",
         "-0.49",
         "317.0"
        ],
        [
         "410451",
         "2018-02-17 00:00:00",
         "1",
         "0.0",
         "0.0",
         "0.0",
         "0.0",
         "1.0",
         "0.0",
         "0.0",
         "3.11",
         "3.11",
         "3.11",
         "3.11",
         null,
         "0",
         "1",
         "4.38",
         "1",
         "1",
         "1",
         "8.84",
         "6",
         "17",
         "3",
         "0.59",
         "0.13",
         "317.0"
        ],
        [
         "419184",
         "2018-02-18 00:00:00",
         "1",
         "1.0",
         "0.0",
         "0.0",
         "0.0",
         "0.0",
         "3.11",
         "0.0",
         "3.11",
         "3.11",
         "3.11",
         "3.11",
         null,
         "0",
         "1",
         "4.38",
         "1",
         "1",
         "1",
         "8.84",
         "7",
         "18",
         "3",
         "-0.64",
         "-2.02",
         "318.0"
        ],
        [
         "427917",
         "2018-02-19 00:00:00",
         "1",
         "27.0",
         "1.0",
         "0.0",
         "0.0",
         "0.0",
         "83.97",
         "0.0",
         "3.11",
         "3.11",
         "3.11",
         "3.11",
         null,
         "0",
         "1",
         "4.38",
         "1",
         "1",
         "1",
         "8.84",
         "1",
         "19",
         "4",
         "-1.11",
         "-1.97",
         "345.0"
        ],
        [
         "436650",
         "2018-02-20 00:00:00",
         "1",
         "0.0",
         "27.0",
         "1.0",
         "0.0",
         "1.0",
         "0.0",
         "0.0",
         "3.11",
         "3.11",
         "3.11",
         "3.11",
         null,
         "0",
         "1",
         "4.38",
         "1",
         "1",
         "1",
         "8.84",
         "2",
         "20",
         "4",
         "2.11",
         "0.04",
         "345.0"
        ],
        [
         "445383",
         "2018-02-21 00:00:00",
         "1",
         "3.0",
         "0.0",
         "27.0",
         "1.0",
         "0.0",
         "9.33",
         "0.0",
         "3.11",
         "3.11",
         "3.11",
         "3.11",
         null,
         "0",
         "1",
         "4.38",
         "1",
         "1",
         "1",
         "8.84",
         "3",
         "21",
         "4",
         "-0.57",
         "-0.26",
         "348.0"
        ],
        [
         "454116",
         "2018-02-22 00:00:00",
         "1",
         "0.0",
         "3.0",
         "0.0",
         "27.0",
         "0.0",
         "0.0",
         "0.0",
         "3.11",
         "3.11",
         "3.11",
         "3.11",
         null,
         "0",
         "1",
         "4.38",
         "1",
         "1",
         "1",
         "8.84",
         "4",
         "22",
         "4",
         "-0.48",
         "0.46",
         "348.0"
        ],
        [
         "462849",
         "2018-02-23 00:00:00",
         "1",
         "2.0",
         "0.0",
         "3.0",
         "0.0",
         "0.0",
         "6.22",
         "0.0",
         "3.11",
         "3.11",
         "3.11",
         "3.11",
         null,
         "0",
         "1",
         "4.38",
         "1",
         "1",
         "1",
         "8.84",
         "5",
         "23",
         "4",
         "-1.92",
         "0.22",
         "350.0"
        ],
        [
         "471582",
         "2018-02-24 00:00:00",
         "1",
         "1.0",
         "2.0",
         "0.0",
         "3.0",
         "0.0",
         "3.11",
         "0.0",
         "3.11",
         "3.11",
         "3.11",
         "3.11",
         null,
         "0",
         "1",
         "4.38",
         "1",
         "1",
         "1",
         "8.84",
         "6",
         "24",
         "4",
         "0.4",
         "1.3",
         "351.0"
        ],
        [
         "480315",
         "2018-02-25 00:00:00",
         "1",
         "0.0",
         "1.0",
         "2.0",
         "0.0",
         "1.0",
         "0.0",
         "0.0",
         "3.11",
         "3.11",
         "3.11",
         "3.11",
         null,
         "0",
         "1",
         "4.38",
         "1",
         "1",
         "1",
         "8.84",
         "7",
         "25",
         "4",
         "-1.05",
         "1.35",
         "351.0"
        ],
        [
         "489048",
         "2018-02-26 00:00:00",
         "1",
         "0.0",
         "0.0",
         "1.0",
         "2.0",
         "27.0",
         "0.0",
         "0.0",
         "3.11",
         "3.11",
         "3.11",
         "3.11",
         null,
         "0",
         "1",
         "4.38",
         "1",
         "1",
         "1",
         "8.84",
         "1",
         "26",
         "5",
         "-0.69",
         "0.98",
         "351.0"
        ]
       ],
       "shape": {
        "columns": 27,
        "rows": 1318683
       }
      },
      "text/html": [
       "<div>\n",
       "<style scoped>\n",
       "    .dataframe tbody tr th:only-of-type {\n",
       "        vertical-align: middle;\n",
       "    }\n",
       "\n",
       "    .dataframe tbody tr th {\n",
       "        vertical-align: top;\n",
       "    }\n",
       "\n",
       "    .dataframe thead th {\n",
       "        text-align: right;\n",
       "    }\n",
       "</style>\n",
       "<table border=\"1\" class=\"dataframe\">\n",
       "  <thead>\n",
       "    <tr style=\"text-align: right;\">\n",
       "      <th></th>\n",
       "      <th>date</th>\n",
       "      <th>itemID</th>\n",
       "      <th>qty_sold</th>\n",
       "      <th>qty_sold_lag1</th>\n",
       "      <th>qty_sold_lag2</th>\n",
       "      <th>qty_sold_lag3</th>\n",
       "      <th>qty_sold_lag7</th>\n",
       "      <th>sales_value</th>\n",
       "      <th>promotion</th>\n",
       "      <th>maxItemPrice</th>\n",
       "      <th>...</th>\n",
       "      <th>category1</th>\n",
       "      <th>category2</th>\n",
       "      <th>category3</th>\n",
       "      <th>recommendedRetailPrice</th>\n",
       "      <th>weekDay</th>\n",
       "      <th>day</th>\n",
       "      <th>weekOfMonth</th>\n",
       "      <th>random_noise1</th>\n",
       "      <th>random_noise2</th>\n",
       "      <th>cum_order</th>\n",
       "    </tr>\n",
       "  </thead>\n",
       "  <tbody>\n",
       "    <tr>\n",
       "      <th>61131</th>\n",
       "      <td>2018-01-08</td>\n",
       "      <td>1</td>\n",
       "      <td>0.0</td>\n",
       "      <td>0.0</td>\n",
       "      <td>0.0</td>\n",
       "      <td>0.0</td>\n",
       "      <td>0.0</td>\n",
       "      <td>0.0</td>\n",
       "      <td>0.0</td>\n",
       "      <td>3.11</td>\n",
       "      <td>...</td>\n",
       "      <td>1</td>\n",
       "      <td>1</td>\n",
       "      <td>1</td>\n",
       "      <td>8.84</td>\n",
       "      <td>1</td>\n",
       "      <td>8</td>\n",
       "      <td>2</td>\n",
       "      <td>-0.09</td>\n",
       "      <td>1.42</td>\n",
       "      <td>0.0</td>\n",
       "    </tr>\n",
       "    <tr>\n",
       "      <th>69864</th>\n",
       "      <td>2018-01-09</td>\n",
       "      <td>1</td>\n",
       "      <td>0.0</td>\n",
       "      <td>0.0</td>\n",
       "      <td>0.0</td>\n",
       "      <td>0.0</td>\n",
       "      <td>0.0</td>\n",
       "      <td>0.0</td>\n",
       "      <td>0.0</td>\n",
       "      <td>3.11</td>\n",
       "      <td>...</td>\n",
       "      <td>1</td>\n",
       "      <td>1</td>\n",
       "      <td>1</td>\n",
       "      <td>8.84</td>\n",
       "      <td>2</td>\n",
       "      <td>9</td>\n",
       "      <td>2</td>\n",
       "      <td>-1.46</td>\n",
       "      <td>-1.09</td>\n",
       "      <td>0.0</td>\n",
       "    </tr>\n",
       "    <tr>\n",
       "      <th>78597</th>\n",
       "      <td>2018-01-10</td>\n",
       "      <td>1</td>\n",
       "      <td>0.0</td>\n",
       "      <td>0.0</td>\n",
       "      <td>0.0</td>\n",
       "      <td>0.0</td>\n",
       "      <td>0.0</td>\n",
       "      <td>0.0</td>\n",
       "      <td>0.0</td>\n",
       "      <td>3.11</td>\n",
       "      <td>...</td>\n",
       "      <td>1</td>\n",
       "      <td>1</td>\n",
       "      <td>1</td>\n",
       "      <td>8.84</td>\n",
       "      <td>3</td>\n",
       "      <td>10</td>\n",
       "      <td>2</td>\n",
       "      <td>1.08</td>\n",
       "      <td>-0.62</td>\n",
       "      <td>0.0</td>\n",
       "    </tr>\n",
       "    <tr>\n",
       "      <th>87330</th>\n",
       "      <td>2018-01-11</td>\n",
       "      <td>1</td>\n",
       "      <td>0.0</td>\n",
       "      <td>0.0</td>\n",
       "      <td>0.0</td>\n",
       "      <td>0.0</td>\n",
       "      <td>0.0</td>\n",
       "      <td>0.0</td>\n",
       "      <td>0.0</td>\n",
       "      <td>3.11</td>\n",
       "      <td>...</td>\n",
       "      <td>1</td>\n",
       "      <td>1</td>\n",
       "      <td>1</td>\n",
       "      <td>8.84</td>\n",
       "      <td>4</td>\n",
       "      <td>11</td>\n",
       "      <td>2</td>\n",
       "      <td>-0.24</td>\n",
       "      <td>-0.76</td>\n",
       "      <td>0.0</td>\n",
       "    </tr>\n",
       "    <tr>\n",
       "      <th>96063</th>\n",
       "      <td>2018-01-12</td>\n",
       "      <td>1</td>\n",
       "      <td>0.0</td>\n",
       "      <td>0.0</td>\n",
       "      <td>0.0</td>\n",
       "      <td>0.0</td>\n",
       "      <td>0.0</td>\n",
       "      <td>0.0</td>\n",
       "      <td>0.0</td>\n",
       "      <td>3.11</td>\n",
       "      <td>...</td>\n",
       "      <td>1</td>\n",
       "      <td>1</td>\n",
       "      <td>1</td>\n",
       "      <td>8.84</td>\n",
       "      <td>5</td>\n",
       "      <td>12</td>\n",
       "      <td>2</td>\n",
       "      <td>-0.49</td>\n",
       "      <td>0.35</td>\n",
       "      <td>0.0</td>\n",
       "    </tr>\n",
       "    <tr>\n",
       "      <th>...</th>\n",
       "      <td>...</td>\n",
       "      <td>...</td>\n",
       "      <td>...</td>\n",
       "      <td>...</td>\n",
       "      <td>...</td>\n",
       "      <td>...</td>\n",
       "      <td>...</td>\n",
       "      <td>...</td>\n",
       "      <td>...</td>\n",
       "      <td>...</td>\n",
       "      <td>...</td>\n",
       "      <td>...</td>\n",
       "      <td>...</td>\n",
       "      <td>...</td>\n",
       "      <td>...</td>\n",
       "      <td>...</td>\n",
       "      <td>...</td>\n",
       "      <td>...</td>\n",
       "      <td>...</td>\n",
       "      <td>...</td>\n",
       "      <td>...</td>\n",
       "    </tr>\n",
       "    <tr>\n",
       "      <th>1344881</th>\n",
       "      <td>2018-06-03</td>\n",
       "      <td>10463</td>\n",
       "      <td>0.0</td>\n",
       "      <td>0.0</td>\n",
       "      <td>0.0</td>\n",
       "      <td>0.0</td>\n",
       "      <td>0.0</td>\n",
       "      <td>0.0</td>\n",
       "      <td>0.0</td>\n",
       "      <td>282.16</td>\n",
       "      <td>...</td>\n",
       "      <td>8</td>\n",
       "      <td>44</td>\n",
       "      <td>8</td>\n",
       "      <td>154.82</td>\n",
       "      <td>7</td>\n",
       "      <td>3</td>\n",
       "      <td>1</td>\n",
       "      <td>0.43</td>\n",
       "      <td>0.38</td>\n",
       "      <td>1.0</td>\n",
       "    </tr>\n",
       "    <tr>\n",
       "      <th>1353614</th>\n",
       "      <td>2018-06-04</td>\n",
       "      <td>10463</td>\n",
       "      <td>0.0</td>\n",
       "      <td>0.0</td>\n",
       "      <td>0.0</td>\n",
       "      <td>0.0</td>\n",
       "      <td>0.0</td>\n",
       "      <td>0.0</td>\n",
       "      <td>0.0</td>\n",
       "      <td>282.16</td>\n",
       "      <td>...</td>\n",
       "      <td>8</td>\n",
       "      <td>44</td>\n",
       "      <td>8</td>\n",
       "      <td>154.82</td>\n",
       "      <td>1</td>\n",
       "      <td>4</td>\n",
       "      <td>2</td>\n",
       "      <td>0.33</td>\n",
       "      <td>-1.31</td>\n",
       "      <td>1.0</td>\n",
       "    </tr>\n",
       "    <tr>\n",
       "      <th>1362347</th>\n",
       "      <td>2018-06-05</td>\n",
       "      <td>10463</td>\n",
       "      <td>0.0</td>\n",
       "      <td>0.0</td>\n",
       "      <td>0.0</td>\n",
       "      <td>0.0</td>\n",
       "      <td>0.0</td>\n",
       "      <td>0.0</td>\n",
       "      <td>0.0</td>\n",
       "      <td>282.16</td>\n",
       "      <td>...</td>\n",
       "      <td>8</td>\n",
       "      <td>44</td>\n",
       "      <td>8</td>\n",
       "      <td>154.82</td>\n",
       "      <td>2</td>\n",
       "      <td>5</td>\n",
       "      <td>2</td>\n",
       "      <td>-0.37</td>\n",
       "      <td>0.80</td>\n",
       "      <td>1.0</td>\n",
       "    </tr>\n",
       "    <tr>\n",
       "      <th>1371080</th>\n",
       "      <td>2018-06-06</td>\n",
       "      <td>10463</td>\n",
       "      <td>0.0</td>\n",
       "      <td>0.0</td>\n",
       "      <td>0.0</td>\n",
       "      <td>0.0</td>\n",
       "      <td>0.0</td>\n",
       "      <td>0.0</td>\n",
       "      <td>0.0</td>\n",
       "      <td>282.16</td>\n",
       "      <td>...</td>\n",
       "      <td>8</td>\n",
       "      <td>44</td>\n",
       "      <td>8</td>\n",
       "      <td>154.82</td>\n",
       "      <td>3</td>\n",
       "      <td>6</td>\n",
       "      <td>2</td>\n",
       "      <td>0.28</td>\n",
       "      <td>2.28</td>\n",
       "      <td>1.0</td>\n",
       "    </tr>\n",
       "    <tr>\n",
       "      <th>1379813</th>\n",
       "      <td>2018-06-07</td>\n",
       "      <td>10463</td>\n",
       "      <td>0.0</td>\n",
       "      <td>0.0</td>\n",
       "      <td>0.0</td>\n",
       "      <td>0.0</td>\n",
       "      <td>0.0</td>\n",
       "      <td>0.0</td>\n",
       "      <td>0.0</td>\n",
       "      <td>282.16</td>\n",
       "      <td>...</td>\n",
       "      <td>8</td>\n",
       "      <td>44</td>\n",
       "      <td>8</td>\n",
       "      <td>154.82</td>\n",
       "      <td>4</td>\n",
       "      <td>7</td>\n",
       "      <td>2</td>\n",
       "      <td>0.40</td>\n",
       "      <td>1.15</td>\n",
       "      <td>1.0</td>\n",
       "    </tr>\n",
       "  </tbody>\n",
       "</table>\n",
       "<p>1318683 rows × 27 columns</p>\n",
       "</div>"
      ],
      "text/plain": [
       "              date  itemID  qty_sold  qty_sold_lag1  qty_sold_lag2  \\\n",
       "61131   2018-01-08       1       0.0            0.0            0.0   \n",
       "69864   2018-01-09       1       0.0            0.0            0.0   \n",
       "78597   2018-01-10       1       0.0            0.0            0.0   \n",
       "87330   2018-01-11       1       0.0            0.0            0.0   \n",
       "96063   2018-01-12       1       0.0            0.0            0.0   \n",
       "...            ...     ...       ...            ...            ...   \n",
       "1344881 2018-06-03   10463       0.0            0.0            0.0   \n",
       "1353614 2018-06-04   10463       0.0            0.0            0.0   \n",
       "1362347 2018-06-05   10463       0.0            0.0            0.0   \n",
       "1371080 2018-06-06   10463       0.0            0.0            0.0   \n",
       "1379813 2018-06-07   10463       0.0            0.0            0.0   \n",
       "\n",
       "         qty_sold_lag3  qty_sold_lag7  sales_value  promotion  maxItemPrice  \\\n",
       "61131              0.0            0.0          0.0        0.0          3.11   \n",
       "69864              0.0            0.0          0.0        0.0          3.11   \n",
       "78597              0.0            0.0          0.0        0.0          3.11   \n",
       "87330              0.0            0.0          0.0        0.0          3.11   \n",
       "96063              0.0            0.0          0.0        0.0          3.11   \n",
       "...                ...            ...          ...        ...           ...   \n",
       "1344881            0.0            0.0          0.0        0.0        282.16   \n",
       "1353614            0.0            0.0          0.0        0.0        282.16   \n",
       "1362347            0.0            0.0          0.0        0.0        282.16   \n",
       "1371080            0.0            0.0          0.0        0.0        282.16   \n",
       "1379813            0.0            0.0          0.0        0.0        282.16   \n",
       "\n",
       "         ...  category1  category2  category3  recommendedRetailPrice  \\\n",
       "61131    ...          1          1          1                    8.84   \n",
       "69864    ...          1          1          1                    8.84   \n",
       "78597    ...          1          1          1                    8.84   \n",
       "87330    ...          1          1          1                    8.84   \n",
       "96063    ...          1          1          1                    8.84   \n",
       "...      ...        ...        ...        ...                     ...   \n",
       "1344881  ...          8         44          8                  154.82   \n",
       "1353614  ...          8         44          8                  154.82   \n",
       "1362347  ...          8         44          8                  154.82   \n",
       "1371080  ...          8         44          8                  154.82   \n",
       "1379813  ...          8         44          8                  154.82   \n",
       "\n",
       "         weekDay  day  weekOfMonth  random_noise1  random_noise2  cum_order  \n",
       "61131          1    8            2          -0.09           1.42        0.0  \n",
       "69864          2    9            2          -1.46          -1.09        0.0  \n",
       "78597          3   10            2           1.08          -0.62        0.0  \n",
       "87330          4   11            2          -0.24          -0.76        0.0  \n",
       "96063          5   12            2          -0.49           0.35        0.0  \n",
       "...          ...  ...          ...            ...            ...        ...  \n",
       "1344881        7    3            1           0.43           0.38        1.0  \n",
       "1353614        1    4            2           0.33          -1.31        1.0  \n",
       "1362347        2    5            2          -0.37           0.80        1.0  \n",
       "1371080        3    6            2           0.28           2.28        1.0  \n",
       "1379813        4    7            2           0.40           1.15        1.0  \n",
       "\n",
       "[1318683 rows x 27 columns]"
      ]
     },
     "execution_count": 155,
     "metadata": {},
     "output_type": "execute_result"
    }
   ],
   "source": [
    "df_orders_daily"
   ]
  }
 ],
 "metadata": {
  "kernelspec": {
   "display_name": "base",
   "language": "python",
   "name": "python3"
  },
  "language_info": {
   "codemirror_mode": {
    "name": "ipython",
    "version": 3
   },
   "file_extension": ".py",
   "mimetype": "text/x-python",
   "name": "python",
   "nbconvert_exporter": "python",
   "pygments_lexer": "ipython3",
   "version": "3.12.7"
  }
 },
 "nbformat": 4,
 "nbformat_minor": 5
}
