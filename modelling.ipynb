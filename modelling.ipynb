{
 "cells": [
  {
   "cell_type": "code",
   "execution_count": null,
   "id": "5a755c08-571f-4a03-8d5e-e0aec22712ff",
   "metadata": {},
   "outputs": [],
   "source": [
    "from sklearn.metrics import accuracy_score, r2_score\n",
    "import xgboost as xgb\n",
    "from sklearn.model_selection import train_test_split\n",
    "import numpy as np\n",
    "import matplotlib.pyplot as plt\n",
    "import pandas as pd"
   ]
  },
  {
   "cell_type": "markdown",
   "id": "67d3770b-a395-4dbf-9beb-ff2b0a5e540b",
   "metadata": {},
   "source": [
    "# XGBoost"
   ]
  },
  {
   "cell_type": "code",
   "execution_count": null,
   "id": "5dbd53bf-f13a-4067-83fc-30e7604c057b",
   "metadata": {},
   "outputs": [],
   "source": [
    "train_dataset = pd.read_csv(\"train.csv\").convert_dtypes()\n",
    "test_dataset =pd.read_csv(\"test.csv\").convert_dtypes()"
   ]
  },
  {
   "cell_type": "code",
   "execution_count": null,
   "id": "085f0ff5-0bd9-411e-acd5-a91729cc2112",
   "metadata": {},
   "outputs": [],
   "source": [
    "categorical_columns = ['promotion', 'brand', 'manufacturer', 'category1', 'category2', 'category3']\n",
    "\n",
    "# Option 1: Convert in the original datasets\n",
    "train_dataset[categorical_columns] = train_dataset[categorical_columns].astype('category')\n",
    "test_dataset[categorical_columns] = test_dataset[categorical_columns].astype('category')"
   ]
  },
  {
   "cell_type": "code",
   "execution_count": null,
   "id": "e8768f48-ff76-456c-9b10-c6879ff3ef0b",
   "metadata": {},
   "outputs": [],
   "source": [
    "features = ['itemID',\n",
    " 'qty_sold_lag1',\n",
    " 'qty_sold_lag2',\n",
    " 'qty_sold_lag3',\n",
    " 'qty_sold_lag7',\n",
    " # 'sales_value',\n",
    " 'promotion',\n",
    " 'maxItemPrice',\n",
    " 'minItemPrice',\n",
    " 'PricePerEach',\n",
    " 'PricePerEachToday',\n",
    " 'medianDiscPerc',\n",
    " 'brand',\n",
    " 'manufacturer',\n",
    " 'customerRating',\n",
    " 'category1',\n",
    " 'category2',\n",
    " 'category3',\n",
    " 'recommendedRetailPrice',\n",
    " 'weekDay',\n",
    " 'day',\n",
    " 'weekOfMonth',\n",
    " 'harmonic_0',\n",
    " 'harmonic_1',\n",
    " 'harmonic_2',\n",
    " 'harmonic_3',\n",
    " 'harmonic_4',\n",
    " 'cum_sum_order',\n",
    " 'rolling_qty_sold_mean',\n",
    " 'rolling_qty_sold_std',\n",
    " 'rolling_qty_sold_median',\n",
    " 'random_noise1',\n",
    " 'random_noise2']\n",
    "X_train = train_dataset[features]\n",
    "X_test = test_dataset[features]\n",
    "y_train = train_dataset[\"qty_sold\"]\n",
    "y_test = test_dataset[\"qty_sold\"]"
   ]
  },
  {
   "cell_type": "code",
   "execution_count": null,
   "id": "95e4a338-019d-47e3-8b66-ecc1bc7c0dee",
   "metadata": {},
   "outputs": [],
   "source": [
    "xgb_train = xgb.DMatrix(X_train, y_train, enable_categorical=True)\n",
    "xgb_test = xgb.DMatrix(X_test, y_test, enable_categorical=True)"
   ]
  },
  {
   "cell_type": "code",
   "execution_count": null,
   "id": "d0c9b225-968e-480d-a053-588d6b8c77b1",
   "metadata": {},
   "outputs": [],
   "source": [
    "params = {\n",
    "    'objective': 'reg:squarederror',\n",
    "    'max_depth': 5,\n",
    "    'learning_rate': 0.1,\n",
    "    'n_estimators': 100,\n",
    "    'random_state': 42\n",
    "}\n",
    "n=50\n",
    "model = xgb.train(params=params,dtrain=xgb_train,num_boost_round=n)"
   ]
  },
  {
   "cell_type": "code",
   "execution_count": null,
   "id": "5119f8fd-ed16-4ce2-8a2a-2f876e826671",
   "metadata": {},
   "outputs": [],
   "source": [
    "preds = model.predict(xgb_test)\n",
    "preds = np.round(preds)\n",
    "accuracy = accuracy_score(y_test, preds)\n",
    "xgb_r2_score = r2_score(y_test, preds)\n",
    "print('Accuracy of the model is:', accuracy*100)\n",
    "print(\"R2 score of the model is:\", xgb_r2_score)"
   ]
  },
  {
   "cell_type": "code",
   "execution_count": null,
   "id": "3f34d11f-670b-4a22-a1fb-f139cde75263",
   "metadata": {},
   "outputs": [],
   "source": [
    "# Feature importance\n",
    "xgb.plot_importance(model)\n",
    "plt.title('Feature Importance')\n",
    "plt.show()"
   ]
  },
  {
   "cell_type": "markdown",
   "id": "63c03faa-cab0-489e-a5b9-bff4926abd52",
   "metadata": {},
   "source": [
    "# Random Forest"
   ]
  },
  {
   "cell_type": "code",
   "execution_count": null,
   "id": "e701dc0a-fb2f-4dc0-80a5-8e9638a6d728",
   "metadata": {},
   "outputs": [],
   "source": [
    "from sklearn.ensemble import RandomForestRegressor\n",
    "from sklearn.datasets import make_regression\n",
    "\n",
    "regr = RandomForestRegressor(max_depth=5, random_state=42)\n",
    "regr.fit(X_train, y_train)\n",
    "regr_r2_score = regr.score(X_test, y_test)\n",
    "print(\"R2 score of the model is:\", regr_r2_score)"
   ]
  },
  {
   "cell_type": "code",
   "execution_count": null,
   "id": "fc59268f-1a41-4cea-8505-0b59a26c4fdf",
   "metadata": {},
   "outputs": [],
   "source": []
  }
 ],
 "metadata": {
  "kernelspec": {
   "display_name": "summer-school-2025-env",
   "language": "python",
   "name": "myenv"
  },
  "language_info": {
   "codemirror_mode": {
    "name": "ipython",
    "version": 3
   },
   "file_extension": ".py",
   "mimetype": "text/x-python",
   "name": "python",
   "nbconvert_exporter": "python",
   "pygments_lexer": "ipython3",
   "version": "3.13.5"
  }
 },
 "nbformat": 4,
 "nbformat_minor": 5
}
