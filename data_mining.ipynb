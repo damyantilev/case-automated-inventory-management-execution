{
 "cells": [
  {
   "cell_type": "markdown",
   "id": "3ebb0749",
   "metadata": {},
   "source": [
    "# Inventory management project"
   ]
  },
  {
   "cell_type": "markdown",
   "id": "8bbb4e04",
   "metadata": {},
   "source": [
    "## Data exploration and preparation"
   ]
  },
  {
   "cell_type": "markdown",
   "id": "c37e3e88",
   "metadata": {},
   "source": [
    "### Data loading"
   ]
  },
  {
   "cell_type": "code",
   "execution_count": 144,
   "id": "30932e18",
   "metadata": {},
   "outputs": [],
   "source": [
    "import pandas as pd\n",
    "import matplotlib.pyplot as plt\n",
    "import numpy as np"
   ]
  },
  {
   "cell_type": "code",
   "execution_count": 145,
   "id": "b2836fc7",
   "metadata": {},
   "outputs": [],
   "source": [
    "# load data\n",
    "\n",
    "df_infos = pd.read_csv(\"infos.csv\", sep = \"|\")\n",
    "df_items = pd.read_csv(\"items.csv\", sep = \"|\")\n",
    "df_orders = pd.read_csv(\"orders.csv.zip\", sep = \"|\", compression=\"zip\")"
   ]
  },
  {
   "cell_type": "markdown",
   "id": "0244298f",
   "metadata": {},
   "source": [
    "### Train and Test split"
   ]
  },
  {
   "cell_type": "code",
   "execution_count": 146,
   "id": "d5360dcd",
   "metadata": {},
   "outputs": [],
   "source": [
    "# fix datetime format for transaction time\n",
    "\n",
    "df_orders['time'] = pd.to_datetime(df_orders['time'])"
   ]
  },
  {
   "cell_type": "code",
   "execution_count": 147,
   "id": "c40f4a33",
   "metadata": {},
   "outputs": [
    {
     "data": {
      "text/plain": [
       "9840"
      ]
     },
     "execution_count": 147,
     "metadata": {},
     "output_type": "execute_result"
    }
   ],
   "source": [
    "len(df_orders[\"itemID\"].unique())"
   ]
  },
  {
   "cell_type": "code",
   "execution_count": 148,
   "id": "1e536694",
   "metadata": {},
   "outputs": [],
   "source": [
    "# Define the split date\n",
    "split_date = pd.to_datetime(\"08.06.2018\", format=\"%d.%m.%Y\")\n",
    "\n",
    "df_orders['time'] = pd.to_datetime(df_orders['time'])  # ensure it's datetime\n",
    "split_date_only = split_date.date()\n",
    "\n",
    "df_test = df_orders[df_orders['time'].dt.date > split_date_only]\n",
    "df_train = df_orders[df_orders['time'].dt.date <= split_date_only]"
   ]
  },
  {
   "cell_type": "code",
   "execution_count": 149,
   "id": "1c019c76",
   "metadata": {},
   "outputs": [],
   "source": [
    "# we saw that we lose around 1000 items with the train-test split, because they have orders only in the last 3 weeks\n",
    "# so we check their price x quantity (revenue) - what % it is of the total revenue\n",
    "# to see if we lose a lot with this cropping and decide how to continue"
   ]
  },
  {
   "cell_type": "code",
   "execution_count": 150,
   "id": "7c5080ff",
   "metadata": {},
   "outputs": [
    {
     "name": "stderr",
     "output_type": "stream",
     "text": [
      "C:\\Users\\kriss\\AppData\\Local\\Temp\\ipykernel_2564\\3840435489.py:1: SettingWithCopyWarning: \n",
      "A value is trying to be set on a copy of a slice from a DataFrame.\n",
      "Try using .loc[row_indexer,col_indexer] = value instead\n",
      "\n",
      "See the caveats in the documentation: https://pandas.pydata.org/pandas-docs/stable/user_guide/indexing.html#returning-a-view-versus-a-copy\n",
      "  df_test[\"revenue\"] = df_test[\"order\"] * df_test[\"salesPrice\"]\n"
     ]
    }
   ],
   "source": [
    "df_test[\"revenue\"] = df_test[\"order\"] * df_test[\"salesPrice\"]\n",
    "df_orders[\"revenue\"] = df_orders[\"order\"] * df_orders[\"salesPrice\"]"
   ]
  },
  {
   "cell_type": "code",
   "execution_count": 151,
   "id": "c99c3fa3",
   "metadata": {},
   "outputs": [],
   "source": [
    "missing_items = pd.DataFrame(df_test[~df_test[\"itemID\"].isin(df_train[\"itemID\"])][\"itemID\"].unique(), columns = [\"itemID\"])\n",
    "missing_items[\"will_be_lost\"] = \"yes\""
   ]
  },
  {
   "cell_type": "code",
   "execution_count": 152,
   "id": "196881c4",
   "metadata": {},
   "outputs": [],
   "source": [
    "df_orders = df_orders.merge(missing_items, how = \"left\", on = \"itemID\")"
   ]
  },
  {
   "cell_type": "code",
   "execution_count": 153,
   "id": "60f7d2eb",
   "metadata": {},
   "outputs": [],
   "source": [
    "df_orders[\"revenue\"] = df_orders[\"salesPrice\"] * df_orders[\"order\"]"
   ]
  },
  {
   "cell_type": "code",
   "execution_count": 154,
   "id": "667cd0c0",
   "metadata": {},
   "outputs": [
    {
     "data": {
      "text/plain": [
       "4.83"
      ]
     },
     "execution_count": 154,
     "metadata": {},
     "output_type": "execute_result"
    }
   ],
   "source": [
    "round((df_orders[df_orders[\"will_be_lost\"] == \"yes\"][\"revenue\"].sum()/df_orders[\"revenue\"].sum())*100, 2)"
   ]
  },
  {
   "cell_type": "code",
   "execution_count": 155,
   "id": "54581d6c",
   "metadata": {},
   "outputs": [],
   "source": [
    "# they account for 5.09% of the total revenue of the historical 6-month data we have\n",
    "# it is low enough, we continue like this"
   ]
  },
  {
   "cell_type": "markdown",
   "id": "5524485d",
   "metadata": {},
   "source": [
    "### df_train preparation"
   ]
  },
  {
   "cell_type": "code",
   "execution_count": 156,
   "id": "ebff7530",
   "metadata": {},
   "outputs": [
    {
     "name": "stdout",
     "output_type": "stream",
     "text": [
      "<class 'pandas.core.frame.DataFrame'>\n",
      "Index: 1840385 entries, 0 to 1840384\n",
      "Data columns (total 5 columns):\n",
      " #   Column      Dtype         \n",
      "---  ------      -----         \n",
      " 0   time        datetime64[ns]\n",
      " 1   transactID  int64         \n",
      " 2   itemID      int64         \n",
      " 3   order       int64         \n",
      " 4   salesPrice  float64       \n",
      "dtypes: datetime64[ns](1), float64(1), int64(3)\n",
      "memory usage: 84.2 MB\n"
     ]
    }
   ],
   "source": [
    "df_train.info()"
   ]
  },
  {
   "cell_type": "code",
   "execution_count": 157,
   "id": "98b7d06b",
   "metadata": {},
   "outputs": [],
   "source": [
    "# add one column which is only with the date, no time\n",
    "\n",
    "# train\n",
    "df_train['date'] = df_train['time'].dt.date\n",
    "df_train['date'] = pd.to_datetime(df_train['date'])\n",
    "\n",
    "# test\n",
    "df_test['date'] = df_test['time'].dt.date\n",
    "df_test['date'] = pd.to_datetime(df_test['date'])"
   ]
  },
  {
   "cell_type": "code",
   "execution_count": 158,
   "id": "fef63620",
   "metadata": {},
   "outputs": [],
   "source": [
    "# there seem to be 0 price transactions\n",
    "\n",
    "len(df_train[df_train[\"salesPrice\"]==0])/len(df_train)*100\n",
    "\n",
    "# they are 0.02% of all transactions, it is best to delete them instead of thinking how to handle them\n",
    "\n",
    "df_train = df_train[df_train[\"salesPrice\"]!=0]\n",
    "\n",
    "# and now for test\n",
    "\n",
    "df_test = df_test[df_test[\"salesPrice\"]!=0]"
   ]
  },
  {
   "cell_type": "code",
   "execution_count": 159,
   "id": "8abf6da1",
   "metadata": {},
   "outputs": [
    {
     "data": {
      "text/plain": [
       "84.03"
      ]
     },
     "execution_count": 159,
     "metadata": {},
     "output_type": "execute_result"
    }
   ],
   "source": [
    "# do all items have an order in the period we have?\n",
    "\n",
    "round(df_train[\"itemID\"].nunique()/len(df_items)*100, 2)\n",
    "\n",
    "# 94.05% of all items have an order in the period"
   ]
  },
  {
   "cell_type": "code",
   "execution_count": 160,
   "id": "149e679c",
   "metadata": {},
   "outputs": [],
   "source": [
    "# which transactions are performed on a discounted price?\n",
    "# we assume the following: a transaction is marked as having a promotion if, for the same item, somewhere else in the table there is\n",
    "# another transaction performed on a lower price\n",
    "\n",
    "# Step 1: Get the maximum price per itemID\n",
    "max_price_per_item = df_train.groupby('itemID')['salesPrice'].transform('max')\n",
    "\n",
    "# Step 2: Compare each row's price to the max price for that item\n",
    "df_train['promotion'] = df_train['salesPrice'] < max_price_per_item\n",
    "\n",
    "# Step 3: Convert boolean to \"yes\"/\"no\"\n",
    "df_train['promotion'] = df_train['promotion'].map({True: 1, False: 0})\n",
    "\n",
    "\n",
    "# and now for test\n",
    "\n",
    "# Step 1: Get the maximum price per itemID\n",
    "max_price_per_item = df_test.groupby('itemID')['salesPrice'].transform('max')\n",
    "\n",
    "# Step 2: Compare each row's price to the max price for that item\n",
    "df_test['promotion'] = df_test['salesPrice'] < max_price_per_item\n",
    "\n",
    "# Step 3: Convert boolean to \"yes\"/\"no\"\n",
    "df_test['promotion'] = df_test['promotion'].map({True: 1, False: 0})"
   ]
  },
  {
   "cell_type": "code",
   "execution_count": 161,
   "id": "1874c69d",
   "metadata": {},
   "outputs": [
    {
     "data": {
      "application/vnd.microsoft.datawrangler.viewer.v0+json": {
       "columns": [
        {
         "name": "index",
         "rawType": "int64",
         "type": "integer"
        },
        {
         "name": "itemID",
         "rawType": "int64",
         "type": "integer"
        },
        {
         "name": "date",
         "rawType": "object",
         "type": "unknown"
        },
        {
         "name": "unique_price_count",
         "rawType": "int64",
         "type": "integer"
        }
       ],
       "ref": "5a392543-a54b-4eb7-ba82-bba075b0df3f",
       "rows": [
        [
         "72",
         "6",
         "2018-05-30",
         "2"
        ],
        [
         "163",
         "15",
         "2018-01-27",
         "2"
        ],
        [
         "338",
         "27",
         "2018-02-17",
         "2"
        ],
        [
         "423",
         "34",
         "2018-05-03",
         "2"
        ],
        [
         "472",
         "35",
         "2018-05-25",
         "4"
        ],
        [
         "680",
         "55",
         "2018-02-19",
         "2"
        ],
        [
         "881",
         "84",
         "2018-05-27",
         "2"
        ],
        [
         "910",
         "87",
         "2018-03-15",
         "3"
        ],
        [
         "926",
         "88",
         "2018-01-26",
         "4"
        ],
        [
         "1186",
         "120",
         "2018-02-17",
         "2"
        ],
        [
         "1375",
         "146",
         "2018-02-17",
         "6"
        ],
        [
         "1396",
         "146",
         "2018-06-08",
         "5"
        ],
        [
         "1746",
         "186",
         "2018-02-17",
         "2"
        ],
        [
         "2162",
         "221",
         "2018-04-17",
         "2"
        ],
        [
         "2166",
         "222",
         "2018-02-17",
         "2"
        ],
        [
         "2351",
         "243",
         "2018-02-21",
         "5"
        ],
        [
         "2379",
         "247",
         "2018-05-27",
         "2"
        ],
        [
         "2393",
         "250",
         "2018-05-27",
         "2"
        ],
        [
         "2403",
         "251",
         "2018-03-09",
         "4"
        ],
        [
         "2470",
         "257",
         "2018-06-04",
         "2"
        ],
        [
         "2471",
         "257",
         "2018-06-05",
         "2"
        ],
        [
         "2485",
         "258",
         "2018-06-04",
         "6"
        ],
        [
         "2490",
         "259",
         "2018-06-02",
         "2"
        ],
        [
         "2594",
         "273",
         "2018-01-03",
         "4"
        ],
        [
         "2622",
         "273",
         "2018-02-15",
         "2"
        ],
        [
         "2647",
         "274",
         "2018-01-04",
         "2"
        ],
        [
         "2955",
         "318",
         "2018-01-24",
         "3"
        ],
        [
         "2992",
         "320",
         "2018-05-17",
         "2"
        ],
        [
         "3113",
         "333",
         "2018-06-04",
         "2"
        ],
        [
         "3154",
         "339",
         "2018-02-17",
         "2"
        ],
        [
         "3435",
         "368",
         "2018-03-09",
         "2"
        ],
        [
         "3498",
         "377",
         "2018-02-26",
         "5"
        ],
        [
         "3566",
         "381",
         "2018-04-24",
         "5"
        ],
        [
         "3788",
         "402",
         "2018-03-20",
         "6"
        ],
        [
         "3859",
         "417",
         "2018-03-04",
         "2"
        ],
        [
         "4017",
         "434",
         "2018-03-02",
         "3"
        ],
        [
         "4421",
         "464",
         "2018-04-01",
         "6"
        ],
        [
         "4527",
         "469",
         "2018-02-17",
         "2"
        ],
        [
         "4541",
         "469",
         "2018-06-08",
         "2"
        ],
        [
         "4902",
         "502",
         "2018-05-02",
         "6"
        ],
        [
         "4925",
         "503",
         "2018-05-03",
         "2"
        ],
        [
         "5034",
         "511",
         "2018-04-06",
         "5"
        ],
        [
         "5083",
         "514",
         "2018-02-18",
         "2"
        ],
        [
         "5092",
         "515",
         "2018-06-02",
         "2"
        ],
        [
         "5271",
         "530",
         "2018-05-02",
         "2"
        ],
        [
         "5496",
         "560",
         "2018-04-30",
         "4"
        ],
        [
         "5721",
         "579",
         "2018-06-04",
         "2"
        ],
        [
         "5936",
         "599",
         "2018-05-01",
         "2"
        ],
        [
         "6111",
         "613",
         "2018-02-17",
         "2"
        ],
        [
         "6145",
         "615",
         "2018-01-18",
         "2"
        ]
       ],
       "shape": {
        "columns": 3,
        "rows": 1006
       }
      },
      "text/html": [
       "<div>\n",
       "<style scoped>\n",
       "    .dataframe tbody tr th:only-of-type {\n",
       "        vertical-align: middle;\n",
       "    }\n",
       "\n",
       "    .dataframe tbody tr th {\n",
       "        vertical-align: top;\n",
       "    }\n",
       "\n",
       "    .dataframe thead th {\n",
       "        text-align: right;\n",
       "    }\n",
       "</style>\n",
       "<table border=\"1\" class=\"dataframe\">\n",
       "  <thead>\n",
       "    <tr style=\"text-align: right;\">\n",
       "      <th></th>\n",
       "      <th>itemID</th>\n",
       "      <th>date</th>\n",
       "      <th>unique_price_count</th>\n",
       "    </tr>\n",
       "  </thead>\n",
       "  <tbody>\n",
       "    <tr>\n",
       "      <th>72</th>\n",
       "      <td>6</td>\n",
       "      <td>2018-05-30</td>\n",
       "      <td>2</td>\n",
       "    </tr>\n",
       "    <tr>\n",
       "      <th>163</th>\n",
       "      <td>15</td>\n",
       "      <td>2018-01-27</td>\n",
       "      <td>2</td>\n",
       "    </tr>\n",
       "    <tr>\n",
       "      <th>338</th>\n",
       "      <td>27</td>\n",
       "      <td>2018-02-17</td>\n",
       "      <td>2</td>\n",
       "    </tr>\n",
       "    <tr>\n",
       "      <th>423</th>\n",
       "      <td>34</td>\n",
       "      <td>2018-05-03</td>\n",
       "      <td>2</td>\n",
       "    </tr>\n",
       "    <tr>\n",
       "      <th>472</th>\n",
       "      <td>35</td>\n",
       "      <td>2018-05-25</td>\n",
       "      <td>4</td>\n",
       "    </tr>\n",
       "    <tr>\n",
       "      <th>...</th>\n",
       "      <td>...</td>\n",
       "      <td>...</td>\n",
       "      <td>...</td>\n",
       "    </tr>\n",
       "    <tr>\n",
       "      <th>82985</th>\n",
       "      <td>10237</td>\n",
       "      <td>2018-05-24</td>\n",
       "      <td>2</td>\n",
       "    </tr>\n",
       "    <tr>\n",
       "      <th>83047</th>\n",
       "      <td>10286</td>\n",
       "      <td>2018-05-19</td>\n",
       "      <td>2</td>\n",
       "    </tr>\n",
       "    <tr>\n",
       "      <th>83050</th>\n",
       "      <td>10287</td>\n",
       "      <td>2018-05-24</td>\n",
       "      <td>2</td>\n",
       "    </tr>\n",
       "    <tr>\n",
       "      <th>83069</th>\n",
       "      <td>10296</td>\n",
       "      <td>2018-05-24</td>\n",
       "      <td>2</td>\n",
       "    </tr>\n",
       "    <tr>\n",
       "      <th>83111</th>\n",
       "      <td>10431</td>\n",
       "      <td>2018-05-14</td>\n",
       "      <td>2</td>\n",
       "    </tr>\n",
       "  </tbody>\n",
       "</table>\n",
       "<p>1006 rows × 3 columns</p>\n",
       "</div>"
      ],
      "text/plain": [
       "       itemID        date  unique_price_count\n",
       "72          6  2018-05-30                   2\n",
       "163        15  2018-01-27                   2\n",
       "338        27  2018-02-17                   2\n",
       "423        34  2018-05-03                   2\n",
       "472        35  2018-05-25                   4\n",
       "...       ...         ...                 ...\n",
       "82985   10237  2018-05-24                   2\n",
       "83047   10286  2018-05-19                   2\n",
       "83050   10287  2018-05-24                   2\n",
       "83069   10296  2018-05-24                   2\n",
       "83111   10431  2018-05-14                   2\n",
       "\n",
       "[1006 rows x 3 columns]"
      ]
     },
     "execution_count": 161,
     "metadata": {},
     "output_type": "execute_result"
    }
   ],
   "source": [
    "# this data frame will be aggregared on day level for final use\n",
    "# so it is best if we continue the transformation in the aggregated version\n",
    "# but before aggregation, we should check what % of items have been sold on a different price in the same day\n",
    "\n",
    "price_variations = (\n",
    "    df_train\n",
    "    .assign(date=df_train['time'].dt.date)\n",
    "    .groupby(['itemID', 'date'])['salesPrice']\n",
    "    .nunique()\n",
    "    .reset_index(name='unique_price_count')\n",
    ")\n",
    "\n",
    "\n",
    "# Filter where price count > 1 (i.e., same item sold at multiple prices)\n",
    "price_variations[price_variations['unique_price_count'] > 1]"
   ]
  },
  {
   "cell_type": "code",
   "execution_count": 162,
   "id": "00a58915",
   "metadata": {},
   "outputs": [
    {
     "data": {
      "text/plain": [
       "9.614833221829304"
      ]
     },
     "execution_count": 162,
     "metadata": {},
     "output_type": "execute_result"
    }
   ],
   "source": [
    "# % of such cases from all items\n",
    "\n",
    "((price_variations[price_variations['unique_price_count'] > 1]['unique_price_count'].count())/len(df_items))*100"
   ]
  },
  {
   "cell_type": "markdown",
   "id": "c868af23",
   "metadata": {},
   "source": [
    "### df_infos preparation"
   ]
  },
  {
   "cell_type": "markdown",
   "id": "9c28ce1e",
   "metadata": {},
   "source": [
    "#### Preparation"
   ]
  },
  {
   "cell_type": "code",
   "execution_count": 163,
   "id": "972e7526",
   "metadata": {},
   "outputs": [
    {
     "data": {
      "text/plain": [
       "190"
      ]
     },
     "execution_count": 163,
     "metadata": {},
     "output_type": "execute_result"
    }
   ],
   "source": [
    "# in df_infos column promotion there are cells with more than one date, separated by a comma\n",
    "# how many such are there?\n",
    "\n",
    "(df_infos[\"promotion\"].str.len() > 10).sum()\n",
    "\n",
    "# 190\n",
    "# I leave it as text for now, we should handle it later"
   ]
  },
  {
   "cell_type": "code",
   "execution_count": 164,
   "id": "1ea27e0d",
   "metadata": {},
   "outputs": [
    {
     "data": {
      "application/vnd.microsoft.datawrangler.viewer.v0+json": {
       "columns": [
        {
         "name": "index",
         "rawType": "int64",
         "type": "integer"
        },
        {
         "name": "promotion",
         "rawType": "object",
         "type": "string"
        }
       ],
       "ref": "0fd5f9b1-d040-4ca4-ba05-2a73bea7a46f",
       "rows": [
        [
         "34",
         "2018-07-01,2018-07-02,2018-07-13"
        ],
        [
         "74",
         "2018-07-05,2018-07-11"
        ],
        [
         "124",
         "2018-07-08,2018-07-13"
        ],
        [
         "125",
         "2018-07-05,2018-07-11"
        ],
        [
         "353",
         "2018-07-08,2018-07-11"
        ],
        [
         "356",
         "2018-06-30,2018-07-13"
        ],
        [
         "501",
         "2018-06-30,2018-07-01,2018-07-11"
        ],
        [
         "508",
         "2018-07-08,2018-07-11"
        ],
        [
         "509",
         "2018-07-08,2018-07-13"
        ],
        [
         "580",
         "2018-07-06,2018-07-13"
        ],
        [
         "581",
         "2018-07-06,2018-07-10"
        ],
        [
         "630",
         "2018-07-08,2018-07-10"
        ],
        [
         "672",
         "2018-06-30,2018-07-04"
        ],
        [
         "679",
         "2018-07-01,2018-07-10"
        ],
        [
         "828",
         "2018-07-08,2018-07-13"
        ],
        [
         "1007",
         "2018-06-30,2018-07-01"
        ],
        [
         "1073",
         "2018-07-08,2018-07-11"
        ],
        [
         "1336",
         "2018-07-04,2018-07-05,2018-07-06"
        ],
        [
         "1339",
         "2018-07-04,2018-07-05"
        ],
        [
         "1346",
         "2018-07-04,2018-07-05"
        ],
        [
         "1395",
         "2018-07-06,2018-07-13"
        ],
        [
         "1564",
         "2018-07-08,2018-07-11"
        ],
        [
         "1568",
         "2018-06-30,2018-07-13"
        ],
        [
         "1570",
         "2018-06-30,2018-07-13"
        ],
        [
         "1572",
         "2018-07-01,2018-07-06"
        ],
        [
         "1605",
         "2018-07-08,2018-07-13"
        ],
        [
         "1606",
         "2018-06-30,2018-07-06"
        ],
        [
         "1650",
         "2018-07-08,2018-07-11"
        ],
        [
         "1664",
         "2018-07-05,2018-07-13"
        ],
        [
         "1709",
         "2018-07-01,2018-07-02"
        ],
        [
         "1787",
         "2018-07-01,2018-07-06"
        ],
        [
         "1879",
         "2018-07-04,2018-07-05,2018-07-06"
        ],
        [
         "1886",
         "2018-07-04,2018-07-05"
        ],
        [
         "2021",
         "2018-07-04,2018-07-05"
        ],
        [
         "2025",
         "2018-07-04,2018-07-05,2018-07-06"
        ],
        [
         "2035",
         "2018-07-04,2018-07-05"
        ],
        [
         "2039",
         "2018-07-04,2018-07-05,2018-07-06"
        ],
        [
         "2169",
         "2018-07-03,2018-07-04,2018-07-05"
        ],
        [
         "2179",
         "2018-07-03,2018-07-04,2018-07-06"
        ],
        [
         "2181",
         "2018-07-03,2018-07-04"
        ],
        [
         "2217",
         "2018-07-04,2018-07-05"
        ],
        [
         "2359",
         "2018-07-03,2018-07-05"
        ],
        [
         "2520",
         "2018-07-04,2018-07-09"
        ],
        [
         "2603",
         "2018-07-04,2018-07-05"
        ],
        [
         "2772",
         "2018-07-04,2018-07-06"
        ],
        [
         "2854",
         "2018-07-04,2018-07-05,2018-07-06"
        ],
        [
         "3125",
         "2018-07-02,2018-07-04"
        ],
        [
         "3298",
         "2018-07-04,2018-07-06"
        ],
        [
         "3299",
         "2018-07-03,2018-07-04"
        ],
        [
         "3303",
         "2018-07-02,2018-07-04"
        ]
       ],
       "shape": {
        "columns": 1,
        "rows": 190
       }
      },
      "text/plain": [
       "34       2018-07-01,2018-07-02,2018-07-13\n",
       "74                  2018-07-05,2018-07-11\n",
       "124                 2018-07-08,2018-07-13\n",
       "125                 2018-07-05,2018-07-11\n",
       "353                 2018-07-08,2018-07-11\n",
       "                       ...               \n",
       "9996                2018-07-02,2018-07-05\n",
       "10093               2018-07-05,2018-07-09\n",
       "10111    2018-07-04,2018-07-05,2018-07-06\n",
       "10176               2018-07-01,2018-07-10\n",
       "10318               2018-07-05,2018-07-06\n",
       "Name: promotion, Length: 190, dtype: object"
      ]
     },
     "execution_count": 164,
     "metadata": {},
     "output_type": "execute_result"
    }
   ],
   "source": [
    "df_infos[\"promotion\"][df_infos[\"promotion\"].str.len() > 10]"
   ]
  },
  {
   "cell_type": "code",
   "execution_count": 165,
   "id": "b95580eb",
   "metadata": {},
   "outputs": [
    {
     "data": {
      "text/plain": [
       "True"
      ]
     },
     "execution_count": 165,
     "metadata": {},
     "output_type": "execute_result"
    }
   ],
   "source": [
    "# does df_infos, containing the promotions, contain unique item IDs or are they duplicated?\n",
    "# I expect them to be unique\n",
    "\n",
    "len(df_infos[\"itemID\"]) == len(df_items)\n",
    "df_infos[\"itemID\"].value_counts().max() == 1\n"
   ]
  },
  {
   "cell_type": "code",
   "execution_count": 166,
   "id": "23756374",
   "metadata": {},
   "outputs": [
    {
     "data": {
      "text/plain": [
       "True"
      ]
     },
     "execution_count": 166,
     "metadata": {},
     "output_type": "execute_result"
    }
   ],
   "source": [
    "df_infos[\"itemID\"].isin(df_items[\"itemID\"]).count() == len(df_infos[\"itemID\"])\n",
    "\n",
    "# it contains a row for each itemID"
   ]
  },
  {
   "cell_type": "markdown",
   "id": "d6d81322",
   "metadata": {},
   "source": [
    "#### Deriving discounts for the simulation period"
   ]
  },
  {
   "cell_type": "code",
   "execution_count": 167,
   "id": "e001db37",
   "metadata": {},
   "outputs": [],
   "source": [
    "df_train[\"maxPrice\"] = df_train.groupby(\"itemID\")[\"salesPrice\"].transform(\"max\")\n",
    "\n",
    "# and for test\n",
    "\n",
    "df_test[\"maxPrice\"] = df_test.groupby(\"itemID\")[\"salesPrice\"].transform(\"max\")"
   ]
  },
  {
   "cell_type": "code",
   "execution_count": 168,
   "id": "c4d802ee",
   "metadata": {},
   "outputs": [],
   "source": [
    "# deriving discounts\n",
    "\n",
    "df_train[\"discountAmount\"] = round(df_train[\"maxPrice\"] - df_train[\"salesPrice\"], 2)\n",
    "\n",
    "df_train[\"discountPerc\"] = round(df_train[\"discountAmount\"]/df_train[\"maxPrice\"], 2)\n",
    "\n",
    "# and for test\n",
    "\n",
    "df_test[\"discountAmount\"] = round(df_test[\"maxPrice\"] - df_test[\"salesPrice\"], 2)\n",
    "\n",
    "df_test[\"discountPerc\"] = round(df_test[\"discountAmount\"]/df_test[\"maxPrice\"], 2)"
   ]
  },
  {
   "cell_type": "code",
   "execution_count": 169,
   "id": "a88c39d4",
   "metadata": {},
   "outputs": [
    {
     "name": "stdout",
     "output_type": "stream",
     "text": [
      "0.95 0.01\n"
     ]
    }
   ],
   "source": [
    "# max and min % discount\n",
    "\n",
    "print(max(df_train[\"discountPerc\"]), min(df_train[\"discountPerc\"][df_train[\"discountPerc\"] != 0]))"
   ]
  },
  {
   "cell_type": "code",
   "execution_count": 170,
   "id": "757d1c78",
   "metadata": {},
   "outputs": [
    {
     "data": {
      "image/png": "[encoded data removed]",
      "text/plain": [
       "<Figure size 640x480 with 1 Axes>"
      ]
     },
     "metadata": {},
     "output_type": "display_data"
    }
   ],
   "source": [
    "# Create the histogram and get the bars\n",
    "ax = df_train[\"discountPerc\"].plot(kind=\"hist\", bins=10, edgecolor='black')\n",
    "\n",
    "# Add value labels on top of each bar\n",
    "for patch in ax.patches:\n",
    "    height = patch.get_height()\n",
    "    if height > 0:\n",
    "        ax.annotate(f'{int(height)}', \n",
    "                    xy=(patch.get_x() + patch.get_width() / 2, height), \n",
    "                    xytext=(0, 5),  # offset\n",
    "                    textcoords=\"offset points\",\n",
    "                    ha='center', va='bottom')\n",
    "\n",
    "plt.xlabel(\"Discount Percentage\")\n",
    "plt.ylabel(\"Frequency\")\n",
    "plt.title(\"Histogram of Discount Percentage\")\n",
    "plt.tight_layout()\n",
    "plt.show()"
   ]
  },
  {
   "cell_type": "code",
   "execution_count": 171,
   "id": "8e788681",
   "metadata": {},
   "outputs": [
    {
     "data": {
      "image/png": "[encoded data removed]",
      "text/plain": [
       "<Figure size 640x480 with 1 Axes>"
      ]
     },
     "metadata": {},
     "output_type": "display_data"
    }
   ],
   "source": [
    "# Total number of observations\n",
    "total = len(df_train[\"discountPerc\"].dropna())\n",
    "\n",
    "# Plot the histogram as density (normalized)\n",
    "ax = df_train[\"discountPerc\"].plot(kind=\"hist\", bins=10, edgecolor='black', density=False)\n",
    "\n",
    "# Get the actual bin heights (counts) to calculate percentages\n",
    "counts, bins, patches = plt.hist(df_train[\"discountPerc\"].dropna(), bins=10, edgecolor='black')\n",
    "\n",
    "# Annotate bars with percentage labels\n",
    "for count, patch in zip(counts, patches):\n",
    "    percentage = 100 * count / total\n",
    "    if count > 0:\n",
    "        plt.annotate(f'{percentage:.1f}%', \n",
    "                     xy=(patch.get_x() + patch.get_width() / 2, count), \n",
    "                     xytext=(0, 5),\n",
    "                     textcoords=\"offset points\",\n",
    "                     ha='center', va='bottom')\n",
    "\n",
    "plt.xlabel(\"Discount Percentage\")\n",
    "plt.ylabel(\"Count\")\n",
    "plt.title(\"Histogram of Discount Percentage (with % labels)\")\n",
    "plt.tight_layout()\n",
    "plt.show()"
   ]
  },
  {
   "cell_type": "code",
   "execution_count": 172,
   "id": "f26eab71",
   "metadata": {},
   "outputs": [],
   "source": [
    "# looking at the skewed distribution, for getting an approximate discount percentage per item\n",
    "# it would be better to use the median instead of the mean\n",
    "# adding column for discounted price to table df_infos = simulation price - median discount for item\n",
    "# Start with itemID column\n",
    "df_discount_stats = df_items[[\"itemID\"]].copy()\n",
    "\n",
    "# Filter out rows where discountAmount is 0\n",
    "df_nonzero_discounts = df_train[df_train[\"discountAmount\"] != 0].copy()\n",
    "\n",
    "# Drop duplicates to keep only unique discount percentages per item\n",
    "unique_discounts = df_nonzero_discounts.drop_duplicates(subset=[\"itemID\", \"discountPerc\"])\n",
    "\n",
    "# Now compute the median of these unique values per item\n",
    "median_discounts = (\n",
    "    unique_discounts\n",
    "    .groupby(\"itemID\")[\"discountPerc\"]\n",
    "    .median()\n",
    "    .round(2)\n",
    "    .reset_index()\n",
    "    .rename(columns={\"discountPerc\": \"medianDiscPerc\"})\n",
    ")\n",
    "\n",
    "# Merge into df_discount_stats\n",
    "df_discount_stats = df_discount_stats.merge(median_discounts, on=\"itemID\", how=\"left\")\n",
    "\n"
   ]
  },
  {
   "cell_type": "code",
   "execution_count": 173,
   "id": "501c1962",
   "metadata": {},
   "outputs": [],
   "source": [
    "# adding column for discounted price to table df_infos = simulation price - median discount for item\n",
    "\n",
    "df_infos = df_infos.merge(df_discount_stats[['itemID', 'medianDiscPerc']], on='itemID', how='left')"
   ]
  },
  {
   "cell_type": "code",
   "execution_count": 174,
   "id": "1963db7d",
   "metadata": {},
   "outputs": [],
   "source": [
    "# adding column for discounted price to table df_infos = simulation price - median discount for item\n",
    "\n",
    "df_infos[\"discountedPrice\"] = np.where(\n",
    "    df_infos[\"promotion\"].notna(),\n",
    "    round(df_infos[\"simulationPrice\"] * (1 - df_infos[\"medianDiscPerc\"]), 2),\n",
    "    np.nan  # or just leave it to default if you prefer\n",
    ")\n"
   ]
  },
  {
   "cell_type": "code",
   "execution_count": 175,
   "id": "9afc1dd4",
   "metadata": {},
   "outputs": [],
   "source": [
    "# unfinished - we have to use some mean based on similar items to derive median discount % for items which will have\n",
    "# a promotion in the simulation period but have not had a discount in the historical data"
   ]
  },
  {
   "cell_type": "code",
   "execution_count": 176,
   "id": "0d3ea76c",
   "metadata": {},
   "outputs": [],
   "source": [
    "# adding also min price per item in the orders data frame for completion\n",
    "\n",
    "df_train[\"minPrice\"] = df_train.groupby(\"itemID\")[\"salesPrice\"].transform(\"min\")\n",
    "\n",
    "# and for test\n",
    "\n",
    "df_test[\"minPrice\"] = df_test.groupby(\"itemID\")[\"salesPrice\"].transform(\"min\")"
   ]
  },
  {
   "cell_type": "markdown",
   "id": "4570e5cb",
   "metadata": {},
   "source": [
    "#### Quickly check relation - qty sold and promotion"
   ]
  },
  {
   "cell_type": "code",
   "execution_count": 177,
   "id": "a2785884",
   "metadata": {},
   "outputs": [],
   "source": [
    "# promo tests\n",
    "\n",
    "# Step 1: Sum quantity per itemID, date, and promotion (daily sales)\n",
    "daily_qty = (\n",
    "    df_train\n",
    "    .groupby(['itemID', 'date', 'promotion'])['order']\n",
    "    .sum()\n",
    "    .reset_index()\n",
    ")\n",
    "\n",
    "# Step 2: Aggregate by itemID and promotion: \n",
    "# total quantity sold (sum of daily sums)\n",
    "# count of days with sales (number of unique days)\n",
    "agg = daily_qty.groupby(['itemID', 'promotion']).agg(\n",
    "    total_qty=('order', 'sum'),\n",
    "    count_days=('date', 'nunique')\n",
    ").unstack(fill_value=0)\n",
    "\n",
    "# Step 3: Build the final DataFrame safely extracting promo/no promo columns\n",
    "summary = pd.DataFrame({\n",
    "    'QTY_no_promo': agg['total_qty'].get(0, pd.Series(0)),\n",
    "    'QTY_promo': agg['total_qty'].get(1, pd.Series(0)),\n",
    "    'count_days_no_promo': agg['count_days'].get(0, pd.Series(0)),\n",
    "    'count_days_promo': agg['count_days'].get(1, pd.Series(0))\n",
    "}).reset_index()\n",
    "\n",
    "# Step 4: Calculate average quantity per day (handle division by zero)\n",
    "summary['QTY_no_promo_per_day'] = summary.apply(\n",
    "    lambda r: r['QTY_no_promo'] / r['count_days_no_promo'] if r['count_days_no_promo'] > 0 else 0,\n",
    "    axis=1\n",
    ")\n",
    "summary['QTY_promo_per_day'] = summary.apply(\n",
    "    lambda r: r['QTY_promo'] / r['count_days_promo'] if r['count_days_promo'] > 0 else 0,\n",
    "    axis=1\n",
    ")\n"
   ]
  },
  {
   "cell_type": "code",
   "execution_count": 178,
   "id": "c5d1a439",
   "metadata": {},
   "outputs": [
    {
     "data": {
      "text/plain": [
       "0.19290263876251137"
      ]
     },
     "execution_count": 178,
     "metadata": {},
     "output_type": "execute_result"
    }
   ],
   "source": [
    "# promo tests\n",
    "\n",
    "len(summary[summary[\"QTY_promo_per_day\"] > summary[\"QTY_no_promo_per_day\"]])/len(summary)"
   ]
  },
  {
   "cell_type": "markdown",
   "id": "abac634a",
   "metadata": {},
   "source": [
    "## Aggregate orders"
   ]
  },
  {
   "cell_type": "code",
   "execution_count": 179,
   "id": "30b73b84",
   "metadata": {},
   "outputs": [],
   "source": [
    "# aggregate df_train on a daily basis\n",
    "# sum of QTY\n",
    "# average of price (or median?)?\n",
    "# promotion - if 1 is present, then 1 (had at least 1 promotion in that day)\n",
    "# median discount %?\n",
    "# median discount amount?\n",
    "\n",
    "# to make a desicion wether to use mean of median for price, discount amount, discount perc\n",
    "# we have to look at the distribution of the prices for some items\n"
   ]
  },
  {
   "cell_type": "markdown",
   "id": "c8e273a6",
   "metadata": {},
   "source": [
    "### Checking price per item distributions"
   ]
  },
  {
   "cell_type": "code",
   "execution_count": 180,
   "id": "0a469294",
   "metadata": {},
   "outputs": [],
   "source": [
    "# adding a column with item_prices_count to df_train\n",
    "\n",
    "df_train[\"item_prices_count\"] = df_train.groupby(\"itemID\")[\"salesPrice\"].transform(lambda x: x.nunique())"
   ]
  },
  {
   "cell_type": "code",
   "execution_count": 181,
   "id": "92d46af0",
   "metadata": {},
   "outputs": [],
   "source": [
    "# getting a random sample where the item has price discount of > 0.79, meaning there might\n",
    "# be great price variations of the item\n",
    "\n",
    "df_sample = df_train[[\"itemID\"]][df_train[\"discountPerc\"] > 0.79]\n",
    "\n",
    "df_sample = df_sample.sample(n=50, random_state=222)\n",
    "\n",
    "df_sample = df_sample.sort_values(by=\"itemID\", ascending=True)\n",
    "\n",
    "df_sample = df_sample.merge(df_train, how=\"left\", on=\"itemID\")"
   ]
  },
  {
   "cell_type": "code",
   "execution_count": 182,
   "id": "d6f9cc96",
   "metadata": {},
   "outputs": [
    {
     "data": {
      "image/png": "[encoded data removed]",
      "text/plain": [
       "<Figure size 2000x1500 with 20 Axes>"
      ]
     },
     "metadata": {},
     "output_type": "display_data"
    }
   ],
   "source": [
    "# visualizing \n",
    "\n",
    "# Unique items\n",
    "item_ids = df_sample['itemID'].unique()\n",
    "\n",
    "# Set up the grid\n",
    "rows, cols = 10, 5\n",
    "fig, axes = plt.subplots(rows, cols, figsize=(20, 15), sharex=False, sharey=False)\n",
    "axes = axes.flatten()\n",
    "\n",
    "# Plot histogram for each item\n",
    "for i, item_id in enumerate(item_ids):\n",
    "    ax = axes[i]\n",
    "    item_prices = df_sample[df_sample['itemID'] == item_id]['salesPrice']\n",
    "\n",
    "    ax.hist(item_prices, bins=10, color='skyblue', edgecolor='black')\n",
    "    ax.set_title(f'Item {item_id}', fontsize=8)\n",
    "    ax.tick_params(labelsize=6)\n",
    "    ax.grid(True)\n",
    "\n",
    "# Hide unused subplots\n",
    "for j in range(len(item_ids), len(axes)):\n",
    "    fig.delaxes(axes[j])\n",
    "\n",
    "plt.tight_layout()\n",
    "plt.show()"
   ]
  },
  {
   "cell_type": "code",
   "execution_count": 183,
   "id": "df63ca64",
   "metadata": {},
   "outputs": [],
   "source": [
    "# it would be useful to see another check to make aa decision\n",
    "# see the top 10 items for which the mean and median are the most different and\n",
    "# see which one makes more sence for us\n",
    "\n",
    "# Group by itemID and compute mean and median\n",
    "price_stats = df_train.groupby('itemID')['salesPrice'].agg(\n",
    "    mean_price='mean',\n",
    "    median_price='median'\n",
    ").reset_index()\n",
    "\n",
    "# Compute absolute difference\n",
    "price_stats['abs_diff'] = (price_stats['mean_price'] - price_stats['median_price']).abs()\n",
    "\n",
    "# Compute absolute percentage difference relative to median\n",
    "price_stats['abs_perc_diff'] = (price_stats['abs_diff'] / price_stats['median_price']).abs() * 100\n",
    "\n",
    "# Round numerical columns\n",
    "price_stats[['mean_price', 'median_price', 'abs_diff', 'abs_perc_diff']] = price_stats[\n",
    "    ['mean_price', 'median_price', 'abs_diff', 'abs_perc_diff']].round(2)\n",
    "\n",
    "# Sort by absolute percentage difference descending\n",
    "price_stats = price_stats.sort_values(by='abs_perc_diff', ascending=False)"
   ]
  },
  {
   "cell_type": "code",
   "execution_count": 184,
   "id": "256597e1",
   "metadata": {},
   "outputs": [],
   "source": [
    "# now look at histograms of top 50 of items with most % difference of mean and median\n",
    "\n",
    "df_sample = price_stats.sort_values(by='abs_perc_diff', ascending=False).head(50)[[\"itemID\"]]\n",
    "\n",
    "df_sample = df_sample.sample(n=50, random_state=222)\n",
    "\n",
    "df_sample = df_sample.sort_values(by=\"itemID\", ascending=True)\n",
    "\n",
    "df_sample = df_sample.merge(df_train, how=\"left\", on=\"itemID\")"
   ]
  },
  {
   "cell_type": "code",
   "execution_count": 185,
   "id": "cfcfd246",
   "metadata": {},
   "outputs": [
    {
     "data": {
      "image/png": "[encoded data removed]",
      "text/plain": [
       "<Figure size 2000x1500 with 50 Axes>"
      ]
     },
     "metadata": {},
     "output_type": "display_data"
    }
   ],
   "source": [
    "# visualizing \n",
    "\n",
    "# Unique items\n",
    "item_ids = df_sample['itemID'].unique()\n",
    "\n",
    "# Set up the grid\n",
    "rows, cols = 10, 5\n",
    "fig, axes = plt.subplots(rows, cols, figsize=(20, 15), sharex=False, sharey=False)\n",
    "axes = axes.flatten()\n",
    "\n",
    "# Plot histogram for each item\n",
    "for i, item_id in enumerate(item_ids):\n",
    "    ax = axes[i]\n",
    "    item_prices = df_sample[df_sample['itemID'] == item_id]['salesPrice']\n",
    "\n",
    "    ax.hist(item_prices, bins=10, color='skyblue', edgecolor='black')\n",
    "    ax.set_title(f'Item {item_id}', fontsize=8)\n",
    "    ax.tick_params(labelsize=6)\n",
    "    ax.grid(True)\n",
    "\n",
    "# Hide unused subplots\n",
    "for j in range(len(item_ids), len(axes)):\n",
    "    fig.delaxes(axes[j])\n",
    "\n",
    "plt.tight_layout()\n",
    "plt.show()"
   ]
  },
  {
   "cell_type": "code",
   "execution_count": 186,
   "id": "e719f780",
   "metadata": {},
   "outputs": [],
   "source": [
    "# it is better to use mean because the extreme values are not a one-case accidental thing"
   ]
  },
  {
   "cell_type": "code",
   "execution_count": 187,
   "id": "1415bd42",
   "metadata": {},
   "outputs": [],
   "source": [
    "# aggregate using mean (average), but specifically weighted average, to gain price per each\n",
    "# weighted average will take into account how accidental the outlier prices were"
   ]
  },
  {
   "cell_type": "markdown",
   "id": "f4e49f5b",
   "metadata": {},
   "source": [
    "### Aggregate orders on day level"
   ]
  },
  {
   "cell_type": "code",
   "execution_count": 188,
   "id": "ff1227cd",
   "metadata": {},
   "outputs": [],
   "source": [
    "# in order to get weighted average price per each for the items\n",
    "# first we need to add a column to df_train\n",
    "# with order value = qty * price\n",
    "\n",
    "df_train[\"orderValue\"] = df_train[\"order\"] * df_train[\"salesPrice\"]\n",
    "\n",
    "# and for test\n",
    "\n",
    "df_test[\"orderValue\"] = df_test[\"order\"] * df_test[\"salesPrice\"]"
   ]
  },
  {
   "cell_type": "code",
   "execution_count": 189,
   "id": "eaa9740d",
   "metadata": {},
   "outputs": [],
   "source": [
    "# aggregating on day level\n",
    "\n",
    "df_train_daily = df_train.groupby(['date', 'itemID']).agg(\n",
    "    qty_sold=('order', 'sum'),\n",
    "    sales_value=('orderValue', 'sum'),\n",
    "    promotion=('promotion', 'max'),  # If any transaction had promotion == 1, result will be 1\n",
    "    maxItemPrice=('maxPrice', 'max'), # doesn't matter min or max - its the same value for all transactions with the same item\n",
    "    minItemPrice=('minPrice', 'max'),\n",
    "    PriceToday=('salesPrice', 'mean') \n",
    ").reset_index()\n",
    "\n",
    "# and for test\n",
    "\n",
    "df_test_daily = df_test.groupby(['date', 'itemID']).agg(\n",
    "    qty_sold=('order', 'sum'),\n",
    "    sales_value=('orderValue', 'sum'),\n",
    "    promotion=('promotion', 'max'),  # If any transaction had promotion == 1, result will be 1\n",
    "    maxItemPrice=('maxPrice', 'max'), # doesn't matter min or max - its the same value for all transactions with the same item\n",
    "    minItemPrice=('minPrice', 'max'),\n",
    "    PriceToday=('salesPrice', 'mean')\n",
    ").reset_index()"
   ]
  },
  {
   "cell_type": "code",
   "execution_count": 190,
   "id": "6f8ad04c",
   "metadata": {},
   "outputs": [],
   "source": [
    "# deriving price per each for the items, but specific price for that day\n",
    "\n",
    "df_train_daily[\"DailyItemQty\"] = df_train_daily.groupby([\"itemID\", \"date\"])[\"qty_sold\"].transform(\"sum\")\n",
    "df_train_daily[\"DailyItemValue\"] = df_train_daily.groupby([\"itemID\", \"date\"])[\"sales_value\"].transform(\"sum\")\n",
    "\n",
    "df_train_daily[\"PricePerEachToday\"] = round(df_train_daily[\"DailyItemValue\"] / df_train_daily[\"DailyItemQty\"], 2)\n",
    "\n",
    "df_train_daily = df_train_daily.drop(['DailyItemQty', 'DailyItemValue'], axis=1)\n",
    "\n",
    "# and for test\n",
    "\n",
    "df_test_daily[\"DailyItemQty\"] = df_test_daily.groupby([\"itemID\", \"date\"])[\"qty_sold\"].transform(\"sum\")\n",
    "df_test_daily[\"DailyItemValue\"] = df_test_daily.groupby([\"itemID\", \"date\"])[\"sales_value\"].transform(\"sum\")\n",
    "\n",
    "df_test_daily[\"PricePerEachToday\"] = round(df_test_daily[\"DailyItemValue\"] / df_test_daily[\"DailyItemQty\"], 2)\n",
    "\n",
    "df_test_daily = df_test_daily.drop(['DailyItemQty', 'DailyItemValue'], axis=1)"
   ]
  },
  {
   "cell_type": "code",
   "execution_count": 191,
   "id": "74ab7e18",
   "metadata": {},
   "outputs": [],
   "source": [
    "# deriving just average price (for the day and as a whole), no QTY used in order to do weighted average\n",
    "\n",
    "df_train_daily[\"Price\"] = round(df_train_daily.groupby(\"itemID\")[\"PriceToday\"].transform(\"mean\"), 2)\n",
    "\n",
    "# and for test\n",
    "\n",
    "df_test_daily[\"Price\"] = round(df_test_daily.groupby(\"itemID\")[\"PriceToday\"].transform(\"mean\"), 2)"
   ]
  },
  {
   "cell_type": "code",
   "execution_count": 192,
   "id": "e63381aa",
   "metadata": {},
   "outputs": [],
   "source": [
    "# add median discout for the items\n",
    "# we have it currently for each item in df_infos\n",
    "\n",
    "# Select only itemID and medianDiscount from df_infos and merge on itemID\n",
    "df_train_daily = df_train_daily.merge(\n",
    "    df_infos[[\"itemID\", \"medianDiscPerc\"]],\n",
    "    how=\"left\",\n",
    "    on=\"itemID\"\n",
    ")\n",
    "\n",
    "# and for test\n",
    "\n",
    "df_test_daily = df_test_daily.merge(\n",
    "    df_infos[[\"itemID\", \"medianDiscPerc\"]],\n",
    "    how=\"left\",\n",
    "    on=\"itemID\"\n",
    ")"
   ]
  },
  {
   "cell_type": "markdown",
   "id": "a63d904b",
   "metadata": {},
   "source": [
    "## Add features"
   ]
  },
  {
   "cell_type": "markdown",
   "id": "b5c3310a",
   "metadata": {},
   "source": [
    "#### Complete main DF with missing date + item combinations"
   ]
  },
  {
   "cell_type": "code",
   "execution_count": 193,
   "id": "c3279e30",
   "metadata": {},
   "outputs": [],
   "source": [
    "# completing our main data frame with all missing day+item combinations\n",
    "# for them qty_sold = 0, sales_value = 0, promotion = 0, maxItemPrice = maxItemPrice, minItemPrice = minItemPrice\n",
    "# Price = mean Price for that item, medianDiscPerc = medianDiscPerc\n",
    "\n",
    "new_df_train = pd.DataFrame(df_train_daily[\"itemID\"].unique(), columns = [\"itemID\"])\n",
    "\n",
    "# and for test\n",
    "\n",
    "new_df_test = pd.DataFrame(df_test_daily[\"itemID\"].unique(), columns = [\"itemID\"])"
   ]
  },
  {
   "cell_type": "code",
   "execution_count": 194,
   "id": "639216b2",
   "metadata": {},
   "outputs": [],
   "source": [
    "# Create date range\n",
    "#checkp\n",
    "\n",
    "date_range = pd.date_range(start='2018-01-01', end='2018-06-08', freq='D')\n",
    "\n",
    "# Create DataFrame\n",
    "df_dates_train = pd.DataFrame({'date': date_range})\n",
    "\n",
    "# and for test\n",
    "\n",
    "# Create date range\n",
    "date_range = pd.date_range(start='2018-06-09', end='2018-06-29', freq='D')\n",
    "\n",
    "# Create DataFrame\n",
    "df_dates_test = pd.DataFrame({'date': date_range})"
   ]
  },
  {
   "cell_type": "code",
   "execution_count": 195,
   "id": "c3701829",
   "metadata": {},
   "outputs": [],
   "source": [
    "# Add a dummy key to both DataFrames\n",
    "df_dates_train[\"key\"] = 1\n",
    "new_df_train[\"key\"] = 1\n",
    "\n",
    "# Perform cross join\n",
    "new_df_train = pd.merge(df_dates_train, new_df_train, on=\"key\").drop(\"key\", axis=1)\n",
    "\n",
    "# Sort by date and then itemID\n",
    "new_df_train = new_df_train.sort_values(by=[\"date\", \"itemID\"]).reset_index(drop=True)\n",
    "\n",
    "# and for test\n",
    "df_dates_test[\"key\"] = 1\n",
    "new_df_test[\"key\"] = 1\n",
    "\n",
    "# Perform cross join\n",
    "new_df_test = pd.merge(df_dates_test, new_df_test, on=\"key\").drop(\"key\", axis=1)\n",
    "\n",
    "# Sort by date and then itemID\n",
    "new_df_test = new_df_test.sort_values(by=[\"date\", \"itemID\"]).reset_index(drop=True)"
   ]
  },
  {
   "cell_type": "code",
   "execution_count": 196,
   "id": "50c23aa5",
   "metadata": {},
   "outputs": [],
   "source": [
    "df_train_daily = new_df_train.merge(df_train_daily, how=\"left\", on=[\"date\", \"itemID\"])\n",
    "\n",
    "# and for test\n",
    "\n",
    "df_test_daily = new_df_test.merge(df_test_daily, how=\"left\", on=[\"date\", \"itemID\"])"
   ]
  },
  {
   "cell_type": "code",
   "execution_count": 197,
   "id": "fb56a758",
   "metadata": {},
   "outputs": [],
   "source": [
    "# for them qty_sold = 0, sales_value = 0, promotion = 0\n",
    "\n",
    "df_train_daily[[\"qty_sold\", \"sales_value\", \"promotion\"]] = df_train_daily[[\"qty_sold\", \"sales_value\", \"promotion\"]].fillna(0)\n",
    "\n",
    "# and for test\n",
    "\n",
    "df_test_daily[[\"qty_sold\", \"sales_value\", \"promotion\"]] = df_test_daily[[\"qty_sold\", \"sales_value\", \"promotion\"]].fillna(0)"
   ]
  },
  {
   "cell_type": "code",
   "execution_count": 198,
   "id": "971cb53d",
   "metadata": {},
   "outputs": [],
   "source": [
    "# maxItemPrice = maxItemPrice, minItemPrice = minItemPrice, Price = mean Price for that item, medianDiscPerc = medianDiscPerc\n",
    "\n",
    "# Fill missing maxItemPrice with the max per itemID\n",
    "df_train_daily[\"maxItemPrice\"] = df_train_daily.groupby(\"itemID\")[\"maxItemPrice\"].transform(lambda x: x.fillna(x.max()))\n",
    "\n",
    "# Fill missing minItemPrice with the max per itemID\n",
    "df_train_daily[\"minItemPrice\"] = df_train_daily.groupby(\"itemID\")[\"minItemPrice\"].transform(lambda x: x.fillna(x.max()))\n",
    "\n",
    "# Fill missing Price with the max per itemID\n",
    "df_train_daily[\"Price\"] = df_train_daily.groupby(\"itemID\")[\"Price\"].transform(lambda x: x.fillna(x.max()))\n",
    "\n",
    "# Fill missing PricePerEachToday with the mean per itemID\n",
    "df_train_daily[\"PricePerEachToday\"] = df_train_daily.groupby(\"itemID\")[\"PricePerEachToday\"].transform(\n",
    "    lambda x: x.fillna(x[df_train_daily.loc[x.index, \"qty_sold\"] != 0].mean())\n",
    ").round(2)\n",
    "\n",
    "# Fill missing PriceToday with the mean per itemID\n",
    "df_train_daily[\"PriceToday\"] = df_train_daily.groupby(\"itemID\")[\"PriceToday\"].transform(\n",
    "    lambda x: x.fillna(x[df_train_daily.loc[x.index, \"qty_sold\"] != 0].mean())\n",
    ").round(2)\n",
    "\n",
    "# Fill missing medianDiscPerc with the max per itemID\n",
    "df_train_daily[\"medianDiscPerc\"] = df_train_daily.groupby(\"itemID\")[\"medianDiscPerc\"].transform(lambda x: x.fillna(x.max()))"
   ]
  },
  {
   "cell_type": "code",
   "execution_count": 199,
   "id": "668f7c35",
   "metadata": {},
   "outputs": [
    {
     "data": {
      "application/vnd.microsoft.datawrangler.viewer.v0+json": {
       "columns": [
        {
         "name": "index",
         "rawType": "int64",
         "type": "integer"
        },
        {
         "name": "date",
         "rawType": "datetime64[ns]",
         "type": "datetime"
        },
        {
         "name": "itemID",
         "rawType": "int64",
         "type": "integer"
        },
        {
         "name": "qty_sold",
         "rawType": "float64",
         "type": "float"
        },
        {
         "name": "sales_value",
         "rawType": "float64",
         "type": "float"
        },
        {
         "name": "promotion",
         "rawType": "float64",
         "type": "float"
        },
        {
         "name": "maxItemPrice",
         "rawType": "float64",
         "type": "float"
        },
        {
         "name": "minItemPrice",
         "rawType": "float64",
         "type": "float"
        },
        {
         "name": "PriceToday",
         "rawType": "float64",
         "type": "float"
        },
        {
         "name": "PricePerEachToday",
         "rawType": "float64",
         "type": "float"
        },
        {
         "name": "Price",
         "rawType": "float64",
         "type": "float"
        },
        {
         "name": "medianDiscPerc",
         "rawType": "float64",
         "type": "float"
        }
       ],
       "ref": "d443cbed-c2bb-4188-9d1a-755655dd3c9c",
       "rows": [
        [
         "0",
         "2018-01-01 00:00:00",
         "1",
         "0.0",
         "0.0",
         "0.0",
         "3.11",
         "3.11",
         "3.11",
         "3.11",
         "3.11",
         null
        ],
        [
         "1",
         "2018-01-01 00:00:00",
         "2",
         "0.0",
         "0.0",
         "0.0",
         "9.15",
         "9.15",
         "9.15",
         "9.15",
         "9.15",
         null
        ],
        [
         "2",
         "2018-01-01 00:00:00",
         "3",
         "0.0",
         "0.0",
         "0.0",
         "14.04",
         "9.89",
         "13.35",
         "13.35",
         "13.35",
         "0.3"
        ],
        [
         "3",
         "2018-01-01 00:00:00",
         "4",
         "0.0",
         "0.0",
         "0.0",
         "13.01",
         "13.01",
         "13.01",
         "13.01",
         "13.01",
         null
        ],
        [
         "4",
         "2018-01-01 00:00:00",
         "5",
         "0.0",
         "0.0",
         "0.0",
         "7.84",
         "7.48",
         "7.62",
         "7.62",
         "7.62",
         "0.05"
        ],
        [
         "5",
         "2018-01-01 00:00:00",
         "6",
         "0.0",
         "0.0",
         "0.0",
         "17.25",
         "13.81",
         "17.09",
         "17.09",
         "17.09",
         "0.2"
        ],
        [
         "6",
         "2018-01-01 00:00:00",
         "7",
         "0.0",
         "0.0",
         "0.0",
         "34.39",
         "34.39",
         "34.39",
         "34.39",
         "34.39",
         null
        ],
        [
         "7",
         "2018-01-01 00:00:00",
         "8",
         "0.0",
         "0.0",
         "0.0",
         "5.33",
         "4.26",
         "5.06",
         "5.06",
         "5.06",
         "0.14"
        ],
        [
         "8",
         "2018-01-01 00:00:00",
         "9",
         "1.0",
         "199.84",
         "0.0",
         "199.84",
         "199.84",
         "199.84",
         "199.84",
         "199.84",
         null
        ],
        [
         "9",
         "2018-01-01 00:00:00",
         "10",
         "0.0",
         "0.0",
         "0.0",
         "25.69",
         "24.17",
         "24.36",
         "24.36",
         "24.36",
         "0.06"
        ],
        [
         "10",
         "2018-01-01 00:00:00",
         "11",
         "1.0",
         "2.13",
         "0.0",
         "2.13",
         "2.13",
         "2.13",
         "2.13",
         "2.13",
         null
        ],
        [
         "11",
         "2018-01-01 00:00:00",
         "12",
         "0.0",
         "0.0",
         "0.0",
         "2.11",
         "2.11",
         "2.11",
         "2.11",
         "2.11",
         null
        ],
        [
         "12",
         "2018-01-01 00:00:00",
         "13",
         "0.0",
         "0.0",
         "0.0",
         "11.6",
         "10.83",
         "11.0",
         "11.0",
         "11.0",
         "0.07"
        ],
        [
         "13",
         "2018-01-01 00:00:00",
         "14",
         "0.0",
         "0.0",
         "0.0",
         "29.67",
         "29.67",
         "29.67",
         "29.67",
         "29.67",
         null
        ],
        [
         "14",
         "2018-01-01 00:00:00",
         "15",
         "0.0",
         "0.0",
         "0.0",
         "722.48",
         "706.85",
         "715.1",
         "715.09",
         "715.1",
         "0.02"
        ],
        [
         "15",
         "2018-01-01 00:00:00",
         "16",
         "0.0",
         "0.0",
         "0.0",
         "159.61",
         "159.61",
         "159.61",
         "159.61",
         "159.61",
         null
        ],
        [
         "16",
         "2018-01-01 00:00:00",
         "17",
         "0.0",
         "0.0",
         "0.0",
         "26.38",
         "26.38",
         "26.38",
         "26.38",
         "26.38",
         null
        ],
        [
         "17",
         "2018-01-01 00:00:00",
         "18",
         "0.0",
         "0.0",
         "0.0",
         "7.21",
         "7.21",
         "7.21",
         "7.21",
         "7.21",
         null
        ],
        [
         "18",
         "2018-01-01 00:00:00",
         "19",
         "2.0",
         "155.28",
         "1.0",
         "79.68",
         "77.64",
         "77.64",
         "77.64",
         "79.04",
         "0.03"
        ],
        [
         "19",
         "2018-01-01 00:00:00",
         "20",
         "0.0",
         "0.0",
         "0.0",
         "605.04",
         "605.04",
         "605.04",
         "605.04",
         "605.04",
         null
        ],
        [
         "20",
         "2018-01-01 00:00:00",
         "21",
         "0.0",
         "0.0",
         "0.0",
         "5.44",
         "5.44",
         "5.44",
         "5.44",
         "5.44",
         null
        ],
        [
         "21",
         "2018-01-01 00:00:00",
         "22",
         "0.0",
         "0.0",
         "0.0",
         "37.38",
         "37.38",
         "37.38",
         "37.38",
         "37.38",
         null
        ],
        [
         "22",
         "2018-01-01 00:00:00",
         "23",
         "0.0",
         "0.0",
         "0.0",
         "31.58",
         "31.58",
         "31.58",
         "31.58",
         "31.58",
         null
        ],
        [
         "23",
         "2018-01-01 00:00:00",
         "24",
         "0.0",
         "0.0",
         "0.0",
         "1.81",
         "1.81",
         "1.81",
         "1.81",
         "1.81",
         null
        ],
        [
         "24",
         "2018-01-01 00:00:00",
         "25",
         "0.0",
         "0.0",
         "0.0",
         "10.5",
         "10.5",
         "10.5",
         "10.5",
         "10.5",
         null
        ],
        [
         "25",
         "2018-01-01 00:00:00",
         "26",
         "109.0",
         "1498.75",
         "1.0",
         "14.25",
         "13.75",
         "13.75",
         "13.75",
         "14.21",
         "0.04"
        ],
        [
         "26",
         "2018-01-01 00:00:00",
         "27",
         "0.0",
         "0.0",
         "0.0",
         "1.64",
         "1.32",
         "1.63",
         "1.63",
         "1.63",
         "0.12"
        ],
        [
         "27",
         "2018-01-01 00:00:00",
         "28",
         "0.0",
         "0.0",
         "0.0",
         "71.0",
         "67.75",
         "68.83",
         "68.83",
         "68.83",
         "0.05"
        ],
        [
         "28",
         "2018-01-01 00:00:00",
         "29",
         "0.0",
         "0.0",
         "0.0",
         "56.13",
         "56.13",
         "56.13",
         "56.13",
         "56.13",
         null
        ],
        [
         "29",
         "2018-01-01 00:00:00",
         "30",
         "0.0",
         "0.0",
         "0.0",
         "82.67",
         "82.67",
         "82.67",
         "82.67",
         "82.67",
         null
        ],
        [
         "30",
         "2018-01-01 00:00:00",
         "31",
         "0.0",
         "0.0",
         "0.0",
         "21.74",
         "17.65",
         "17.85",
         "17.85",
         "17.85",
         "0.19"
        ],
        [
         "31",
         "2018-01-01 00:00:00",
         "32",
         "0.0",
         "0.0",
         "0.0",
         "32.09",
         "32.09",
         "32.09",
         "32.09",
         "32.09",
         null
        ],
        [
         "32",
         "2018-01-01 00:00:00",
         "33",
         "0.0",
         "0.0",
         "0.0",
         "44.12",
         "44.12",
         "44.12",
         "44.12",
         "44.12",
         null
        ],
        [
         "33",
         "2018-01-01 00:00:00",
         "34",
         "0.0",
         "0.0",
         "0.0",
         "102.21",
         "80.28",
         "87.32",
         "87.32",
         "87.32",
         "0.19"
        ],
        [
         "34",
         "2018-01-01 00:00:00",
         "35",
         "446.0",
         "164185.98",
         "1.0",
         "393.27",
         "336.57",
         "368.13",
         "368.13",
         "354.35",
         "0.09"
        ],
        [
         "35",
         "2018-01-01 00:00:00",
         "36",
         "0.0",
         "0.0",
         "0.0",
         "1496.48",
         "1468.85",
         "1487.45",
         "1487.45",
         "1487.45",
         "0.01"
        ],
        [
         "36",
         "2018-01-01 00:00:00",
         "37",
         "0.0",
         "0.0",
         "0.0",
         "25.87",
         "18.61",
         "24.5",
         "24.5",
         "24.5",
         "0.18"
        ],
        [
         "37",
         "2018-01-01 00:00:00",
         "38",
         "0.0",
         "0.0",
         "0.0",
         "30.94",
         "30.94",
         "30.94",
         "30.94",
         "30.94",
         null
        ],
        [
         "38",
         "2018-01-01 00:00:00",
         "39",
         "0.0",
         "0.0",
         "0.0",
         "56.06",
         "56.06",
         "56.06",
         "56.06",
         "56.06",
         null
        ],
        [
         "39",
         "2018-01-01 00:00:00",
         "40",
         "0.0",
         "0.0",
         "0.0",
         "809.71",
         "804.57",
         "805.85",
         "805.85",
         "805.86",
         "0.0"
        ],
        [
         "40",
         "2018-01-01 00:00:00",
         "41",
         "0.0",
         "0.0",
         "0.0",
         "141.61",
         "133.27",
         "137.59",
         "137.59",
         "137.59",
         "0.02"
        ],
        [
         "41",
         "2018-01-01 00:00:00",
         "42",
         "0.0",
         "0.0",
         "0.0",
         "17.72",
         "17.72",
         "17.72",
         "17.72",
         "17.72",
         null
        ],
        [
         "42",
         "2018-01-01 00:00:00",
         "43",
         "0.0",
         "0.0",
         "0.0",
         "98.2",
         "98.2",
         "98.2",
         "98.2",
         "98.2",
         null
        ],
        [
         "43",
         "2018-01-01 00:00:00",
         "44",
         "0.0",
         "0.0",
         "0.0",
         "16.33",
         "16.33",
         "16.33",
         "16.33",
         "16.33",
         null
        ],
        [
         "44",
         "2018-01-01 00:00:00",
         "45",
         "0.0",
         "0.0",
         "0.0",
         "6.98",
         "6.98",
         "6.98",
         "6.98",
         "6.98",
         null
        ],
        [
         "45",
         "2018-01-01 00:00:00",
         "46",
         "0.0",
         "0.0",
         "0.0",
         "7.2",
         "7.2",
         "7.2",
         "7.2",
         "7.2",
         null
        ],
        [
         "46",
         "2018-01-01 00:00:00",
         "47",
         "0.0",
         "0.0",
         "0.0",
         "270.98",
         "262.92",
         "266.5",
         "266.5",
         "266.5",
         "0.02"
        ],
        [
         "47",
         "2018-01-01 00:00:00",
         "48",
         "0.0",
         "0.0",
         "0.0",
         "56.31",
         "56.31",
         "56.31",
         "56.31",
         "56.31",
         null
        ],
        [
         "48",
         "2018-01-01 00:00:00",
         "49",
         "0.0",
         "0.0",
         "0.0",
         "84.6",
         "84.6",
         "84.6",
         "84.6",
         "84.6",
         null
        ],
        [
         "49",
         "2018-01-01 00:00:00",
         "50",
         "0.0",
         "0.0",
         "0.0",
         "123.15",
         "123.15",
         "123.15",
         "123.15",
         "123.15",
         null
        ]
       ],
       "shape": {
        "columns": 11,
        "rows": 1397928
       }
      },
      "text/html": [
       "<div>\n",
       "<style scoped>\n",
       "    .dataframe tbody tr th:only-of-type {\n",
       "        vertical-align: middle;\n",
       "    }\n",
       "\n",
       "    .dataframe tbody tr th {\n",
       "        vertical-align: top;\n",
       "    }\n",
       "\n",
       "    .dataframe thead th {\n",
       "        text-align: right;\n",
       "    }\n",
       "</style>\n",
       "<table border=\"1\" class=\"dataframe\">\n",
       "  <thead>\n",
       "    <tr style=\"text-align: right;\">\n",
       "      <th></th>\n",
       "      <th>date</th>\n",
       "      <th>itemID</th>\n",
       "      <th>qty_sold</th>\n",
       "      <th>sales_value</th>\n",
       "      <th>promotion</th>\n",
       "      <th>maxItemPrice</th>\n",
       "      <th>minItemPrice</th>\n",
       "      <th>PriceToday</th>\n",
       "      <th>PricePerEachToday</th>\n",
       "      <th>Price</th>\n",
       "      <th>medianDiscPerc</th>\n",
       "    </tr>\n",
       "  </thead>\n",
       "  <tbody>\n",
       "    <tr>\n",
       "      <th>0</th>\n",
       "      <td>2018-01-01</td>\n",
       "      <td>1</td>\n",
       "      <td>0.0</td>\n",
       "      <td>0.0</td>\n",
       "      <td>0.0</td>\n",
       "      <td>3.11</td>\n",
       "      <td>3.11</td>\n",
       "      <td>3.11</td>\n",
       "      <td>3.11</td>\n",
       "      <td>3.11</td>\n",
       "      <td>NaN</td>\n",
       "    </tr>\n",
       "    <tr>\n",
       "      <th>1</th>\n",
       "      <td>2018-01-01</td>\n",
       "      <td>2</td>\n",
       "      <td>0.0</td>\n",
       "      <td>0.0</td>\n",
       "      <td>0.0</td>\n",
       "      <td>9.15</td>\n",
       "      <td>9.15</td>\n",
       "      <td>9.15</td>\n",
       "      <td>9.15</td>\n",
       "      <td>9.15</td>\n",
       "      <td>NaN</td>\n",
       "    </tr>\n",
       "    <tr>\n",
       "      <th>2</th>\n",
       "      <td>2018-01-01</td>\n",
       "      <td>3</td>\n",
       "      <td>0.0</td>\n",
       "      <td>0.0</td>\n",
       "      <td>0.0</td>\n",
       "      <td>14.04</td>\n",
       "      <td>9.89</td>\n",
       "      <td>13.35</td>\n",
       "      <td>13.35</td>\n",
       "      <td>13.35</td>\n",
       "      <td>0.30</td>\n",
       "    </tr>\n",
       "    <tr>\n",
       "      <th>3</th>\n",
       "      <td>2018-01-01</td>\n",
       "      <td>4</td>\n",
       "      <td>0.0</td>\n",
       "      <td>0.0</td>\n",
       "      <td>0.0</td>\n",
       "      <td>13.01</td>\n",
       "      <td>13.01</td>\n",
       "      <td>13.01</td>\n",
       "      <td>13.01</td>\n",
       "      <td>13.01</td>\n",
       "      <td>NaN</td>\n",
       "    </tr>\n",
       "    <tr>\n",
       "      <th>4</th>\n",
       "      <td>2018-01-01</td>\n",
       "      <td>5</td>\n",
       "      <td>0.0</td>\n",
       "      <td>0.0</td>\n",
       "      <td>0.0</td>\n",
       "      <td>7.84</td>\n",
       "      <td>7.48</td>\n",
       "      <td>7.62</td>\n",
       "      <td>7.62</td>\n",
       "      <td>7.62</td>\n",
       "      <td>0.05</td>\n",
       "    </tr>\n",
       "    <tr>\n",
       "      <th>...</th>\n",
       "      <td>...</td>\n",
       "      <td>...</td>\n",
       "      <td>...</td>\n",
       "      <td>...</td>\n",
       "      <td>...</td>\n",
       "      <td>...</td>\n",
       "      <td>...</td>\n",
       "      <td>...</td>\n",
       "      <td>...</td>\n",
       "      <td>...</td>\n",
       "      <td>...</td>\n",
       "    </tr>\n",
       "    <tr>\n",
       "      <th>1397923</th>\n",
       "      <td>2018-06-08</td>\n",
       "      <td>10449</td>\n",
       "      <td>0.0</td>\n",
       "      <td>0.0</td>\n",
       "      <td>0.0</td>\n",
       "      <td>164.75</td>\n",
       "      <td>164.75</td>\n",
       "      <td>164.75</td>\n",
       "      <td>164.75</td>\n",
       "      <td>164.75</td>\n",
       "      <td>NaN</td>\n",
       "    </tr>\n",
       "    <tr>\n",
       "      <th>1397924</th>\n",
       "      <td>2018-06-08</td>\n",
       "      <td>10459</td>\n",
       "      <td>0.0</td>\n",
       "      <td>0.0</td>\n",
       "      <td>0.0</td>\n",
       "      <td>14.71</td>\n",
       "      <td>14.71</td>\n",
       "      <td>14.71</td>\n",
       "      <td>14.71</td>\n",
       "      <td>14.71</td>\n",
       "      <td>NaN</td>\n",
       "    </tr>\n",
       "    <tr>\n",
       "      <th>1397925</th>\n",
       "      <td>2018-06-08</td>\n",
       "      <td>10460</td>\n",
       "      <td>0.0</td>\n",
       "      <td>0.0</td>\n",
       "      <td>0.0</td>\n",
       "      <td>325.67</td>\n",
       "      <td>325.67</td>\n",
       "      <td>325.67</td>\n",
       "      <td>325.67</td>\n",
       "      <td>325.67</td>\n",
       "      <td>NaN</td>\n",
       "    </tr>\n",
       "    <tr>\n",
       "      <th>1397926</th>\n",
       "      <td>2018-06-08</td>\n",
       "      <td>10462</td>\n",
       "      <td>0.0</td>\n",
       "      <td>0.0</td>\n",
       "      <td>0.0</td>\n",
       "      <td>304.30</td>\n",
       "      <td>304.30</td>\n",
       "      <td>304.30</td>\n",
       "      <td>304.30</td>\n",
       "      <td>304.30</td>\n",
       "      <td>NaN</td>\n",
       "    </tr>\n",
       "    <tr>\n",
       "      <th>1397927</th>\n",
       "      <td>2018-06-08</td>\n",
       "      <td>10463</td>\n",
       "      <td>0.0</td>\n",
       "      <td>0.0</td>\n",
       "      <td>0.0</td>\n",
       "      <td>282.16</td>\n",
       "      <td>282.16</td>\n",
       "      <td>282.16</td>\n",
       "      <td>282.16</td>\n",
       "      <td>282.16</td>\n",
       "      <td>NaN</td>\n",
       "    </tr>\n",
       "  </tbody>\n",
       "</table>\n",
       "<p>1397928 rows × 11 columns</p>\n",
       "</div>"
      ],
      "text/plain": [
       "              date  itemID  qty_sold  sales_value  promotion  maxItemPrice  \\\n",
       "0       2018-01-01       1       0.0          0.0        0.0          3.11   \n",
       "1       2018-01-01       2       0.0          0.0        0.0          9.15   \n",
       "2       2018-01-01       3       0.0          0.0        0.0         14.04   \n",
       "3       2018-01-01       4       0.0          0.0        0.0         13.01   \n",
       "4       2018-01-01       5       0.0          0.0        0.0          7.84   \n",
       "...            ...     ...       ...          ...        ...           ...   \n",
       "1397923 2018-06-08   10449       0.0          0.0        0.0        164.75   \n",
       "1397924 2018-06-08   10459       0.0          0.0        0.0         14.71   \n",
       "1397925 2018-06-08   10460       0.0          0.0        0.0        325.67   \n",
       "1397926 2018-06-08   10462       0.0          0.0        0.0        304.30   \n",
       "1397927 2018-06-08   10463       0.0          0.0        0.0        282.16   \n",
       "\n",
       "         minItemPrice  PriceToday  PricePerEachToday   Price  medianDiscPerc  \n",
       "0                3.11        3.11               3.11    3.11             NaN  \n",
       "1                9.15        9.15               9.15    9.15             NaN  \n",
       "2                9.89       13.35              13.35   13.35            0.30  \n",
       "3               13.01       13.01              13.01   13.01             NaN  \n",
       "4                7.48        7.62               7.62    7.62            0.05  \n",
       "...               ...         ...                ...     ...             ...  \n",
       "1397923        164.75      164.75             164.75  164.75             NaN  \n",
       "1397924         14.71       14.71              14.71   14.71             NaN  \n",
       "1397925        325.67      325.67             325.67  325.67             NaN  \n",
       "1397926        304.30      304.30             304.30  304.30             NaN  \n",
       "1397927        282.16      282.16             282.16  282.16             NaN  \n",
       "\n",
       "[1397928 rows x 11 columns]"
      ]
     },
     "execution_count": 199,
     "metadata": {},
     "output_type": "execute_result"
    }
   ],
   "source": [
    "df_train_daily"
   ]
  },
  {
   "cell_type": "code",
   "execution_count": 200,
   "id": "8f7784ca",
   "metadata": {},
   "outputs": [],
   "source": [
    "# and for test\n",
    "\n",
    "# maxItemPrice = maxItemPrice, minItemPrice = minItemPrice, Price = mean Price for that item, medianDiscPerc = medianDiscPerc\n",
    "\n",
    "# Fill missing maxItemPrice with the max per itemID\n",
    "df_test_daily[\"maxItemPrice\"] = df_test_daily.groupby(\"itemID\")[\"maxItemPrice\"].transform(lambda x: x.fillna(x.max()))\n",
    "\n",
    "# Fill missing minItemPrice with the max per itemID\n",
    "df_test_daily[\"minItemPrice\"] = df_test_daily.groupby(\"itemID\")[\"minItemPrice\"].transform(lambda x: x.fillna(x.max()))\n",
    "\n",
    "# Fill missing Price with the max per itemID\n",
    "df_test_daily[\"Price\"] = df_test_daily.groupby(\"itemID\")[\"Price\"].transform(lambda x: x.fillna(x.max()))\n",
    "\n",
    "# Fill missing PricePerEachToday with the mean per itemID\n",
    "df_test_daily[\"PricePerEachToday\"] = df_test_daily.groupby(\"itemID\")[\"PricePerEachToday\"].transform(\n",
    "    lambda x: x.fillna(x[df_test_daily.loc[x.index, \"qty_sold\"] != 0].mean())\n",
    ")\n",
    "df_test_daily[\"PricePerEachToday\"] = df_test_daily[\"PricePerEachToday\"].round(2)\n",
    "\n",
    "# Fill missing PriceToday with the mean per itemID\n",
    "df_test_daily[\"PriceToday\"] = df_test_daily.groupby(\"itemID\")[\"PriceToday\"].transform(\n",
    "    lambda x: x.fillna(x[df_test_daily.loc[x.index, \"qty_sold\"] != 0].mean())\n",
    ")\n",
    "df_test_daily[\"PriceToday\"] = df_test_daily[\"PriceToday\"].round(2)\n",
    "\n",
    "# Fill missing medianDiscPerc with the max per itemID\n",
    "df_test_daily[\"medianDiscPerc\"] = df_test_daily.groupby(\"itemID\")[\"medianDiscPerc\"].transform(lambda x: x.fillna(x.max()))"
   ]
  },
  {
   "cell_type": "markdown",
   "id": "1d895f1b",
   "metadata": {},
   "source": [
    "#### Add masterdata"
   ]
  },
  {
   "cell_type": "code",
   "execution_count": 201,
   "id": "14b90805",
   "metadata": {},
   "outputs": [],
   "source": [
    "# include masterdata\n",
    "\n",
    "df_train_daily = df_train_daily.merge(df_items, how=\"left\", on=\"itemID\")\n",
    "\n",
    "# and in test\n",
    "\n",
    "df_test_daily = df_test_daily.merge(df_items, how=\"left\", on=\"itemID\")"
   ]
  },
  {
   "cell_type": "markdown",
   "id": "d660dc7a",
   "metadata": {},
   "source": [
    "#### Add date features"
   ]
  },
  {
   "cell_type": "code",
   "execution_count": 202,
   "id": "eca058ef",
   "metadata": {},
   "outputs": [],
   "source": [
    "# Add date features\n",
    "df_train_daily[\"weekDay\"] = df_train_daily[\"date\"].dt.weekday + 1\n",
    "df_train_daily[\"day\"] = df_train_daily[\"date\"].dt.day\n",
    "\n",
    "# and in test\n",
    "\n",
    "df_test_daily[\"weekDay\"] = df_test_daily[\"date\"].dt.weekday + 1\n",
    "df_test_daily[\"day\"] = df_test_daily[\"date\"].dt.day"
   ]
  },
  {
   "cell_type": "code",
   "execution_count": 203,
   "id": "15b54baf",
   "metadata": {},
   "outputs": [],
   "source": [
    "def get_week_of_month(date):\n",
    "    # First day of the month\n",
    "    first_day = date.replace(day=1)\n",
    "    \n",
    "    # Find the day of the week the first day lands on (Monday=0, Sunday=6)\n",
    "    first_day_weekday = first_day.weekday()\n",
    "    \n",
    "    # Calendar row index = (day of month + offset from Monday) // 7 + 1\n",
    "    return ((date.day + first_day_weekday - 1) // 7) + 1\n",
    "\n",
    "# Apply the function to create the column\n",
    "df_train_daily['weekOfMonth'] = df_train_daily['date'].apply(get_week_of_month)\n",
    "\n",
    "# and in test\n",
    "df_test_daily['weekOfMonth'] = df_test_daily['date'].apply(get_week_of_month)"
   ]
  },
  {
   "cell_type": "markdown",
   "id": "f37d5416",
   "metadata": {},
   "source": [
    "### FFT"
   ]
  },
  {
   "cell_type": "code",
   "execution_count": 204,
   "id": "4445ffd4",
   "metadata": {},
   "outputs": [],
   "source": [
    "def get_harmonics(data, num_harmonics=10, return_wave=None):\n",
    "    all_coefs = np.fft.fft(data)\n",
    "    coeffs = []\n",
    "    nh = return_wave + 1 if return_wave is not None else num_harmonics\n",
    "    for i in range(1, nh + 1):\n",
    "        coeffs.append(np.zeros(len(all_coefs), dtype=complex))\n",
    "        coeffs[-1][i] = all_coefs[i]\n",
    "        coeffs[-1][-i] = all_coefs[-i]\n",
    "\n",
    "    if return_wave is not None:\n",
    "        rc = np.zeros(len(all_coefs), dtype=complex) + coeffs[return_wave]\n",
    "        rc = np.fft.ifft(rc).real\n",
    "        return rc\n",
    "\n",
    "    reconstructed_coeffs = np.zeros(len(all_coefs), dtype=complex)\n",
    "    for i in range(num_harmonics):\n",
    "        reconstructed_coeffs += coeffs[i]\n",
    "    reconstructed_signal = np.fft.ifft(reconstructed_coeffs).real\n",
    "    reconstructed_signal += data.mean()\n",
    "    return reconstructed_signal"
   ]
  },
  {
   "cell_type": "code",
   "execution_count": 205,
   "id": "3d40d71b",
   "metadata": {},
   "outputs": [],
   "source": [
    "for i in range(5):\n",
    "    df_train_daily[f'harmonic_{i}'] = df_train_daily.groupby(by=\"itemID\")[\"qty_sold\"].transform(lambda c: get_harmonics(c, return_wave=i))\n",
    "\n",
    "# and in test\n",
    "\n",
    "for i in range(5):\n",
    "    df_test_daily[f'harmonic_{i}'] = df_test_daily.groupby(by=\"itemID\")[\"qty_sold\"].transform(lambda c: get_harmonics(c, return_wave=i))"
   ]
  },
  {
   "cell_type": "code",
   "execution_count": 206,
   "id": "3f01728c",
   "metadata": {},
   "outputs": [
    {
     "data": {
      "text/plain": [
       "Index(['date', 'itemID', 'qty_sold', 'sales_value', 'promotion',\n",
       "       'maxItemPrice', 'minItemPrice', 'PriceToday', 'PricePerEachToday',\n",
       "       'Price', 'medianDiscPerc', 'brand', 'manufacturer', 'customerRating',\n",
       "       'category1', 'category2', 'category3', 'recommendedRetailPrice',\n",
       "       'weekDay', 'day', 'weekOfMonth', 'harmonic_0', 'harmonic_1',\n",
       "       'harmonic_2', 'harmonic_3', 'harmonic_4'],\n",
       "      dtype='object')"
      ]
     },
     "execution_count": 206,
     "metadata": {},
     "output_type": "execute_result"
    }
   ],
   "source": [
    "df_train_daily.columns"
   ]
  },
  {
   "cell_type": "markdown",
   "id": "32a20a30",
   "metadata": {},
   "source": [
    "### Cumulative variables"
   ]
  },
  {
   "cell_type": "code",
   "execution_count": 207,
   "id": "18ec1d59",
   "metadata": {},
   "outputs": [],
   "source": [
    "df_train_daily['cum_sum_order'] = df_train_daily.groupby('itemID')['qty_sold'].cumsum()\n",
    "\n",
    "# and in test\n",
    "\n",
    "df_test_daily['cum_sum_order'] = df_test_daily.groupby('itemID')['qty_sold'].cumsum()"
   ]
  },
  {
   "cell_type": "markdown",
   "id": "f801a5f4",
   "metadata": {},
   "source": [
    "### Rolling statistics"
   ]
  },
  {
   "cell_type": "code",
   "execution_count": 208,
   "id": "44e88f6f",
   "metadata": {},
   "outputs": [],
   "source": [
    "# once again, making sure data frame is sorted by date and item ID so the rolling stats are OK\n",
    "\n",
    "df_train_daily.sort_values(['itemID', 'date'], inplace=True)\n",
    "\n",
    "# and in test\n",
    "\n",
    "df_test_daily.sort_values(['itemID', 'date'], inplace=True)"
   ]
  },
  {
   "cell_type": "code",
   "execution_count": 209,
   "id": "8ffdedab",
   "metadata": {},
   "outputs": [],
   "source": [
    "df_train_daily['rolling_qty_sold_mean'] = (\n",
    "    df_train_daily\n",
    "    .groupby('itemID')['qty_sold']\n",
    "    .transform(lambda x: x.shift(1).rolling(window=7).mean())\n",
    ")\n",
    "\n",
    "df_train_daily['rolling_qty_sold_std'] = (\n",
    "    df_train_daily\n",
    "    .groupby('itemID')['qty_sold']\n",
    "    .transform(lambda x: x.shift(1).rolling(window=7).std())\n",
    ")\n",
    "\n",
    "df_train_daily['rolling_qty_sold_median'] = (df_train_daily\n",
    "    .groupby('itemID')['qty_sold']\n",
    "    .transform(lambda x: x.shift(1).rolling(window=7).median())\n",
    ")\n",
    "\n",
    "#def median_of_uniques(x):\n",
    "#    return np.median(np.unique(x))\n",
    "\n",
    "#df_train_daily = df_train_daily.sort_values(['itemID', 'date'])\n",
    "\n",
    "#df_train_daily['rolling_qty_sold_median_distincts'] = (\n",
    "#    df_train_daily\n",
    "#    .groupby('itemID')['qty_sold']\n",
    "#    .transform(lambda x: x.shift(1).rolling(window=7).apply(median_of_uniques, raw=True))\n",
    "#)\n"
   ]
  },
  {
   "cell_type": "code",
   "execution_count": 210,
   "id": "a0d19b11",
   "metadata": {},
   "outputs": [],
   "source": [
    "# and in test\n",
    "\n",
    "df_test_daily['rolling_qty_sold_mean'] = (\n",
    "    df_test_daily\n",
    "    .groupby('itemID')['qty_sold']\n",
    "    .transform(lambda x: x.shift(1).rolling(window=7).mean())\n",
    ")\n",
    "\n",
    "df_test_daily['rolling_qty_sold_std'] = (\n",
    "    df_test_daily\n",
    "    .groupby('itemID')['qty_sold']\n",
    "    .transform(lambda x: x.shift(1).rolling(window=7).std())\n",
    ")\n",
    "\n",
    "df_test_daily['rolling_qty_sold_median'] = (df_test_daily\n",
    "    .groupby('itemID')['qty_sold']\n",
    "    .transform(lambda x: x.shift(1).rolling(window=7).median())\n",
    ")"
   ]
  },
  {
   "cell_type": "markdown",
   "id": "d9a8e72c",
   "metadata": {},
   "source": [
    "### Add lagged variables"
   ]
  },
  {
   "cell_type": "markdown",
   "id": "14ed6b9a",
   "metadata": {},
   "source": [
    "#### Lagged qty_sold"
   ]
  },
  {
   "cell_type": "code",
   "execution_count": 211,
   "id": "d78d1b19",
   "metadata": {},
   "outputs": [],
   "source": [
    "# sort by item and date before shift\n",
    "df_train_daily = df_train_daily.sort_values(by=[\"itemID\", \"date\"])\n",
    "\n",
    "# and in test\n",
    "\n",
    "df_test_daily = df_test_daily.sort_values(by=[\"itemID\", \"date\"])"
   ]
  },
  {
   "cell_type": "code",
   "execution_count": 212,
   "id": "e717cade",
   "metadata": {},
   "outputs": [],
   "source": [
    "# looking at average daily orders and median daily orders of the items\n",
    "# to help decide how many lags are appropriate\n",
    "\n",
    "# define a function to compute the median of unique values\n",
    "def median_of_unique(x):\n",
    "    return np.median(np.unique(x))\n",
    "\n",
    "# compute average daily orders and median of unique daily orders\n",
    "item_daily_stats = (\n",
    "    df_train_daily.groupby('itemID')[\"qty_sold\"]\n",
    "    .agg(\n",
    "        avg_daily_orders='mean',\n",
    "        median_daily_orders_unique=lambda x: median_of_unique(x)\n",
    "    )\n",
    "    .reset_index()\n",
    ")\n",
    "\n",
    "item_daily_stats[\"avg_daily_orders\"] = item_daily_stats[\"avg_daily_orders\"].round(2)\n",
    "item_daily_stats[\"median_daily_orders_unique\"] = item_daily_stats[\"median_daily_orders_unique\"].round(2)"
   ]
  },
  {
   "cell_type": "code",
   "execution_count": 213,
   "id": "6a6754ef",
   "metadata": {},
   "outputs": [],
   "source": [
    "# I tested a couple of options\n",
    "# settled on 1 lag only to be able to drop the rows with missing values  resutlting from the lag\n",
    "# without losing much data\n",
    "# anyways, we would expect that the sale from the day directly before will be most significat"
   ]
  },
  {
   "cell_type": "code",
   "execution_count": 214,
   "id": "61088e00",
   "metadata": {},
   "outputs": [],
   "source": [
    "# Create lagged variables for qty_sold (currently, just 1)\n",
    "\n",
    "lags = [1, 2, 3, 7]\n",
    "for lag in lags:\n",
    "    df_train_daily[f\"qty_sold_lag{lag}\"] = (\n",
    "        df_train_daily.groupby(\"itemID\")[\"qty_sold\"].shift(lag)\n",
    "    )\n",
    "\n",
    "# and in test\n",
    "\n",
    "lags = [1, 2, 3, 7]\n",
    "for lag in lags:\n",
    "    df_test_daily[f\"qty_sold_lag{lag}\"] = (\n",
    "        df_test_daily.groupby(\"itemID\")[\"qty_sold\"].shift(lag)\n",
    "    )"
   ]
  },
  {
   "cell_type": "code",
   "execution_count": 215,
   "id": "e2d3c0a7",
   "metadata": {},
   "outputs": [],
   "source": [
    "# Reorder lag columns right after qty_sold\n",
    "# Get all column names\n",
    "cols = list(df_train_daily.columns)\n",
    "\n",
    "# Remove lag columns from current position\n",
    "lag_cols = [f\"qty_sold_lag{lag}\" for lag in lags]\n",
    "for col in lag_cols:\n",
    "    cols.remove(col)\n",
    "\n",
    "# Find index of qty_sold\n",
    "qty_idx = cols.index(\"qty_sold\")\n",
    "\n",
    "# Insert lag columns in order after qty_sold\n",
    "for i, col in enumerate(lag_cols):\n",
    "    cols.insert(qty_idx + 1 + i, col)\n",
    "\n",
    "# Reorder DataFrame\n",
    "df_train_daily = df_train_daily[cols]"
   ]
  },
  {
   "cell_type": "code",
   "execution_count": 216,
   "id": "07ff3dc1",
   "metadata": {},
   "outputs": [],
   "source": [
    "# and in test\n",
    "\n",
    "# Reorder lag columns right after qty_sold\n",
    "# Get all column names\n",
    "cols = list(df_test_daily.columns)\n",
    "\n",
    "# Remove lag columns from current position\n",
    "lag_cols = [f\"qty_sold_lag{lag}\" for lag in lags]\n",
    "for col in lag_cols:\n",
    "    cols.remove(col)\n",
    "\n",
    "# Find index of qty_sold\n",
    "qty_idx = cols.index(\"qty_sold\")\n",
    "\n",
    "# Insert lag columns in order after qty_sold\n",
    "for i, col in enumerate(lag_cols):\n",
    "    cols.insert(qty_idx + 1 + i, col)\n",
    "\n",
    "# Reorder DataFrame\n",
    "df_test_daily = df_test_daily[cols]"
   ]
  },
  {
   "cell_type": "code",
   "execution_count": 217,
   "id": "db30e36f",
   "metadata": {},
   "outputs": [
    {
     "data": {
      "text/plain": [
       "1336384"
      ]
     },
     "execution_count": 217,
     "metadata": {},
     "output_type": "execute_result"
    }
   ],
   "source": [
    "# how many values will remain if rows containing NA are dropped\n",
    "\n",
    "len(df_train_daily.dropna(subset=[\"qty_sold_lag1\", \"qty_sold_lag2\", \"qty_sold_lag3\", \"qty_sold_lag7\"]))"
   ]
  },
  {
   "cell_type": "markdown",
   "id": "540e9452",
   "metadata": {},
   "source": [
    "#### Lagged PricePerEachToday"
   ]
  },
  {
   "cell_type": "code",
   "execution_count": 218,
   "id": "4275061a",
   "metadata": {},
   "outputs": [],
   "source": [
    "# sort by item and date before shift\n",
    "df_train_daily = df_train_daily.sort_values(by=[\"itemID\", \"date\"])\n",
    "\n",
    "# and in test\n",
    "\n",
    "df_test_daily = df_test_daily.sort_values(by=[\"itemID\", \"date\"])"
   ]
  },
  {
   "cell_type": "code",
   "execution_count": 219,
   "id": "f3c74903",
   "metadata": {},
   "outputs": [],
   "source": [
    "# Create lagged variables for PricePerEachToday\n",
    "\n",
    "lags = [1, 2, 3, 7]\n",
    "for lag in lags:\n",
    "    df_train_daily[f\"PricePerEach_lag{lag}\"] = (\n",
    "        df_train_daily.groupby(\"itemID\")[\"PricePerEachToday\"].shift(lag)\n",
    "    )\n",
    "\n",
    "# and in test\n",
    "\n",
    "lags = [1, 2, 3, 7]\n",
    "for lag in lags:\n",
    "    df_test_daily[f\"PricePerEach_lag{lag}\"] = (\n",
    "        df_test_daily.groupby(\"itemID\")[\"PricePerEachToday\"].shift(lag)\n",
    "    )"
   ]
  },
  {
   "cell_type": "code",
   "execution_count": 220,
   "id": "3b0f28f1",
   "metadata": {},
   "outputs": [],
   "source": [
    "# remove unlagged column PricePerEachToday\n",
    "\n",
    "df_train_daily = df_train_daily.drop(columns=[\"PricePerEachToday\"])\n",
    "\n",
    "# and in test\n",
    "\n",
    "df_test_daily = df_test_daily.drop(columns=[\"PricePerEachToday\"])"
   ]
  },
  {
   "cell_type": "markdown",
   "id": "e2083185",
   "metadata": {},
   "source": [
    "#### Lagged sales_value"
   ]
  },
  {
   "cell_type": "code",
   "execution_count": 221,
   "id": "24a823e4",
   "metadata": {},
   "outputs": [],
   "source": [
    "# sort by item and date before shift\n",
    "df_train_daily = df_train_daily.sort_values(by=[\"itemID\", \"date\"])\n",
    "\n",
    "# and in test\n",
    "\n",
    "df_test_daily = df_test_daily.sort_values(by=[\"itemID\", \"date\"])"
   ]
  },
  {
   "cell_type": "code",
   "execution_count": 222,
   "id": "f5e37147",
   "metadata": {},
   "outputs": [],
   "source": [
    "# Create lagged variables for PricePerEachToday\n",
    "\n",
    "lags = [1, 2, 3, 7]\n",
    "for lag in lags:\n",
    "    df_train_daily[f\"sales_value_lag{lag}\"] = (\n",
    "        df_train_daily.groupby(\"itemID\")[\"sales_value\"].shift(lag)\n",
    "    )\n",
    "\n",
    "# and in test\n",
    "\n",
    "lags = [1, 2, 3, 7]\n",
    "for lag in lags:\n",
    "    df_test_daily[f\"sales_value_lag{lag}\"] = (\n",
    "        df_test_daily.groupby(\"itemID\")[\"sales_value\"].shift(lag)\n",
    "    )"
   ]
  },
  {
   "cell_type": "code",
   "execution_count": 223,
   "id": "adf26eb2",
   "metadata": {},
   "outputs": [],
   "source": [
    "# remove unlagged column PricePerEachToday\n",
    "\n",
    "df_train_daily = df_train_daily.drop(columns=[\"sales_value\"])\n",
    "\n",
    "# and in test\n",
    "\n",
    "df_test_daily = df_test_daily.drop(columns=[\"sales_value\"])"
   ]
  },
  {
   "cell_type": "code",
   "execution_count": 224,
   "id": "5a09901f",
   "metadata": {},
   "outputs": [
    {
     "data": {
      "text/plain": [
       "1336384"
      ]
     },
     "execution_count": 224,
     "metadata": {},
     "output_type": "execute_result"
    }
   ],
   "source": [
    "# how many values will remain if rows containing NA are dropped\n",
    "\n",
    "len(df_train_daily.dropna(subset=[\"qty_sold_lag1\", \"qty_sold_lag2\", \"qty_sold_lag3\", \"qty_sold_lag7\"]))"
   ]
  },
  {
   "cell_type": "code",
   "execution_count": 225,
   "id": "d8cf68ee",
   "metadata": {},
   "outputs": [
    {
     "data": {
      "text/plain": [
       "95.6"
      ]
     },
     "execution_count": 225,
     "metadata": {},
     "output_type": "execute_result"
    }
   ],
   "source": [
    "# what % will remain if rows containing NA are dropped\n",
    "\n",
    "round((len(df_train_daily.dropna(subset=[\"qty_sold_lag1\", \"qty_sold_lag2\", \"qty_sold_lag3\", \"qty_sold_lag7\"]))/len(df_train_daily))*100, 2)"
   ]
  },
  {
   "cell_type": "code",
   "execution_count": 226,
   "id": "75faa82e",
   "metadata": {},
   "outputs": [],
   "source": [
    "# dropping rows containing NA\n",
    "\n",
    "df_train_daily.dropna(subset=[\"qty_sold_lag1\", \"qty_sold_lag2\", \"qty_sold_lag3\", \"qty_sold_lag7\"], inplace=True)\n",
    "\n",
    "# and in test\n",
    "\n",
    "df_test_daily.dropna(subset=[\"qty_sold_lag1\", \"qty_sold_lag2\", \"qty_sold_lag3\", \"qty_sold_lag7\"], inplace=True)"
   ]
  },
  {
   "cell_type": "markdown",
   "id": "e989546f",
   "metadata": {},
   "source": [
    "### Add 2 noise columns for significance testing"
   ]
  },
  {
   "cell_type": "code",
   "execution_count": 227,
   "id": "e9140fa8",
   "metadata": {},
   "outputs": [],
   "source": [
    "# think about whether we want to put some borders"
   ]
  },
  {
   "cell_type": "code",
   "execution_count": 228,
   "id": "473436ea",
   "metadata": {},
   "outputs": [],
   "source": [
    "np.random.seed(22)  # for reproducibility\n",
    "\n",
    "df_train_daily[\"random_noise1\"] = np.random.normal(0, 1, len(df_train_daily))\n",
    "\n",
    "# and in test\n",
    "\n",
    "np.random.seed(23)  # for reproducibility\n",
    "\n",
    "df_test_daily[\"random_noise1\"] = np.random.normal(0, 1, len(df_test_daily))"
   ]
  },
  {
   "cell_type": "code",
   "execution_count": 229,
   "id": "7db45037",
   "metadata": {},
   "outputs": [],
   "source": [
    "np.random.seed(66)  # for reproducibility\n",
    "\n",
    "df_train_daily[\"random_noise2\"] = np.random.normal(0, 1, len(df_train_daily))\n",
    "\n",
    "# and in test\n",
    "\n",
    "np.random.seed(67)  # for reproducibility\n",
    "\n",
    "df_test_daily[\"random_noise2\"] = np.random.normal(0, 1, len(df_test_daily))"
   ]
  },
  {
   "cell_type": "code",
   "execution_count": 230,
   "id": "0f7b577f",
   "metadata": {},
   "outputs": [],
   "source": [
    "# some more rounding\n",
    "\n",
    "df_train_daily[\"random_noise1\"] = df_train_daily[\"random_noise1\"].round(2)\n",
    "df_train_daily[\"random_noise2\"] = df_train_daily[\"random_noise2\"].round(2)\n",
    "\n",
    "# and in test\n",
    "\n",
    "df_test_daily[\"random_noise1\"] = df_test_daily[\"random_noise1\"].round(2)\n",
    "df_test_daily[\"random_noise2\"] = df_test_daily[\"random_noise2\"].round(2)"
   ]
  },
  {
   "cell_type": "markdown",
   "id": "b91990bc",
   "metadata": {},
   "source": [
    "## Exporting results"
   ]
  },
  {
   "cell_type": "code",
   "execution_count": null,
   "id": "887ce679",
   "metadata": {},
   "outputs": [],
   "source": [
    "df_train_daily.to_csv(\"train.csv\", index=False)\n",
    "df_test_daily.to_csv(\"test.csv\", index=False)"
   ]
  },
  {
   "cell_type": "code",
   "execution_count": null,
   "id": "b0c91fbf",
   "metadata": {},
   "outputs": [],
   "source": [
    "df_train_daily.columns"
   ]
  },
  {
   "cell_type": "code",
   "execution_count": null,
   "id": "af21eaa3",
   "metadata": {},
   "outputs": [],
   "source": []
  }
 ],
 "metadata": {
  "kernelspec": {
   "display_name": "base",
   "language": "python",
   "name": "python3"
  },
  "language_info": {
   "codemirror_mode": {
    "name": "ipython",
    "version": 3
   },
   "file_extension": ".py",
   "mimetype": "text/x-python",
   "name": "python",
   "nbconvert_exporter": "python",
   "pygments_lexer": "ipython3",
   "version": "3.12.7"
  }
 },
 "nbformat": 4,
 "nbformat_minor": 5
}
