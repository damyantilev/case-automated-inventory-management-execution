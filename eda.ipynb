{
 "cells": [
  {
   "cell_type": "code",
   "execution_count": null,
   "id": "eb8ee479-2cd4-49df-b7de-4d7715c07cd1",
   "metadata": {},
   "outputs": [],
   "source": [
    "# For basic inline static plots (most common)\n",
    "%matplotlib inline\n",
    "\n",
    "# For interactive matplotlib plots with zoom/pan capabilities\n",
    "%matplotlib widget"
   ]
  },
  {
   "cell_type": "markdown",
   "id": "a32f52c9-e750-4179-9af7-ca2fc1041346",
   "metadata": {},
   "source": [
    "# Exploratory data analysis"
   ]
  },
  {
   "cell_type": "code",
   "execution_count": null,
   "id": "986bfbfb-5008-4d0e-84c8-7d5679c171fe",
   "metadata": {},
   "outputs": [],
   "source": [
    "import pandas as pd\n",
    "import numpy as np\n",
    "import plotly.graph_objects as go\n",
    "import plotly.express as px\n",
    "from plotly.subplots import make_subplots\n",
    "from datetime import datetime"
   ]
  },
  {
   "cell_type": "code",
   "execution_count": null,
   "id": "a0392758-b5db-48b2-bee4-5acaa3eff21d",
   "metadata": {},
   "outputs": [],
   "source": [
    "orders = pd.read_csv(\"orders.csv/orders.csv\", delimiter=\"|\")\n",
    "infos = pd.read_csv(\"infos.csv\", delimiter=\"|\")\n",
    "items = pd.read_csv(\"items.csv\", delimiter=\"|\")"
   ]
  },
  {
   "cell_type": "code",
   "execution_count": null,
   "id": "2dab6d7b-469d-4563-8f23-19983c4045d7",
   "metadata": {},
   "outputs": [],
   "source": [
    "orders.head(10)"
   ]
  },
  {
   "cell_type": "code",
   "execution_count": null,
   "id": "3c59c78c-7812-442b-a7d5-b45c04beb8de",
   "metadata": {},
   "outputs": [],
   "source": [
    "orders.describe()"
   ]
  },
  {
   "cell_type": "code",
   "execution_count": null,
   "id": "8ffa6302-7ef2-453a-96e4-deab483e080f",
   "metadata": {},
   "outputs": [],
   "source": [
    "orders = orders[orders[\"salesPrice\"] > 0]"
   ]
  },
  {
   "cell_type": "code",
   "execution_count": null,
   "id": "ff9a88ce-ba20-401e-951d-19b2839e13a8",
   "metadata": {},
   "outputs": [],
   "source": [
    "orders.info(verbose=True)"
   ]
  },
  {
   "cell_type": "code",
   "execution_count": null,
   "id": "fe9e116e-8624-4032-a5e6-641f6c326fdb",
   "metadata": {},
   "outputs": [],
   "source": [
    "infos.head()"
   ]
  },
  {
   "cell_type": "code",
   "execution_count": null,
   "id": "80820e43-8429-48b6-a938-32bc8ccc2afc",
   "metadata": {},
   "outputs": [],
   "source": [
    "infos.describe(include=\"all\")"
   ]
  },
  {
   "cell_type": "code",
   "execution_count": null,
   "id": "6142b890-4057-4edf-b9f2-631013eebb6c",
   "metadata": {},
   "outputs": [],
   "source": [
    "infos.info(verbose=True)"
   ]
  },
  {
   "cell_type": "code",
   "execution_count": null,
   "id": "5e1e8646-1907-4f46-ae25-b01977f8d45b",
   "metadata": {},
   "outputs": [],
   "source": [
    "items.head(10)"
   ]
  },
  {
   "cell_type": "code",
   "execution_count": null,
   "id": "a47ff91e-d899-4ebb-bdcc-d82efabbfdae",
   "metadata": {},
   "outputs": [],
   "source": [
    "items.describe(include=\"all\")"
   ]
  },
  {
   "cell_type": "code",
   "execution_count": null,
   "id": "20988cf2-c4c4-4ae8-958d-ca1507d93754",
   "metadata": {},
   "outputs": [],
   "source": [
    "items.info(verbose=True)"
   ]
  },
  {
   "cell_type": "markdown",
   "id": "313d973d-8a95-4309-a042-198c6d836db1",
   "metadata": {},
   "source": [
    "# Feature engineeing"
   ]
  },
  {
   "cell_type": "markdown",
   "id": "404ead98-ca71-4461-b31f-a9f6aa8d7668",
   "metadata": {},
   "source": [
    "## Promotion"
   ]
  },
  {
   "cell_type": "code",
   "execution_count": null,
   "id": "6cb503db-04ef-4ec3-b09b-227ad30a342e",
   "metadata": {},
   "outputs": [],
   "source": [
    "# Whole period max\n",
    "orders['in_promotion'] = orders['salesPrice'] < orders.groupby('itemID', observed=False)['salesPrice'].transform('max')\n",
    "\n",
    "# Historical max\n",
    "#orders['in_promotion'] = orders['salesPrice'] < orders.groupby('itemID', observed=False)['salesPrice'].transform('cummax')\n",
    "\n",
    "# Compared to recommended price\n",
    "#orders = orders.merge(items[['itemID', 'recommendedRetailPrice']], on='itemID', how='left')\n",
    "#orders['in_promotion'] = orders['salesPrice'] < orders['recommendedRetailPrice']"
   ]
  },
  {
   "cell_type": "code",
   "execution_count": null,
   "id": "f7120e7f-7076-40dc-9ada-3e7c15215d8c",
   "metadata": {},
   "outputs": [],
   "source": [
    "orders[\"time\"] = pd.to_datetime(orders[\"time\"])"
   ]
  },
  {
   "cell_type": "code",
   "execution_count": null,
   "id": "2593a434-101f-426d-afce-daca37ee9271",
   "metadata": {},
   "outputs": [],
   "source": [
    "# Revenue per promotion category per unit of transaction number\n",
    "orders.groupby(\"in_promotion\")[[\"order\", \"salesPrice\"]].apply(lambda x: (x[\"order\"]*x[\"salesPrice\"]).sum()) / orders.groupby(\"in_promotion\")[\"order\"].size()"
   ]
  },
  {
   "cell_type": "code",
   "execution_count": null,
   "id": "50058272-37d8-4ab0-b4da-4a3f6f97925f",
   "metadata": {},
   "outputs": [],
   "source": [
    " # Total order quantity per promotion category\n",
    "orders.groupby(\"in_promotion\")[\"order\"].sum() / orders.groupby(\"in_promotion\")[\"order\"].size()"
   ]
  },
  {
   "cell_type": "markdown",
   "id": "6db7c9c2-a7e0-4e1f-9c6c-8faba29626b9",
   "metadata": {},
   "source": [
    "## Aggregation"
   ]
  },
  {
   "cell_type": "code",
   "execution_count": null,
   "id": "3d1fe469-13bb-41f7-8885-9d63d4483656",
   "metadata": {},
   "outputs": [],
   "source": [
    "# Store only date\n",
    "agg_result = orders.copy()\n",
    "agg_result.rename(columns={\"time\": \"date\"}, inplace=True)\n",
    "agg_result[\"date\"] = pd.to_datetime(orders[\"time\"].dt.date)"
   ]
  },
  {
   "cell_type": "code",
   "execution_count": null,
   "id": "5852ba4b-e8b4-4286-a5a4-2241c783e29a",
   "metadata": {},
   "outputs": [],
   "source": [
    "# Group by date and itemID\n",
    "agg_result_temp = agg_result.copy()\n",
    "agg_result_temp['weighted_price_temp'] = agg_result_temp['salesPrice'] / agg_result_temp['order']\n",
    "\n",
    "# Aggregate the different columns in particular way\n",
    "agg_result = agg_result_temp.groupby([\"date\", \"itemID\"]).agg({\n",
    "    'order': 'sum',\n",
    "    'weighted_price_temp': 'mean',\n",
    "    'in_promotion': 'max'\n",
    "}).rename(columns={'weighted_price_temp': 'weightedAveragePrice'}).reset_index()"
   ]
  },
  {
   "cell_type": "code",
   "execution_count": null,
   "id": "ca6e052f-fbb3-4514-ba69-fb326d0f6b09",
   "metadata": {},
   "outputs": [],
   "source": [
    "# Set column types\n",
    "agg_result[\"order\"] = agg_result[\"order\"].astype(int)\n",
    "agg_result[\"itemID\"] = agg_result[\"itemID\"].astype(\"category\")\n",
    "agg_result[\"in_promotion\"] = agg_result[\"in_promotion\"].astype(bool)"
   ]
  },
  {
   "cell_type": "markdown",
   "id": "fab26bec-1301-4ed4-924a-c717c84bb3b3",
   "metadata": {},
   "source": [
    "## Customer rating indicator"
   ]
  },
  {
   "cell_type": "code",
   "execution_count": null,
   "id": "31c722d7-5b89-4bc1-ba49-c331c64e9ab1",
   "metadata": {},
   "outputs": [],
   "source": [
    "# Add column idicating if customer rating is missing\n",
    "items[\"customerRatingIndicator\"] = items[\"customerRating\"] == 0"
   ]
  },
  {
   "cell_type": "code",
   "execution_count": null,
   "id": "42c184c4-4c49-4c1a-98f4-1d616149f237",
   "metadata": {},
   "outputs": [],
   "source": [
    "# Join the aggregated order table with items\n",
    "joined_tables = agg_result.join(items, how=\"left\", on=\"itemID\", rsuffix=\"infos\")\n",
    "result = joined_tables.drop(columns=\"itemIDinfos\")\n",
    "result.head()"
   ]
  },
  {
   "cell_type": "code",
   "execution_count": null,
   "id": "5e062f60-0a9c-49d2-8e65-d0d7c47aed2c",
   "metadata": {},
   "outputs": [],
   "source": [
    "# Set the colum names of the merged tables\n",
    "result[\"itemID\"] = result[\"itemID\"].astype(\"category\")\n",
    "result[\"brand\"] = result[\"brand\"].astype(\"category\")\n",
    "result[\"manufacturer\"] = result[\"manufacturer\"].astype(\"category\")\n",
    "#result[\"customerRating\"] = result[\"customerRating\"].astype(int)\n",
    "result[\"category1\"] = result[\"category1\"].astype(\"category\")\n",
    "result[\"category2\"] = result[\"category2\"].astype(\"category\")\n",
    "result[\"category3\"] = result[\"category3\"].astype(\"category\")\n",
    "result[\"recommendedRetailPrice\"] = result[\"recommendedRetailPrice\"].astype(float)"
   ]
  },
  {
   "cell_type": "code",
   "execution_count": null,
   "id": "c6a12b0b-c119-4298-9d8c-0490d592958c",
   "metadata": {},
   "outputs": [],
   "source": [
    "result.dtypes"
   ]
  },
  {
   "cell_type": "code",
   "execution_count": null,
   "id": "2a653e6c-848a-4402-90c6-5542ea580445",
   "metadata": {},
   "outputs": [],
   "source": [
    "result.head()"
   ]
  },
  {
   "cell_type": "markdown",
   "id": "6ffa4865-51d8-44f4-852b-8f5952b33ec6",
   "metadata": {},
   "source": [
    "## Discount of recommended price"
   ]
  },
  {
   "cell_type": "code",
   "execution_count": null,
   "id": "77def6c5-c61f-4539-8faf-0e2d06b9624a",
   "metadata": {},
   "outputs": [],
   "source": [
    "# Calculate the recommended price discount\n",
    "result[\"recommendedRetailPriceDiscount\"] = (result[\"weightedAveragePrice\"] - result[\"recommendedRetailPrice\"]) / result[\"recommendedRetailPrice\"]"
   ]
  },
  {
   "cell_type": "markdown",
   "id": "d1e46572-07aa-44df-92a0-68b70fd300c7",
   "metadata": {},
   "source": [
    "## Date and time features"
   ]
  },
  {
   "cell_type": "code",
   "execution_count": null,
   "id": "e04baf97-8809-4654-89cd-0636d8ddcd1f",
   "metadata": {},
   "outputs": [],
   "source": [
    "# Add date features\n",
    "result[\"weekDay\"] = result[\"date\"].dt.weekday + 1\n",
    "result[\"day\"] = result[\"date\"].dt.day\n",
    "result[\"week\"] = result[\"date\"].dt.isocalendar().week\n",
    "result[\"weekOfMonth\"] = result[\"date\"].apply(\n",
    "    lambda row: (row.day + row.replace(day=1).weekday()) // 7 + 1\n",
    ")"
   ]
  },
  {
   "cell_type": "code",
   "execution_count": null,
   "id": "cbf54694-65f0-455b-8341-24edf85a4634",
   "metadata": {},
   "outputs": [],
   "source": [
    "result.head()"
   ]
  },
  {
   "cell_type": "markdown",
   "id": "c6c4c9ca-dcd6-4e00-911b-5e2af4cf9e84",
   "metadata": {},
   "source": [
    "## Lagging features"
   ]
  },
  {
   "cell_type": "markdown",
   "id": "3fa795a1-cf7b-41c5-9d48-f82bf1feebd7",
   "metadata": {},
   "source": [
    "## Rolling windows"
   ]
  },
  {
   "cell_type": "markdown",
   "id": "85625ada-4b3d-4af6-ac1a-3255ea8b8bb4",
   "metadata": {},
   "source": [
    "## Filter"
   ]
  },
  {
   "cell_type": "code",
   "execution_count": null,
   "id": "39ee54a8-d938-4c36-acf6-2358680d41d8",
   "metadata": {},
   "outputs": [],
   "source": [
    "# Interquartile, z-score"
   ]
  },
  {
   "cell_type": "markdown",
   "id": "3fcdb5c9-4f75-456c-8ca9-781cbb7cc261",
   "metadata": {},
   "source": [
    "## FFT"
   ]
  },
  {
   "cell_type": "markdown",
   "id": "998fd33c-3784-4c3d-aa36-f5009e17f198",
   "metadata": {},
   "source": [
    "## Nonlinear transformations"
   ]
  },
  {
   "cell_type": "markdown",
   "id": "24dfd573-ac9c-485b-997f-7239256cb123",
   "metadata": {},
   "source": [
    "## Zeros - data cleaning"
   ]
  },
  {
   "cell_type": "markdown",
   "id": "815354b8-8bdf-48df-a8cf-bbf009177881",
   "metadata": {},
   "source": [
    "# Normalization"
   ]
  },
  {
   "cell_type": "code",
   "execution_count": null,
   "id": "c4b253a7-c085-4400-81ee-c3e5c9b847ec",
   "metadata": {},
   "outputs": [],
   "source": [
    "result.groupby(\"in_promotion\")[[\"order\", \"weightedAveragePrice\"]].apply(lambda x: (x[\"order\"]*x[\"weightedAveragePrice\"]).sum()) / result.groupby(\"in_promotion\")[\"order\"].size()"
   ]
  },
  {
   "cell_type": "code",
   "execution_count": null,
   "id": "d32a2039-c3ce-4ca3-ba93-7159855178e3",
   "metadata": {},
   "outputs": [],
   "source": [
    "result.groupby(\"in_promotion\")[\"order\"].sum() / result.groupby(\"in_promotion\")[\"order\"].size()"
   ]
  },
  {
   "cell_type": "code",
   "execution_count": null,
   "id": "e087e8b5-f344-45f9-a9cc-fa2e04e55c5d",
   "metadata": {},
   "outputs": [],
   "source": [
    "result.to_csv(\"results.csv\", index=False)"
   ]
  },
  {
   "cell_type": "code",
   "execution_count": null,
   "id": "0f6cef73-ea12-4311-a4de-cd16dea8c75b",
   "metadata": {},
   "outputs": [],
   "source": [
    "result.shape"
   ]
  },
  {
   "cell_type": "code",
   "execution_count": null,
   "id": "e4907f0e-2e13-4f9f-84c3-f82566475a21",
   "metadata": {},
   "outputs": [],
   "source": [
    "# Sample of products\n",
    "sampled_product_ids = result[\"itemID\"].astype(int).unique()\n",
    "sampled_product_ids = pd.Series(sampled_product_ids).sample(n=100, random_state=1)\n",
    "sampled_data = result[result[\"itemID\"].isin(sampled_product_ids)].copy()"
   ]
  },
  {
   "cell_type": "code",
   "execution_count": null,
   "id": "66cb5c53-1c45-48b5-b809-6fdb3e1e9f65",
   "metadata": {},
   "outputs": [],
   "source": [
    "# Calculate days from start (starting from day 1)\n",
    "sampled_data['days_from_start'] = (sampled_data.loc[:, 'date'] - sampled_data.loc[:, 'date'].min()).dt.days + 1\n",
    "\n",
    "# Sort data by itemID and days to ensure proper line connections\n",
    "sampled_data = sampled_data.sort_values(['itemID', 'days_from_start']).reset_index(drop=True)\n",
    "\n",
    "# Define sizes based on discount (scale for visibility) - recalculate after reset_index\n",
    "sizes = 5 + (sampled_data['recommendedRetailPriceDiscount'] * 2)\n",
    "\n",
    "# Create the 3D scatter plot\n",
    "fig = go.Figure()\n",
    "\n",
    "# Define marker symbols for promotion status\n",
    "marker_symbols = {True: 'diamond', False: 'circle'}\n",
    "\n",
    "# Create separate traces for each itemID and promotion status combination\n",
    "# This ensures promotion status changes are visible as different line segments\n",
    "first_item_id = sampled_data['itemID'].iloc[0]  # Get first item ID as Python value\n",
    "\n",
    "for item_id in sampled_data['itemID'].unique():\n",
    "    item_data = sampled_data[sampled_data['itemID'] == item_id]\n",
    "    \n",
    "    for promo_status in [True, False]:\n",
    "        mask = item_data['in_promotion'] == promo_status\n",
    "        if mask.any():\n",
    "            subset = item_data.loc[mask].sort_values('days_from_start')\n",
    "            \n",
    "            # Get the sizes for this subset (using loc to get the right indices)\n",
    "            subset_sizes = 5 + (subset['recommendedRetailPriceDiscount'] * 2)\n",
    "            \n",
    "            fig.add_trace(go.Scatter3d(\n",
    "                x=subset['order'],\n",
    "                y=subset['days_from_start'].astype(int),\n",
    "                z=subset['weightedAveragePrice'],\n",
    "                mode='lines+markers',  # Changed to include lines\n",
    "                line=dict(\n",
    "                    color='red' if promo_status else 'blue',\n",
    "                    width=2\n",
    "                ),\n",
    "                marker=dict(\n",
    "                    size=subset_sizes,\n",
    "                    color=subset['customerRating'],\n",
    "                    colorscale='Viridis',\n",
    "                    symbol=marker_symbols[promo_status],\n",
    "                    opacity=0.8,\n",
    "                    colorbar=dict(\n",
    "                        title=\"Customer Rating\",\n",
    "                        x=1.1\n",
    "                    ) if item_id == first_item_id and promo_status == True else None,\n",
    "                    showscale=bool(item_id == first_item_id and promo_status == True)\n",
    "                ),\n",
    "                name=f'Item {item_id} - Promo: {promo_status}',\n",
    "                legendgroup=f'promo_{promo_status}',  # Group legend items\n",
    "                legendgrouptitle_text=f'Promotion: {promo_status}',\n",
    "                showlegend=bool(item_id == first_item_id),  # Only show legend for first item\n",
    "                hovertemplate=(\n",
    "                    f'<b>Item ID:</b> {item_id}<br>' +\n",
    "                    '<b>Order:</b> %{x}<br>' +\n",
    "                    '<b>Days:</b> %{y}<br>' +\n",
    "                    '<b>Price:</b> %{z:.2f}<br>' +\n",
    "                    '<b>Rating:</b> %{marker.color}<br>' +\n",
    "                    '<b>Promotion:</b> ' + str(promo_status) + '<br>' +\n",
    "                    '<extra></extra>'\n",
    "                )\n",
    "            ))\n",
    "\n",
    "# Update layout\n",
    "fig.update_layout(\n",
    "    title={\n",
    "        'text': 'Product Trajectories Over Time<br><sub>Lines connect same items, Shape=Promotion, Color=Rating, Size=Discount</sub>',\n",
    "        'x': 0.5,\n",
    "        'xanchor': 'center'\n",
    "    },\n",
    "    scene=dict(\n",
    "        xaxis_title='Order Quantity',\n",
    "        yaxis_title='Days from Start',\n",
    "        zaxis_title='Weighted Average Price',\n",
    "        camera=dict(\n",
    "            eye=dict(x=1.5, y=1.5, z=1.5)\n",
    "        )\n",
    "    ),\n",
    "    width=1200,\n",
    "    height=900,\n",
    "    showlegend=True,\n",
    "    legend=dict(\n",
    "        yanchor=\"top\",\n",
    "        y=0.99,\n",
    "        xanchor=\"left\",\n",
    "        x=0.01\n",
    "    )\n",
    ")\n",
    "\n",
    "# Add annotation for explanation\n",
    "fig.add_annotation(\n",
    "    text=\"Lines: Connect same items over time<br>\" +\n",
    "         \"Line Color: Red=Promotion, Blue=Regular<br>\" +\n",
    "         \"Marker Shape: Diamond=Promotion, Circle=Regular<br>\" +\n",
    "         \"Marker Color: Customer Rating<br>\" +\n",
    "         \"Marker Size: Discount Percentage\",\n",
    "    xref=\"paper\", yref=\"paper\",\n",
    "    x=0.02, y=0.02,\n",
    "    showarrow=False,\n",
    "    font=dict(size=10),\n",
    "    bgcolor=\"rgba(255,255,255,0.9)\",\n",
    "    bordercolor=\"black\",\n",
    "    borderwidth=1\n",
    ")\n",
    "\n",
    "# Show the plot\n",
    "fig.show()"
   ]
  },
  {
   "cell_type": "markdown",
   "id": "faca6900-d49a-446e-84e1-b5c798e2f073",
   "metadata": {},
   "source": [
    "# Data statistics"
   ]
  },
  {
   "cell_type": "code",
   "execution_count": null,
   "id": "fce43cc9-568e-443a-a735-4b163c01b166",
   "metadata": {},
   "outputs": [],
   "source": [
    "# Variance, mean, median, and distribition of order quantity, price, discount and customer rating"
   ]
  },
  {
   "cell_type": "code",
   "execution_count": null,
   "id": "fd79163d-efc6-4b31-8686-6673c81b08d9",
   "metadata": {},
   "outputs": [],
   "source": [
    "# Option 1: Simple histogram of order per day\n",
    "fig1 = px.histogram(\n",
    "    result.groupby(\"date\")[\"order\"].sum(), \n",
    "    x='order', \n",
    "    title='Distribution of Order Quantities per Day',\n",
    "    labels={'order': 'Order Quantity', 'count': 'Frequency'},\n",
    "    nbins=30\n",
    ")\n",
    "fig1.update_layout(\n",
    "    xaxis_title='Order Quantity',\n",
    "    yaxis_title='Frequency',\n",
    "    width=800,\n",
    "    height=500\n",
    ")\n",
    "fig1.show()\n",
    "\n",
    "order_totals = result.groupby(\"itemID\")[\"order\"].sum()\n",
    "item_stats = result.groupby(\"itemID\").agg({\n",
    "    \"order\": \"sum\",\n",
    "    \"in_promotion\": \"any\"  # or \"any\" if you want items that were ever in promotion\n",
    "}).reset_index()\n",
    "promo_orders = item_stats[item_stats['in_promotion'] == True]['order']\n",
    "regular_orders = item_stats[item_stats['in_promotion'] == False]['order']\n",
    "\n",
    "# Option 2: Simple histogram of order per day\n",
    "fig2 = make_subplots(\n",
    "    rows=1, cols=2,\n",
    "    subplot_titles=[\n",
    "        'Distribution of Order Quantities per Item',\n",
    "        'Distribution of Order Quantities by Promotion Status'\n",
    "    ],\n",
    "    horizontal_spacing=0.1\n",
    ")\n",
    "\n",
    "# First subplot (same as above)\n",
    "fig2.add_trace(\n",
    "    go.Histogram(\n",
    "        x=order_totals,\n",
    "        name=\"Total Orders per Item\",\n",
    "        showlegend=False,\n",
    "        opacity=0.7,\n",
    "        nbinsx=30\n",
    "    ),\n",
    "    row=1, col=1\n",
    ")\n",
    "\n",
    "# Second subplot with side-by-side bars\n",
    "fig2.add_trace(\n",
    "    go.Histogram(\n",
    "        x=regular_orders,\n",
    "        name=\"Regular Price\",\n",
    "        opacity=0.7,\n",
    "        nbinsx=30,\n",
    "        marker_color='blue'\n",
    "    ),\n",
    "    row=1, col=2\n",
    ")\n",
    "\n",
    "fig2.add_trace(\n",
    "    go.Histogram(\n",
    "        x=promo_orders,\n",
    "        name=\"In Promotion\",\n",
    "        opacity=0.7,\n",
    "        nbinsx=30,\n",
    "        marker_color='red'\n",
    "    ),\n",
    "    row=1, col=2\n",
    ")\n",
    "fig2.update_layout(\n",
    "    title_text=\"Distribution of Order Quantities (Side-by-side)\",\n",
    "    height=600,\n",
    "    width=1200,\n",
    "    barmode='group'  # Side-by-side bars\n",
    ")\n",
    "\n",
    "fig2.update_xaxes(title_text=\"Total Order Quantity\", row=1, col=1)\n",
    "fig2.update_xaxes(title_text=\"Total Order Quantity\", row=1, col=2)\n",
    "fig2.update_yaxes(title_text=\"Number of Items\", row=1, col=1)\n",
    "fig2.update_yaxes(title_text=\"Number of Items\", row=1, col=2)\n",
    "\n",
    "fig2.show()\n",
    "\n",
    "# 3 Price distribution\n",
    "fig3 = px.histogram(\n",
    "    result,\n",
    "    x='weightedAveragePrice', \n",
    "    title='Distribution of Weighted Average Price',\n",
    "    labels={'weightedAveragePrice': 'Weighted Average Price', 'count': 'Frequency'},\n",
    "    nbins=30\n",
    ")\n",
    "fig3.update_layout(\n",
    "    xaxis_title='Weighted Average Price',\n",
    "    yaxis_title='Frequency',\n",
    "    width=800,\n",
    "    height=500\n",
    ")\n",
    "fig3.show()"
   ]
  },
  {
   "cell_type": "code",
   "execution_count": null,
   "id": "492a8fcd-acc8-40c6-a54e-e51ac88b50f1",
   "metadata": {},
   "outputs": [],
   "source": [
    "log_order = result[[\"date\", \"itemID\", \"order\", \"we\"]].copy()\n",
    "log_order[\"order\"] = np.log(log_order[\"order\"])\n",
    "fig1 = px.histogram(\n",
    "    log_order.groupby(\"date\")[\"order\"].sum(), \n",
    "    x='order', \n",
    "    title='Distribution of Log of Order Quantities per Day',\n",
    "    labels={'order': 'Log of Order Quantity', 'count': 'Frequency'},\n",
    "    nbins=30\n",
    ")\n",
    "fig1.update_layout(\n",
    "    xaxis_title='Order Quantity',\n",
    "    yaxis_title='Frequency',\n",
    "    width=800,\n",
    "    height=500\n",
    ")\n",
    "fig1.show()"
   ]
  },
  {
   "cell_type": "code",
   "execution_count": null,
   "id": "c8afeb5d-1204-4c14-957d-522ba79a372e",
   "metadata": {},
   "outputs": [],
   "source": [
    "fig1 = px.histogram(\n",
    "    result, \n",
    "    x='order', \n",
    "    title='Distribution of Log of Order Quantities per Day',\n",
    "    labels={'order': 'Log of Order Quantity', 'count': 'Frequency'},\n",
    "    nbins=30\n",
    ")\n",
    "fig1.update_layout(\n",
    "    xaxis_title='Order Quantity',\n",
    "    yaxis_title='Frequency',\n",
    "    width=800,\n",
    "    height=500\n",
    ")\n",
    "fig1.show()\n",
    "\n",
    "log_order = result[[\"date\", \"itemID\", \"order\", \"weekDay\", \"in_promotion\"]].copy()\n",
    "log_order[\"order\"] = np.log(log_order[\"order\"])\n",
    "fig2 = px.histogram(\n",
    "    log_order, \n",
    "    x='order',\n",
    "    title='Distribution of Log of Order Quantities per Day',\n",
    "    labels={'order': 'Log of Order Quantity', 'count': 'Frequency'},\n",
    "    nbins=30\n",
    ")\n",
    "fig2.update_layout(\n",
    "    xaxis_title='Order Quantity',\n",
    "    yaxis_title='Frequency',\n",
    "    width=800,\n",
    "    height=500\n",
    ")\n",
    "fig2.show()"
   ]
  },
  {
   "cell_type": "code",
   "execution_count": null,
   "id": "9f278ec3-e154-4c1a-af51-868e7d3ea53d",
   "metadata": {},
   "outputs": [],
   "source": [
    "fig1 = px.histogram(\n",
    "    result, \n",
    "    x='order', \n",
    "    title='Distribution of Log of Order Quantities per Day',\n",
    "    labels={'order': 'Log of Order Quantity', 'count': 'Frequency'},\n",
    "    nbins=30\n",
    ")\n",
    "fig1.update_layout(\n",
    "    xaxis_title='Order Quantity',\n",
    "    yaxis_title='Frequency',\n",
    "    width=800,\n",
    "    height=500\n",
    ")\n",
    "fig1.show()\n",
    "\n",
    "log_order = result[[\"date\", \"itemID\", \"order\", \"weekDay\", \"in_promotion\"]].copy()\n",
    "log_order[\"order\"] = np.log(log_order[\"order\"])\n",
    "fig2 = px.histogram(\n",
    "    log_order, \n",
    "    x='order',\n",
    "    title='Distribution of Log of Order Quantities per Day',\n",
    "    labels={'order': 'Log of Order Quantity', 'count': 'Frequency'},\n",
    "    nbins=30\n",
    ")\n",
    "fig2.update_layout(\n",
    "    xaxis_title='Order Quantity',\n",
    "    yaxis_title='Frequency',\n",
    "    width=800,\n",
    "    height=500\n",
    ")\n",
    "fig2.show()"
   ]
  },
  {
   "cell_type": "markdown",
   "id": "488b1e30-1ea7-4f37-a312-a0d14097be5a",
   "metadata": {},
   "source": [
    "# Models"
   ]
  },
  {
   "cell_type": "markdown",
   "id": "b637bc24-2d40-4946-808f-f62855f18e98",
   "metadata": {},
   "source": [
    "## XGBoost"
   ]
  },
  {
   "cell_type": "markdown",
   "id": "cba705e4-2232-47c5-a64f-183a826547c8",
   "metadata": {},
   "source": [
    "## Transformers - TimeGPT"
   ]
  },
  {
   "cell_type": "code",
   "execution_count": null,
   "id": "1a74aff8-dacf-4ddb-a2c4-cb89fd87e716",
   "metadata": {},
   "outputs": [],
   "source": [
    "# moirai"
   ]
  },
  {
   "cell_type": "markdown",
   "id": "d8306e66-1e71-4bf9-80e2-04e51098e4ca",
   "metadata": {},
   "source": [
    "## SARIMAX"
   ]
  },
  {
   "cell_type": "markdown",
   "id": "4360d76f-088a-4c13-aa5b-c6787b33677d",
   "metadata": {},
   "source": [
    "## Random forest"
   ]
  },
  {
   "cell_type": "markdown",
   "id": "edce25cf-73f9-4427-ae0c-d8d03173d6c8",
   "metadata": {},
   "source": [
    "## Ensemble of models"
   ]
  },
  {
   "cell_type": "markdown",
   "id": "baae949f-56d6-4e8c-a65e-3a704041f0e2",
   "metadata": {},
   "source": [
    "## SES"
   ]
  },
  {
   "cell_type": "code",
   "execution_count": null,
   "id": "fc3b5ba3-5c4b-4a26-ac22-b7693666910a",
   "metadata": {},
   "outputs": [],
   "source": []
  }
 ],
 "metadata": {
  "kernelspec": {
   "display_name": "summer-school-2025-env",
   "language": "python",
   "name": "myenv"
  },
  "language_info": {
   "codemirror_mode": {
    "name": "ipython",
    "version": 3
   },
   "file_extension": ".py",
   "mimetype": "text/x-python",
   "name": "python",
   "nbconvert_exporter": "python",
   "pygments_lexer": "ipython3",
   "version": "3.13.5"
  }
 },
 "nbformat": 4,
 "nbformat_minor": 5
}
