{
 "cells": [
  {
   "cell_type": "code",
   "execution_count": 1,
   "metadata": {},
   "outputs": [],
   "source": [
    "import pandas as pd\n",
    "import numpy as np\n",
    "import matplotlib.pyplot as plt\n",
    "import tensorflow as tf"
   ]
  },
  {
   "cell_type": "code",
   "execution_count": 2,
   "metadata": {},
   "outputs": [],
   "source": [
    "orders = pd.read_csv(\"orders.csv.zip\", sep=\"|\")"
   ]
  },
  {
   "cell_type": "code",
   "execution_count": 3,
   "metadata": {},
   "outputs": [],
   "source": [
    "orders['time'] = pd.to_datetime(orders['time'])\n",
    "orders['day_of_week'] = orders['time'].dt.day_of_week\n",
    "orders['week_of_month'] = (orders['time'].dt.day - 1) // 7 + 1\n",
    "orders['orderValue'] = orders['order'] * orders['salesPrice']"
   ]
  },
  {
   "cell_type": "code",
   "execution_count": null,
   "metadata": {},
   "outputs": [],
   "source": [
    "orders"
   ]
  },
  {
   "cell_type": "code",
   "execution_count": null,
   "metadata": {},
   "outputs": [],
   "source": [
    "total_orders = orders.groupby([orders['time'].dt.date, orders['itemID']])['order'].sum().unstack(1).fillna(0)\n",
    "total_values = orders.groupby([orders['time'].dt.date, orders['itemID']])['orderValue'].sum().unstack(1).fillna(0)\n",
    "total_orders.isna().sum().any()"
   ]
  },
  {
   "cell_type": "code",
   "execution_count": 6,
   "metadata": {},
   "outputs": [],
   "source": [
    "def split_series(series):\n",
    "    vals = series.values[:166]\n",
    "    X_train, y_train = [], []\n",
    "    for i in range(0, 166, 14):\n",
    "        _x = vals[i: i+36]\n",
    "        if len(_x) != 36:\n",
    "            continue\n",
    "        \n",
    "        _y = vals[i+36: i+36+14]\n",
    "        if len(_y) != 14:\n",
    "            continue\n",
    "\n",
    "        j = i\n",
    "        _y = _y.sum()\n",
    "    \n",
    "        X_train.append(_x)\n",
    "        y_train.append(_y)\n",
    "\n",
    "    X_test = [series.values[130: 130+36]]\n",
    "    y_test = [series.values[130+36: 130+36+14].sum()]\n",
    "\n",
    "    return np.array(X_train), np.array(y_train), np.array(X_test), np.array(y_test)"
   ]
  },
  {
   "cell_type": "code",
   "execution_count": 7,
   "metadata": {},
   "outputs": [],
   "source": [
    "def get_train_data(df):\n",
    "    X_train, y_train, X_test, y_test = [], [], [], []\n",
    "    for c in df.columns:\n",
    "        x_tr, y_tr, x_te, y_te = split_series(df[c])\n",
    "        X_train.extend(x_tr)\n",
    "        y_train.extend(y_tr)\n",
    "        X_test.extend(x_te)\n",
    "        y_test.extend(y_te)\n",
    "    return np.array(X_train), np.array(y_train), np.array(X_test), np.array(y_test)"
   ]
  },
  {
   "cell_type": "code",
   "execution_count": 8,
   "metadata": {},
   "outputs": [],
   "source": [
    "X_train, y_train, X_test, y_test = get_train_data(total_orders)"
   ]
  },
  {
   "cell_type": "code",
   "execution_count": null,
   "metadata": {},
   "outputs": [],
   "source": [
    "X_train.shape, X_test.shape"
   ]
  },
  {
   "cell_type": "code",
   "execution_count": 10,
   "metadata": {},
   "outputs": [],
   "source": [
    "np.random.seed(42)\n",
    "i = np.random.permutation(len(X_train))"
   ]
  },
  {
   "cell_type": "code",
   "execution_count": 11,
   "metadata": {},
   "outputs": [],
   "source": [
    "X_train = X_train[i]\n",
    "y_train = y_train[i]"
   ]
  },
  {
   "cell_type": "code",
   "execution_count": 12,
   "metadata": {},
   "outputs": [],
   "source": [
    "_max = X_train.max()\n",
    "_min = X_train.min()"
   ]
  },
  {
   "cell_type": "code",
   "execution_count": 13,
   "metadata": {},
   "outputs": [],
   "source": [
    "X_train = (X_train - _min) / (_max - _min)\n",
    "X_test = (X_test - _min) / (_max - _min)"
   ]
  },
  {
   "cell_type": "code",
   "execution_count": null,
   "metadata": {},
   "outputs": [],
   "source": [
    "X_train.shape"
   ]
  },
  {
   "cell_type": "code",
   "execution_count": 18,
   "metadata": {},
   "outputs": [],
   "source": [
    "X_train = X_train.reshape(-1, 36, 1)"
   ]
  },
  {
   "cell_type": "code",
   "execution_count": 19,
   "metadata": {},
   "outputs": [],
   "source": [
    "input_shape = X_train.shape[1:]\n",
    "num_blocks = 1\n",
    "num_layers_per_block = 3\n",
    "filters = 16\n",
    "batch_norm = True\n",
    "dropout = 0.1\n",
    "dense_layers = 128\n",
    "output_shape = 1\n",
    "out_activation = \"linear\"\n",
    "loss = 'mse'\n",
    "metrics = ['mae']"
   ]
  },
  {
   "cell_type": "code",
   "execution_count": null,
   "metadata": {},
   "outputs": [],
   "source": [
    "inputs = tf.keras.Input(shape=input_shape)\n",
    "x = inputs\n",
    "for _ in range(num_blocks):\n",
    "    for i in range(num_layers_per_block):\n",
    "        dilation_rate = 2 ** i  \n",
    "        x = tf.keras.layers.Conv1D(filters, kernel_size=2, dilation_rate=dilation_rate, padding='causal')(x)\n",
    "        if batch_norm:\n",
    "            x = tf.keras.layers.BatchNormalization()(x)\n",
    "        x = tf.keras.layers.Activation('relu')(x)\n",
    "\n",
    "x = tf.keras.layers.GlobalAveragePooling1D()(x)\n",
    "\n",
    "x = tf.keras.layers.Dense(dense_layers, activation='relu')(x)\n",
    "if dropout is not None:\n",
    "    x = tf.keras.layers.Dropout(dropout)(x)\n",
    "\n",
    "x = tf.keras.layers.Dense(dense_layers // 2, activation='relu')(x)\n",
    "if dropout is not None:\n",
    "    x = tf.keras.layers.Dropout(dropout)(x)\n",
    "\n",
    "x = tf.keras.layers.Dense(dense_layers // 4, activation='relu')(x)\n",
    "if dropout is not None:\n",
    "    x = tf.keras.layers.Dropout(dropout)(x)\n",
    "\n",
    "x = tf.keras.layers.Dense(output_shape, activation=out_activation)(x)\n",
    "\n",
    "model = tf.keras.Model(inputs=inputs, outputs=x)\n",
    "model.compile(optimizer='adam', loss=loss, metrics=metrics)\n",
    "model.summary()"
   ]
  },
  {
   "cell_type": "code",
   "execution_count": null,
   "metadata": {},
   "outputs": [],
   "source": [
    "model.fit(X_train, y_train, epochs=5, batch_size=32)"
   ]
  },
  {
   "cell_type": "code",
   "execution_count": null,
   "metadata": {},
   "outputs": [],
   "source": []
  }
 ],
 "metadata": {
  "kernelspec": {
   "display_name": "case-automated-inventory-management-execut-tVQubp4F",
   "language": "python",
   "name": "python3"
  },
  "language_info": {
   "codemirror_mode": {
    "name": "ipython",
    "version": 3
   },
   "file_extension": ".py",
   "mimetype": "text/x-python",
   "name": "python",
   "nbconvert_exporter": "python",
   "pygments_lexer": "ipython3",
   "version": "3.12.1"
  }
 },
 "nbformat": 4,
 "nbformat_minor": 2
}
